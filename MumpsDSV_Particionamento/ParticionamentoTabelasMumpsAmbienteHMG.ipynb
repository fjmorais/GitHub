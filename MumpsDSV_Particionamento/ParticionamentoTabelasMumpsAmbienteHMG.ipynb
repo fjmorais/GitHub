{
    "metadata": {
        "kernelspec": {
            "name": "SQL",
            "display_name": "SQL",
            "language": "sql"
        },
        "language_info": {
            "name": "sql",
            "version": ""
        }
    },
    "nbformat_minor": 2,
    "nbformat": 4,
    "cells": [
        {
            "cell_type": "markdown",
            "source": "\r\n-- RS de Atendimento: 615258\r\n\r\n-- DATA 06/10/2020\r\n\r\n-- OBJETIVO: Particionar a tabela dlkmumps.[tb_certificadosClb], pois a mesma tem a expectativa de 20 anos de dados e com isso a possibilidade de mais de 100 milhões de registros\r\n\r\n-- QUANTIDADE DE LINHAS POR FRONTEIRA DE DADOS: 30 MILHÕES.\r\n\r\n-- CAUSA RAIZ: Devido ao grande volume de dados, queremos dar a possibilidade do Attunity fazer a carga Full utilizando do paralelismo, que somente é possível por meio do particionamento\r\n",
            "metadata": {}
        },
        {
            "cell_type": "markdown",
            "source": "\r\n\r\n\r\n\r\n",
            "metadata": {}
        },
        {
            "cell_type": "markdown",
            "source": "-- Código abaixo representa a quantidade de linhas por tabela no dia 06-10-2020.\r\n\r\n-- Organizado pelas 10 maiores tabelas do banco de dados até em então.",
            "metadata": {}
        },
        {
            "cell_type": "markdown",
            "source": "-- Importante habilitar inicialmente a opção de estatísticas incrementais para que o particionamento tire proveito das estatísticas criadas pelo SQL Server por fronteira.",
            "metadata": {}
        },
        {
            "cell_type": "code",
            "source": "USE [master]\r\nGO\r\nALTER DATABASE [DLKMUMPS] SET AUTO_CREATE_STATISTICS ON(INCREMENTAL = ON)\r\nGO\r\n",
            "metadata": {},
            "outputs": [],
            "execution_count": 0
        },
        {
            "cell_type": "code",
            "source": "USE\r\nDLKMUMPS\r\nGO\r\n\r\n\r\nSELECT TOP 10\r\n    t.NAME AS TableName,\r\n    s.Name AS SchemaName,\r\n    p.rows,\r\n    SUM(a.total_pages) * 8 AS TotalSpaceKB, \r\n    CAST(ROUND(((SUM(a.total_pages) * 8) / 1024.00), 2) AS NUMERIC(36, 2)) AS TotalSpaceMB,\r\n    SUM(a.used_pages) * 8 AS UsedSpaceKB, \r\n    CAST(ROUND(((SUM(a.used_pages) * 8) / 1024.00), 2) AS NUMERIC(36, 2)) AS UsedSpaceMB, \r\n    (SUM(a.total_pages) - SUM(a.used_pages)) * 8 AS UnusedSpaceKB,\r\n    CAST(ROUND(((SUM(a.total_pages) - SUM(a.used_pages)) * 8) / 1024.00, 2) AS NUMERIC(36, 2)) AS UnusedSpaceMB\r\nFROM \r\n    sys.tables t\r\nINNER JOIN      \r\n    sys.indexes i ON t.OBJECT_ID = i.object_id\r\nINNER JOIN \r\n    sys.partitions p ON i.object_id = p.OBJECT_ID AND i.index_id = p.index_id\r\nINNER JOIN \r\n    sys.allocation_units a ON p.partition_id = a.container_id\r\nLEFT OUTER JOIN \r\n    sys.schemas s ON t.schema_id = s.schema_id\r\nWHERE \r\n    t.NAME NOT LIKE 'dt%' \r\n    AND t.is_ms_shipped = 0\r\n    AND i.OBJECT_ID > 255 \r\n\tand t.NAME = 'tb_coberturacertificadoClb'\r\nGROUP BY \r\n    t.Name, s.Name, p.Rows\r\nORDER BY \r\n    rows DESC, t.Name\r\n\r\n\t",
            "metadata": {},
            "outputs": [
                {
                    "output_type": "display_data",
                    "data": {
                        "text/html": "(10 rows affected)"
                    },
                    "metadata": {}
                },
                {
                    "output_type": "display_data",
                    "data": {
                        "text/html": "Total execution time: 00:00:00.1223191"
                    },
                    "metadata": {}
                },
                {
                    "output_type": "execute_result",
                    "metadata": {},
                    "execution_count": 4,
                    "data": {
                        "application/vnd.dataresource+json": {
                            "schema": {
                                "fields": [
                                    {
                                        "name": "TableName"
                                    },
                                    {
                                        "name": "SchemaName"
                                    },
                                    {
                                        "name": "rows"
                                    },
                                    {
                                        "name": "TotalSpaceKB"
                                    },
                                    {
                                        "name": "TotalSpaceMB"
                                    },
                                    {
                                        "name": "UsedSpaceKB"
                                    },
                                    {
                                        "name": "UsedSpaceMB"
                                    },
                                    {
                                        "name": "UnusedSpaceKB"
                                    },
                                    {
                                        "name": "UnusedSpaceMB"
                                    }
                                ]
                            },
                            "data": [
                                {
                                    "0": "tb_coberturacertificadoClb",
                                    "1": "dlkmumps",
                                    "2": "12831289",
                                    "3": "1674312",
                                    "4": "1635,07",
                                    "5": "1073264",
                                    "6": "1048,11",
                                    "7": "601048",
                                    "8": "586,96"
                                },
                                {
                                    "0": "tb_certificadosClb",
                                    "1": "dlkmumps",
                                    "2": "5260290",
                                    "3": "3756720",
                                    "4": "3668,67",
                                    "5": "3463440",
                                    "6": "3382,27",
                                    "7": "293280",
                                    "8": "286,41"
                                },
                                {
                                    "0": "tb_historicomovimentacaoClb",
                                    "1": "dlkmumps",
                                    "2": "5247642",
                                    "3": "2416912",
                                    "4": "2360,27",
                                    "5": "2218344",
                                    "6": "2166,35",
                                    "7": "198568",
                                    "8": "193,91"
                                },
                                {
                                    "0": "tb_beneficiariosClb",
                                    "1": "dlkmumps",
                                    "2": "4719040",
                                    "3": "1425736",
                                    "4": "1392,32",
                                    "5": "1236528",
                                    "6": "1207,55",
                                    "7": "189208",
                                    "8": "184,77"
                                },
                                {
                                    "0": "tb_enderecosClb",
                                    "1": "dlkmumps",
                                    "2": "3026943",
                                    "3": "611208",
                                    "4": "596,88",
                                    "5": "539808",
                                    "6": "527,16",
                                    "7": "71400",
                                    "8": "69,73"
                                },
                                {
                                    "0": "tb_clientesClb",
                                    "1": "dlkmumps",
                                    "2": "2481548",
                                    "3": "1958568",
                                    "4": "1912,66",
                                    "5": "1808928",
                                    "6": "1766,53",
                                    "7": "149640",
                                    "8": "146,13"
                                },
                                {
                                    "0": "tb_certificadoassistenciasClb",
                                    "1": "dlkmumps",
                                    "2": "1820189",
                                    "3": "477768",
                                    "4": "466,57",
                                    "5": "395032",
                                    "6": "385,77",
                                    "7": "82736",
                                    "8": "80,80"
                                },
                                {
                                    "0": "tb_enderecosInd",
                                    "1": "dlkmumps",
                                    "2": "720182",
                                    "3": "158152",
                                    "4": "154,45",
                                    "5": "140800",
                                    "6": "137,50",
                                    "7": "17352",
                                    "8": "16,95"
                                },
                                {
                                    "0": "tb_clientesInd",
                                    "1": "dlkmumps",
                                    "2": "624270",
                                    "3": "493696",
                                    "4": "482,13",
                                    "5": "465768",
                                    "6": "454,85",
                                    "7": "27928",
                                    "8": "27,27"
                                },
                                {
                                    "0": "tb_coberturacertificadoVg",
                                    "1": "dlkmumps",
                                    "2": "418853",
                                    "3": "54728",
                                    "4": "53,45",
                                    "5": "35048",
                                    "6": "34,23",
                                    "7": "19680",
                                    "8": "19,22"
                                }
                            ]
                        },
                        "text/html": "<table><tr><th>TableName</th><th>SchemaName</th><th>rows</th><th>TotalSpaceKB</th><th>TotalSpaceMB</th><th>UsedSpaceKB</th><th>UsedSpaceMB</th><th>UnusedSpaceKB</th><th>UnusedSpaceMB</th></tr><tr><td>tb_coberturacertificadoClb</td><td>dlkmumps</td><td>12831289</td><td>1674312</td><td>1635,07</td><td>1073264</td><td>1048,11</td><td>601048</td><td>586,96</td></tr><tr><td>tb_certificadosClb</td><td>dlkmumps</td><td>5260290</td><td>3756720</td><td>3668,67</td><td>3463440</td><td>3382,27</td><td>293280</td><td>286,41</td></tr><tr><td>tb_historicomovimentacaoClb</td><td>dlkmumps</td><td>5247642</td><td>2416912</td><td>2360,27</td><td>2218344</td><td>2166,35</td><td>198568</td><td>193,91</td></tr><tr><td>tb_beneficiariosClb</td><td>dlkmumps</td><td>4719040</td><td>1425736</td><td>1392,32</td><td>1236528</td><td>1207,55</td><td>189208</td><td>184,77</td></tr><tr><td>tb_enderecosClb</td><td>dlkmumps</td><td>3026943</td><td>611208</td><td>596,88</td><td>539808</td><td>527,16</td><td>71400</td><td>69,73</td></tr><tr><td>tb_clientesClb</td><td>dlkmumps</td><td>2481548</td><td>1958568</td><td>1912,66</td><td>1808928</td><td>1766,53</td><td>149640</td><td>146,13</td></tr><tr><td>tb_certificadoassistenciasClb</td><td>dlkmumps</td><td>1820189</td><td>477768</td><td>466,57</td><td>395032</td><td>385,77</td><td>82736</td><td>80,80</td></tr><tr><td>tb_enderecosInd</td><td>dlkmumps</td><td>720182</td><td>158152</td><td>154,45</td><td>140800</td><td>137,50</td><td>17352</td><td>16,95</td></tr><tr><td>tb_clientesInd</td><td>dlkmumps</td><td>624270</td><td>493696</td><td>482,13</td><td>465768</td><td>454,85</td><td>27928</td><td>27,27</td></tr><tr><td>tb_coberturacertificadoVg</td><td>dlkmumps</td><td>418853</td><td>54728</td><td>53,45</td><td>35048</td><td>34,23</td><td>19680</td><td>19,22</td></tr></table>"
                    }
                }
            ],
            "execution_count": 4
        },
        {
            "cell_type": "markdown",
            "source": "A primeira tabela a ser particionada será a tb_coberturacertificadoClb, com um total de 12.831.289 milhões de registros.\r\n\r\nConforme definido em reunião, faremos a fronteira de partição de 30 milhões de registros cada.\r\n\r\nComo obter o nome pk existente na tabela.",
            "metadata": {}
        },
        {
            "cell_type": "code",
            "source": "\r\nUSE\r\nDLKMUMPS\r\nGO\r\n    \r\n    declare @databasename varchar(50)\r\n\tdeclare @tablename varchar(100)\r\n\t\t\r\n\tset @databasename = 'DLKMUMPS'\r\n\tset @tablename = 'tb_coberturacertificadoClb'\r\n\r\n\tSELECT cu.CONSTRAINT_NAME, cu.COLUMN_NAME \r\n\tFROM INFORMATION_SCHEMA.KEY_COLUMN_USAGE cu \r\n\tWHERE EXISTS ( SELECT tc.* FROM INFORMATION_SCHEMA.TABLE_CONSTRAINTS tc \r\n\tWHERE tc.CONSTRAINT_CATALOG = @databasename \r\n\tAND tc.TABLE_NAME = @tablename \r\n\tAND tc.CONSTRAINT_TYPE = 'PRIMARY KEY' \r\n\tAND tc.CONSTRAINT_NAME = cu.CONSTRAINT_NAME )\r\n\r\n\r\n\r\n\r\n\r\n\r\n",
            "metadata": {},
            "outputs": [
                {
                    "output_type": "display_data",
                    "data": {
                        "text/html": "Commands completed successfully."
                    },
                    "metadata": {}
                },
                {
                    "output_type": "display_data",
                    "data": {
                        "text/html": "Total execution time: 00:00:00.0017260"
                    },
                    "metadata": {}
                },
                {
                    "output_type": "display_data",
                    "data": {
                        "text/html": "(1 row affected)"
                    },
                    "metadata": {}
                },
                {
                    "output_type": "display_data",
                    "data": {
                        "text/html": "Total execution time: 00:00:00.0836381"
                    },
                    "metadata": {}
                },
                {
                    "output_type": "execute_result",
                    "metadata": {},
                    "execution_count": 15,
                    "data": {
                        "application/vnd.dataresource+json": {
                            "schema": {
                                "fields": [
                                    {
                                        "name": "CONSTRAINT_NAME"
                                    },
                                    {
                                        "name": "COLUMN_NAME"
                                    }
                                ]
                            },
                            "data": [
                                {
                                    "0": "PK_tb_coberturacertificadoClb",
                                    "1": "id_coberturacertificado"
                                }
                            ]
                        },
                        "text/html": "<table><tr><th>CONSTRAINT_NAME</th><th>COLUMN_NAME</th></tr><tr><td>PK_tb_coberturacertificadoClb</td><td>id_coberturacertificado</td></tr></table>"
                    }
                }
            ],
            "execution_count": 15
        },
        {
            "cell_type": "markdown",
            "source": "-- Retirar a tabela que faz parte do CDC\r\n-- Como Verificar se a tabela está no CDC",
            "metadata": {}
        },
        {
            "cell_type": "code",
            "source": "SELECT s.name AS Schema_Name, tb.name AS Table_Name\r\n, tb.object_id, tb.type, tb.type_desc, tb.is_tracked_by_cdc\r\nFROM sys.tables tb\r\nINNER JOIN sys.schemas s on s.schema_id = tb.schema_id\r\nWHERE tb.is_tracked_by_cdc = 1\r\nand s.name = 'dlkmumps'\r\nand tb.name = 'tb_coberturacertificadoClb'",
            "metadata": {},
            "outputs": [
                {
                    "output_type": "display_data",
                    "data": {
                        "text/html": "(1 row affected)"
                    },
                    "metadata": {}
                },
                {
                    "output_type": "display_data",
                    "data": {
                        "text/html": "Total execution time: 00:00:00.9680407"
                    },
                    "metadata": {}
                },
                {
                    "output_type": "execute_result",
                    "metadata": {},
                    "execution_count": 52,
                    "data": {
                        "application/vnd.dataresource+json": {
                            "schema": {
                                "fields": [
                                    {
                                        "name": "Schema_Name"
                                    },
                                    {
                                        "name": "Table_Name"
                                    },
                                    {
                                        "name": "object_id"
                                    },
                                    {
                                        "name": "type"
                                    },
                                    {
                                        "name": "type_desc"
                                    },
                                    {
                                        "name": "is_tracked_by_cdc"
                                    }
                                ]
                            },
                            "data": [
                                {
                                    "0": "dlkmumps",
                                    "1": "tb_coberturacertificadoClb",
                                    "2": "1397580017",
                                    "3": "U ",
                                    "4": "USER_TABLE",
                                    "5": "1"
                                }
                            ]
                        },
                        "text/html": "<table><tr><th>Schema_Name</th><th>Table_Name</th><th>object_id</th><th>type</th><th>type_desc</th><th>is_tracked_by_cdc</th></tr><tr><td>dlkmumps</td><td>tb_coberturacertificadoClb</td><td>1397580017</td><td>U </td><td>USER_TABLE</td><td>1</td></tr></table>"
                    }
                }
            ],
            "execution_count": 52
        },
        {
            "cell_type": "markdown",
            "source": "-- Retirar a Tabela do processo de CDC",
            "metadata": {}
        },
        {
            "cell_type": "code",
            "source": "-- Verificar tabela com  CDC\r\n\r\nUSE\r\nDLKMUMPS\r\nGO\r\n\r\n--EXEC sys.sp_cdc_help_change_data_capture\r\n--GO\r\n \r\nSELECT capture_instance as NomeTabelaCDC, OBJECT_NAME(source_object_id) as NomeTabelaDataSource, \r\n\r\n\r\nLEFT(\r\n        capture_instance, \r\n        CHARINDEX('_', capture_instance) -1        \r\n    ) schema_production\r\n    \r\nFROM cdc.change_tables\r\nwhere OBJECT_NAME(source_object_id) = 'tb_coberturacertificadoClb'\r\n\r\n",
            "metadata": {},
            "outputs": [
                {
                    "output_type": "display_data",
                    "data": {
                        "text/html": "Commands completed successfully."
                    },
                    "metadata": {}
                },
                {
                    "output_type": "display_data",
                    "data": {
                        "text/html": "Total execution time: 00:00:00.0323408"
                    },
                    "metadata": {}
                },
                {
                    "output_type": "display_data",
                    "data": {
                        "text/html": "(1 row affected)"
                    },
                    "metadata": {}
                },
                {
                    "output_type": "display_data",
                    "data": {
                        "text/html": "Total execution time: 00:00:00.1274693"
                    },
                    "metadata": {}
                },
                {
                    "output_type": "execute_result",
                    "metadata": {},
                    "execution_count": 56,
                    "data": {
                        "application/vnd.dataresource+json": {
                            "schema": {
                                "fields": [
                                    {
                                        "name": "NomeTabelaCDC"
                                    },
                                    {
                                        "name": "NomeTabelaDataSource"
                                    },
                                    {
                                        "name": "schema_production"
                                    }
                                ]
                            },
                            "data": [
                                {
                                    "0": "dlkmumps_tb_coberturacertificadoClb",
                                    "1": "tb_coberturacertificadoClb",
                                    "2": "dlkmumps"
                                }
                            ]
                        },
                        "text/html": "<table><tr><th>NomeTabelaCDC</th><th>NomeTabelaDataSource</th><th>schema_production</th></tr><tr><td>dlkmumps_tb_coberturacertificadoClb</td><td>tb_coberturacertificadoClb</td><td>dlkmumps</td></tr></table>"
                    }
                }
            ],
            "execution_count": 56
        },
        {
            "cell_type": "code",
            "source": "\r\nuse\r\nDLKMUMPS\r\nGO\r\n\r\n--Remover tabela com CDC\r\nEXEC sys.sp_cdc_disable_table\r\n    @source_schema = 'dlkmumps', -- sysname\r\n    @source_name = 'tb_coberturacertificadoClb', -- sysname\r\n    @capture_instance = 'dlkmumps_tb_coberturacertificadoClb' -- sysname\r\n\r\n",
            "metadata": {},
            "outputs": [
                {
                    "output_type": "display_data",
                    "data": {
                        "text/html": "Commands completed successfully."
                    },
                    "metadata": {}
                },
                {
                    "output_type": "display_data",
                    "data": {
                        "text/html": "Total execution time: 00:00:00.0226167"
                    },
                    "metadata": {}
                },
                {
                    "output_type": "display_data",
                    "data": {
                        "text/html": "Commands completed successfully."
                    },
                    "metadata": {}
                },
                {
                    "output_type": "display_data",
                    "data": {
                        "text/html": "Total execution time: 00:00:00.7591148"
                    },
                    "metadata": {}
                }
            ],
            "execution_count": 70
        },
        {
            "cell_type": "markdown",
            "source": "--Verificar se de fato a tabela saiu do CDC\r\n",
            "metadata": {}
        },
        {
            "cell_type": "code",
            "source": "SELECT s.name AS Schema_Name, tb.name AS Table_Name\r\n, tb.object_id, tb.type, tb.type_desc, tb.is_tracked_by_cdc\r\nFROM sys.tables tb\r\nINNER JOIN sys.schemas s on s.schema_id = tb.schema_id\r\nWHERE tb.is_tracked_by_cdc = 1\r\nand s.name = 'dlkmumps'\r\nand tb.name = 'tb_coberturacertificadoClb'",
            "metadata": {},
            "outputs": [
                {
                    "output_type": "display_data",
                    "data": {
                        "text/html": "(0 rows affected)"
                    },
                    "metadata": {}
                },
                {
                    "output_type": "display_data",
                    "data": {
                        "text/html": "Total execution time: 00:00:00.0416852"
                    },
                    "metadata": {}
                },
                {
                    "output_type": "execute_result",
                    "metadata": {},
                    "execution_count": 71,
                    "data": {
                        "application/vnd.dataresource+json": {
                            "schema": {
                                "fields": [
                                    {
                                        "name": "Schema_Name"
                                    },
                                    {
                                        "name": "Table_Name"
                                    },
                                    {
                                        "name": "object_id"
                                    },
                                    {
                                        "name": "type"
                                    },
                                    {
                                        "name": "type_desc"
                                    },
                                    {
                                        "name": "is_tracked_by_cdc"
                                    }
                                ]
                            },
                            "data": []
                        },
                        "text/html": "<table><tr><th>Schema_Name</th><th>Table_Name</th><th>object_id</th><th>type</th><th>type_desc</th><th>is_tracked_by_cdc</th></tr></table>"
                    }
                }
            ],
            "execution_count": 71
        },
        {
            "cell_type": "markdown",
            "source": "-- Comando para fazer o drop da pk da tabela a ser particionada",
            "metadata": {}
        },
        {
            "cell_type": "code",
            "source": "USE [DLKMUMPS]\r\nGO\r\n\r\n/****** Object:  Index [PK_tb_coberturacertificadoClb]    Script Date: 07/10/2020 11:40:27 ******/\r\nALTER TABLE [dlkmumps].[tb_coberturacertificadoClb] DROP CONSTRAINT [PK_tb_coberturacertificadoClb] WITH ( ONLINE = OFF )\r\nGO\r\n",
            "metadata": {},
            "outputs": [
                {
                    "output_type": "display_data",
                    "data": {
                        "text/html": "Commands completed successfully."
                    },
                    "metadata": {}
                },
                {
                    "output_type": "display_data",
                    "data": {
                        "text/html": "Total execution time: 00:00:00.0047385"
                    },
                    "metadata": {}
                },
                {
                    "output_type": "display_data",
                    "data": {
                        "text/html": "Commands completed successfully."
                    },
                    "metadata": {}
                },
                {
                    "output_type": "display_data",
                    "data": {
                        "text/html": "Total execution time: 00:00:00.2066177"
                    },
                    "metadata": {}
                }
            ],
            "execution_count": 59
        },
        {
            "cell_type": "markdown",
            "source": "Validar a existência de indices não cluster na tabela que vai ser particionada.",
            "metadata": {}
        },
        {
            "cell_type": "code",
            "source": "/*****************************************************************************\r\nMIT License, http://www.opensource.org/licenses/mit-license.php\r\nContact: help@sqlworkbooks.com\r\nCopyright (c) 2018 SQL Workbooks LLC\r\nPermission is hereby granted, free of charge, to any person \r\nobtaining a copy of this software and associated documentation\r\nfiles (the \"Software\"), to deal in the Software without \r\nrestriction, including without limitation the rights to use,\r\ncopy, modify, merge, publish, distribute, sublicense, and/or\r\nsell copies of the Software, and to permit persons to whom \r\nthe Software is furnished to do so, subject to the following \r\nconditions:\r\nThe above copyright notice and this permission notice shall be\r\nincluded in all copies or substantial portions of the Software.\r\nTHE SOFTWARE IS PROVIDED \"AS IS\", WITHOUT WARRANTY OF ANY KIND, \r\nEXPRESS OR IMPLIED, INCLUDING BUT NOT LIMITED TO THE WARRANTIES \r\nOF MERCHANTABILITY, FITNESS FOR A PARTICULAR PURPOSE AND \r\nNONINFRINGEMENT. IN NO EVENT SHALL THE AUTHORS OR COPYRIGHT \r\nHOLDERS BE LIABLE FOR ANY CLAIM, DAMAGES OR OTHER LIABILITY, \r\nWHETHER IN AN ACTION OF CONTRACT, TORT OR OTHERWISE, ARISING \r\nFROM, OUT OF OR IN CONNECTION WITH THE SOFTWARE OR THE USE OR \r\nOTHER DEALINGS IN THE SOFTWARE.\r\n*****************************************************************************/\r\nUSE\r\nDLKMUMPS\r\nGO\r\n\r\n\r\ndeclare @tablename varchar(50)\r\ndeclare @schemaname varchar(50)\r\n\r\nset @tablename = 'tb_coberturacertificadoClb'\r\nset @schemaname = 'dlkmumps'\r\n\r\nSELECT \r\n    DB_NAME() AS database_name,\r\n    sc.name + N'.' + t.name AS table_name,\r\n    (SELECT MAX(user_reads) \r\n        FROM (VALUES (last_user_seek), (last_user_scan), (last_user_lookup)) AS value(user_reads)) AS last_user_read,\r\n    last_user_update,\r\n    CASE si.index_id WHEN 0 THEN N'/* No create statement (Heap) */'\r\n    ELSE \r\n        CASE is_primary_key WHEN 1 THEN\r\n            N'ALTER TABLE ' + QUOTENAME(sc.name) + N'.' + QUOTENAME(t.name) + N' ADD CONSTRAINT ' + QUOTENAME(si.name) + N' PRIMARY KEY ' +\r\n                CASE WHEN si.index_id > 1 THEN N'NON' ELSE N'' END + N'CLUSTERED '\r\n            ELSE N'CREATE ' + \r\n                CASE WHEN si.is_unique = 1 then N'UNIQUE ' ELSE N'' END +\r\n                CASE WHEN si.index_id > 1 THEN N'NON' ELSE N'' END + N'CLUSTERED ' +\r\n                N'INDEX ' + QUOTENAME(si.name) + N' ON ' + QUOTENAME(sc.name) + N'.' + QUOTENAME(t.name) + N' '\r\n        END +\r\n        /* key def */ N'(' + key_definition + N')' +\r\n        /* includes */ CASE WHEN include_definition IS NOT NULL THEN \r\n            N' INCLUDE (' + include_definition + N')'\r\n            ELSE N''\r\n        END +\r\n        /* filters */ CASE WHEN filter_definition IS NOT NULL THEN \r\n            N' WHERE ' + filter_definition ELSE N''\r\n        END +\r\n        /* with clause - compression goes here */\r\n        CASE WHEN row_compression_partition_list IS NOT NULL OR page_compression_partition_list IS NOT NULL \r\n            THEN N' WITH (' +\r\n                CASE WHEN row_compression_partition_list IS NOT NULL THEN\r\n                    N'DATA_COMPRESSION = ROW ' + CASE WHEN psc.name IS NULL THEN N'' ELSE + N' ON PARTITIONS (' + row_compression_partition_list + N')' END\r\n                ELSE N'' END +\r\n                CASE WHEN row_compression_partition_list IS NOT NULL AND page_compression_partition_list IS NOT NULL THEN N', ' ELSE N'' END +\r\n                CASE WHEN page_compression_partition_list IS NOT NULL THEN\r\n                    N'DATA_COMPRESSION = PAGE ' + CASE WHEN psc.name IS NULL THEN N'' ELSE + N' ON PARTITIONS (' + page_compression_partition_list + N')' END\r\n                ELSE N'' END\r\n            + N')'\r\n            ELSE N''\r\n        END +\r\n        /* ON where? filegroup? partition scheme? */\r\n        ' ON ' + CASE WHEN psc.name is null \r\n            THEN ISNULL(QUOTENAME(fg.name),N'')\r\n            ELSE psc.name + N' (' + partitioning_column.column_name + N')' \r\n            END\r\n        + N';'\r\n    END AS index_create_statement,\r\n    si.index_id,\r\n    si.name AS index_name,\r\n    partition_sums.reserved_in_row_GB,\r\n    partition_sums.reserved_LOB_GB,\r\n    partition_sums.row_count,\r\n    stat.user_seeks,\r\n    stat.user_scans,\r\n    stat.user_lookups,\r\n    user_updates AS queries_that_modified,\r\n    partition_sums.partition_count,\r\n    si.allow_page_locks,\r\n    si.allow_row_locks,\r\n    si.is_hypothetical,\r\n    si.has_filter,\r\n    si.fill_factor,\r\n    si.is_unique,\r\n    ISNULL(pf.name, '/* Not partitioned */') AS partition_function,\r\n    ISNULL(psc.name, fg.name) AS partition_scheme_or_filegroup,\r\n    t.create_date AS table_created_date,\r\n    t.modify_date AS table_modify_date\r\nFROM sys.indexes AS si\r\nJOIN sys.tables AS t ON si.object_id=t.object_id\r\nJOIN sys.schemas AS sc ON t.schema_id=sc.schema_id\r\nLEFT JOIN sys.dm_db_index_usage_stats AS stat ON \r\n    stat.database_id = DB_ID() \r\n    and si.object_id=stat.object_id \r\n    and si.index_id=stat.index_id\r\nLEFT JOIN sys.partition_schemes AS psc ON si.data_space_id=psc.data_space_id\r\nLEFT JOIN sys.partition_functions AS pf ON psc.function_id=pf.function_id\r\nLEFT JOIN sys.filegroups AS fg ON si.data_space_id=fg.data_space_id\r\n/* Key list */ OUTER APPLY ( SELECT STUFF (\r\n    (SELECT N', ' + QUOTENAME(c.name) +\r\n        CASE ic.is_descending_key WHEN 1 then N' DESC' ELSE N'' END\r\n    FROM sys.index_columns AS ic \r\n    JOIN sys.columns AS c ON \r\n        ic.column_id=c.column_id  \r\n        and ic.object_id=c.object_id\r\n    WHERE ic.object_id = si.object_id\r\n        and ic.index_id=si.index_id\r\n        and ic.key_ordinal > 0\r\n    ORDER BY ic.key_ordinal FOR XML PATH(''), TYPE).value('.', 'NVARCHAR(MAX)'),1,2,'')) AS keys ( key_definition )\r\n/* Partitioning Ordinal */ OUTER APPLY (\r\n    SELECT MAX(QUOTENAME(c.name)) AS column_name\r\n    FROM sys.index_columns AS ic \r\n    JOIN sys.columns AS c ON \r\n        ic.column_id=c.column_id  \r\n        and ic.object_id=c.object_id\r\n    WHERE ic.object_id = si.object_id\r\n        and ic.index_id=si.index_id\r\n        and ic.partition_ordinal = 1) AS partitioning_column\r\n/* Include list */ OUTER APPLY ( SELECT STUFF (\r\n    (SELECT N', ' + QUOTENAME(c.name)\r\n    FROM sys.index_columns AS ic \r\n    JOIN sys.columns AS c ON \r\n        ic.column_id=c.column_id  \r\n        and ic.object_id=c.object_id\r\n    WHERE ic.object_id = si.object_id\r\n        and ic.index_id=si.index_id\r\n        and ic.is_included_column = 1\r\n    ORDER BY c.name FOR XML PATH(''), TYPE).value('.', 'NVARCHAR(MAX)'),1,2,'')) AS includes ( include_definition )\r\n/* Partitions */ OUTER APPLY ( \r\n    SELECT \r\n        COUNT(*) AS partition_count,\r\n        CAST(SUM(ps.in_row_reserved_page_count)*8./1024./1024. AS NUMERIC(32,1)) AS reserved_in_row_GB,\r\n        CAST(SUM(ps.lob_reserved_page_count)*8./1024./1024. AS NUMERIC(32,1)) AS reserved_LOB_GB,\r\n        SUM(ps.row_count) AS row_count\r\n    FROM sys.partitions AS p\r\n    JOIN sys.dm_db_partition_stats AS ps ON\r\n        p.partition_id=ps.partition_id\r\n    WHERE p.object_id = si.object_id\r\n        and p.index_id=si.index_id\r\n    ) AS partition_sums\r\n/* row compression list by partition */ OUTER APPLY ( SELECT STUFF (\r\n    (SELECT N', ' + CAST(p.partition_number AS VARCHAR(32))\r\n    FROM sys.partitions AS p\r\n    WHERE p.object_id = si.object_id\r\n        and p.index_id=si.index_id\r\n        and p.data_compression = 1\r\n    ORDER BY p.partition_number FOR XML PATH(''), TYPE).value('.', 'NVARCHAR(MAX)'),1,2,'')) AS row_compression_clause ( row_compression_partition_list )\r\n/* data compression list by partition */ OUTER APPLY ( SELECT STUFF (\r\n    (SELECT N', ' + CAST(p.partition_number AS VARCHAR(32))\r\n    FROM sys.partitions AS p\r\n    WHERE p.object_id = si.object_id\r\n        and p.index_id=si.index_id\r\n        and p.data_compression = 2\r\n    ORDER BY p.partition_number FOR XML PATH(''), TYPE).value('.', 'NVARCHAR(MAX)'),1,2,'')) AS page_compression_clause ( page_compression_partition_list )\r\nWHERE \r\n    si.type IN (0,1,2) /* heap, clustered, nonclustered */\r\n\tand t.name = @tablename\r\n\tand sc.name = @schemaname\r\nORDER BY table_name, si.index_id\r\n    OPTION (RECOMPILE);\r\nGO",
            "metadata": {},
            "outputs": [
                {
                    "output_type": "display_data",
                    "data": {
                        "text/html": "Commands completed successfully."
                    },
                    "metadata": {}
                },
                {
                    "output_type": "display_data",
                    "data": {
                        "text/html": "Total execution time: 00:00:00.0053528"
                    },
                    "metadata": {}
                },
                {
                    "output_type": "display_data",
                    "data": {
                        "text/html": "Warning: Null value is eliminated by an aggregate or other SET operation."
                    },
                    "metadata": {}
                },
                {
                    "output_type": "display_data",
                    "data": {
                        "text/html": "(1 row affected)"
                    },
                    "metadata": {}
                },
                {
                    "output_type": "display_data",
                    "data": {
                        "text/html": "Total execution time: 00:00:00.3884597"
                    },
                    "metadata": {}
                },
                {
                    "output_type": "execute_result",
                    "metadata": {},
                    "execution_count": 14,
                    "data": {
                        "application/vnd.dataresource+json": {
                            "schema": {
                                "fields": [
                                    {
                                        "name": "database_name"
                                    },
                                    {
                                        "name": "table_name"
                                    },
                                    {
                                        "name": "last_user_read"
                                    },
                                    {
                                        "name": "last_user_update"
                                    },
                                    {
                                        "name": "index_create_statement"
                                    },
                                    {
                                        "name": "index_id"
                                    },
                                    {
                                        "name": "index_name"
                                    },
                                    {
                                        "name": "reserved_in_row_GB"
                                    },
                                    {
                                        "name": "reserved_LOB_GB"
                                    },
                                    {
                                        "name": "row_count"
                                    },
                                    {
                                        "name": "user_seeks"
                                    },
                                    {
                                        "name": "user_scans"
                                    },
                                    {
                                        "name": "user_lookups"
                                    },
                                    {
                                        "name": "queries_that_modified"
                                    },
                                    {
                                        "name": "partition_count"
                                    },
                                    {
                                        "name": "allow_page_locks"
                                    },
                                    {
                                        "name": "allow_row_locks"
                                    },
                                    {
                                        "name": "is_hypothetical"
                                    },
                                    {
                                        "name": "has_filter"
                                    },
                                    {
                                        "name": "fill_factor"
                                    },
                                    {
                                        "name": "is_unique"
                                    },
                                    {
                                        "name": "partition_function"
                                    },
                                    {
                                        "name": "partition_scheme_or_filegroup"
                                    },
                                    {
                                        "name": "table_created_date"
                                    },
                                    {
                                        "name": "table_modify_date"
                                    }
                                ]
                            },
                            "data": [
                                {
                                    "0": "DLKMUMPS",
                                    "1": "dlkmumps.tb_coberturacertificadoClb",
                                    "2": "2020-10-07 10:47:02.017",
                                    "3": "NULL",
                                    "4": "ALTER TABLE [dlkmumps].[tb_coberturacertificadoClb] ADD CONSTRAINT [PK_tb_coberturacertificadoClb] PRIMARY KEY CLUSTERED ([id_coberturacertificado]) ON [PRIMARY];",
                                    "5": "1",
                                    "6": "PK_tb_coberturacertificadoClb",
                                    "7": "1,6",
                                    "8": "0,0",
                                    "9": "12831289",
                                    "10": "0",
                                    "11": "7",
                                    "12": "0",
                                    "13": "0",
                                    "14": "1",
                                    "15": "1",
                                    "16": "1",
                                    "17": "0",
                                    "18": "0",
                                    "19": "0",
                                    "20": "1",
                                    "21": "/* Not partitioned */",
                                    "22": "PRIMARY",
                                    "23": "2020-09-22 19:25:38.240",
                                    "24": "2020-10-06 16:43:26.753"
                                }
                            ]
                        },
                        "text/html": "<table><tr><th>database_name</th><th>table_name</th><th>last_user_read</th><th>last_user_update</th><th>index_create_statement</th><th>index_id</th><th>index_name</th><th>reserved_in_row_GB</th><th>reserved_LOB_GB</th><th>row_count</th><th>user_seeks</th><th>user_scans</th><th>user_lookups</th><th>queries_that_modified</th><th>partition_count</th><th>allow_page_locks</th><th>allow_row_locks</th><th>is_hypothetical</th><th>has_filter</th><th>fill_factor</th><th>is_unique</th><th>partition_function</th><th>partition_scheme_or_filegroup</th><th>table_created_date</th><th>table_modify_date</th></tr><tr><td>DLKMUMPS</td><td>dlkmumps.tb_coberturacertificadoClb</td><td>2020-10-07 10:47:02.017</td><td>NULL</td><td>ALTER TABLE [dlkmumps].[tb_coberturacertificadoClb] ADD CONSTRAINT [PK_tb_coberturacertificadoClb] PRIMARY KEY CLUSTERED ([id_coberturacertificado]) ON [PRIMARY];</td><td>1</td><td>PK_tb_coberturacertificadoClb</td><td>1,6</td><td>0,0</td><td>12831289</td><td>0</td><td>7</td><td>0</td><td>0</td><td>1</td><td>1</td><td>1</td><td>0</td><td>0</td><td>0</td><td>1</td><td>/* Not partitioned */</td><td>PRIMARY</td><td>2020-09-22 19:25:38.240</td><td>2020-10-06 16:43:26.753</td></tr></table>"
                    }
                }
            ],
            "execution_count": 14
        },
        {
            "cell_type": "markdown",
            "source": "-- ADICIONAR OS FILEGROUPS PARA O PARTICIONAMENTO EM ARQUIVOS FISICOS DIFERENTES    ",
            "metadata": {}
        },
        {
            "cell_type": "code",
            "source": "use [master]\r\n\r\nGO\r\nUSE [master]\r\nGO\r\nALTER DATABASE [DLKMUMPS] ADD FILEGROUP [FG_Particionamento_01]\r\nGO\r\nALTER DATABASE [DLKMUMPS] ADD FILEGROUP [FG_Particionamento_02]\r\nGO\r\nALTER DATABASE [DLKMUMPS] ADD FILEGROUP [FG_Particionamento_03]\r\nGO\r\nALTER DATABASE [DLKMUMPS] ADD FILEGROUP [FG_Particionamento_04]\r\nGO\r\nALTER DATABASE [DLKMUMPS] ADD FILEGROUP [FG_Particionamento_05]\r\nGO\r\nALTER DATABASE [DLKMUMPS] ADD FILEGROUP [FG_Particionamento_06]\r\nGO\r\nALTER DATABASE [DLKMUMPS] ADD FILEGROUP [FG_Particionamento_07]\r\nGO\r\nALTER DATABASE [DLKMUMPS] ADD FILEGROUP [FG_Particionamento_08]\r\nGO\r\nALTER DATABASE [DLKMUMPS] ADD FILEGROUP [FG_Particionamento_09]\r\nGO\r\nALTER DATABASE [DLKMUMPS] ADD FILEGROUP [FG_Particionamento_10]\r\nGO\r\n    ",
            "metadata": {},
            "outputs": [
                {
                    "output_type": "display_data",
                    "data": {
                        "text/html": "Commands completed successfully."
                    },
                    "metadata": {}
                },
                {
                    "output_type": "display_data",
                    "data": {
                        "text/html": "Total execution time: 00:00:00.0012364"
                    },
                    "metadata": {}
                },
                {
                    "output_type": "display_data",
                    "data": {
                        "text/html": "Commands completed successfully."
                    },
                    "metadata": {}
                },
                {
                    "output_type": "display_data",
                    "data": {
                        "text/html": "Total execution time: 00:00:00.0008227"
                    },
                    "metadata": {}
                },
                {
                    "output_type": "display_data",
                    "data": {
                        "text/html": "Commands completed successfully."
                    },
                    "metadata": {}
                },
                {
                    "output_type": "display_data",
                    "data": {
                        "text/html": "Total execution time: 00:00:00.0014337"
                    },
                    "metadata": {}
                },
                {
                    "output_type": "display_data",
                    "data": {
                        "text/html": "Commands completed successfully."
                    },
                    "metadata": {}
                },
                {
                    "output_type": "display_data",
                    "data": {
                        "text/html": "Total execution time: 00:00:00.0258963"
                    },
                    "metadata": {}
                },
                {
                    "output_type": "display_data",
                    "data": {
                        "text/html": "Commands completed successfully."
                    },
                    "metadata": {}
                },
                {
                    "output_type": "display_data",
                    "data": {
                        "text/html": "Total execution time: 00:00:00.0040009"
                    },
                    "metadata": {}
                },
                {
                    "output_type": "display_data",
                    "data": {
                        "text/html": "Commands completed successfully."
                    },
                    "metadata": {}
                },
                {
                    "output_type": "display_data",
                    "data": {
                        "text/html": "Total execution time: 00:00:00.0044302"
                    },
                    "metadata": {}
                },
                {
                    "output_type": "display_data",
                    "data": {
                        "text/html": "Commands completed successfully."
                    },
                    "metadata": {}
                },
                {
                    "output_type": "display_data",
                    "data": {
                        "text/html": "Total execution time: 00:00:00.0174821"
                    },
                    "metadata": {}
                },
                {
                    "output_type": "display_data",
                    "data": {
                        "text/html": "Commands completed successfully."
                    },
                    "metadata": {}
                },
                {
                    "output_type": "display_data",
                    "data": {
                        "text/html": "Total execution time: 00:00:00.0044681"
                    },
                    "metadata": {}
                },
                {
                    "output_type": "display_data",
                    "data": {
                        "text/html": "Commands completed successfully."
                    },
                    "metadata": {}
                },
                {
                    "output_type": "display_data",
                    "data": {
                        "text/html": "Total execution time: 00:00:00.0034833"
                    },
                    "metadata": {}
                },
                {
                    "output_type": "display_data",
                    "data": {
                        "text/html": "Commands completed successfully."
                    },
                    "metadata": {}
                },
                {
                    "output_type": "display_data",
                    "data": {
                        "text/html": "Total execution time: 00:00:00.0055366"
                    },
                    "metadata": {}
                },
                {
                    "output_type": "display_data",
                    "data": {
                        "text/html": "Commands completed successfully."
                    },
                    "metadata": {}
                },
                {
                    "output_type": "display_data",
                    "data": {
                        "text/html": "Total execution time: 00:00:00.0232822"
                    },
                    "metadata": {}
                },
                {
                    "output_type": "display_data",
                    "data": {
                        "text/html": "Commands completed successfully."
                    },
                    "metadata": {}
                },
                {
                    "output_type": "display_data",
                    "data": {
                        "text/html": "Total execution time: 00:00:00.0118183"
                    },
                    "metadata": {}
                },
                {
                    "output_type": "display_data",
                    "data": {
                        "text/html": "Commands completed successfully."
                    },
                    "metadata": {}
                },
                {
                    "output_type": "display_data",
                    "data": {
                        "text/html": "Total execution time: 00:00:00.0043615"
                    },
                    "metadata": {}
                }
            ],
            "execution_count": 11
        },
        {
            "cell_type": "markdown",
            "source": "-- Adicionar os arquivos fisicos que farão parte do particionamento",
            "metadata": {}
        },
        {
            "cell_type": "code",
            "source": "\r\nuse [DLKMUMPS]\r\n\r\nGO\r\nuse [model]\r\n\r\nGO\r\nUSE [master]\r\nGO\r\nALTER DATABASE [DLKMUMPS] ADD FILE ( NAME = N'File_Particionamento_01', FILENAME = N'E:\\Dados\\File_Particionamento_01.ndf' , SIZE = 8192KB , FILEGROWTH = 1048576KB ) TO FILEGROUP [FG_Particionamento_01]\r\nGO\r\nALTER DATABASE [DLKMUMPS] ADD FILE ( NAME = N'File_Particionamento_02', FILENAME = N'E:\\Dados\\File_Particionamento_02.ndf' , SIZE = 8192KB , FILEGROWTH = 1048576KB ) TO FILEGROUP [FG_Particionamento_02]\r\nGO\r\nALTER DATABASE [DLKMUMPS] ADD FILE ( NAME = N'File_Particionamento_03', FILENAME = N'E:\\Dados\\File_Particionamento_03.ndf' , SIZE = 8192KB , FILEGROWTH = 1048576KB ) TO FILEGROUP [FG_Particionamento_03]\r\nGO\r\nALTER DATABASE [DLKMUMPS] ADD FILE ( NAME = N'File_Particionamento_04', FILENAME = N'E:\\Dados\\File_Particionamento_04.ndf' , SIZE = 8192KB , FILEGROWTH = 1048576KB ) TO FILEGROUP [FG_Particionamento_04]\r\nGO\r\nALTER DATABASE [DLKMUMPS] ADD FILE ( NAME = N'File_Particionamento_05', FILENAME = N'E:\\Dados\\File_Particionamento_05.ndf' , SIZE = 8192KB , FILEGROWTH = 1048576KB ) TO FILEGROUP [FG_Particionamento_05]\r\nGO\r\nALTER DATABASE [DLKMUMPS] ADD FILE ( NAME = N'File_Particionamento_06', FILENAME = N'E:\\Dados\\File_Particionamento_06.ndf' , SIZE = 8192KB , FILEGROWTH = 1048576KB ) TO FILEGROUP [FG_Particionamento_06]\r\nGO\r\nALTER DATABASE [DLKMUMPS] ADD FILE ( NAME = N'File_Particionamento_07', FILENAME = N'E:\\Dados\\File_Particionamento_07.ndf' , SIZE = 8192KB , FILEGROWTH = 1048576KB ) TO FILEGROUP [FG_Particionamento_07]\r\nGO\r\nALTER DATABASE [DLKMUMPS] ADD FILE ( NAME = N'File_Particionamento_08', FILENAME = N'E:\\Dados\\File_Particionamento_08.ndf' , SIZE = 8192KB , FILEGROWTH = 1048576KB ) TO FILEGROUP [FG_Particionamento_08]\r\nGO\r\nALTER DATABASE [DLKMUMPS] ADD FILE ( NAME = N'File_Particionamento_09', FILENAME = N'E:\\Dados\\File_Particionamento_09.ndf' , SIZE = 8192KB , FILEGROWTH = 1048576KB ) TO FILEGROUP [FG_Particionamento_09]\r\nGO\r\nALTER DATABASE [DLKMUMPS] ADD FILE ( NAME = N'File_Particionamento_10', FILENAME = N'E:\\Dados\\File_Particionamento_10.ndf' , SIZE = 8192KB , FILEGROWTH = 1048576KB ) TO FILEGROUP [FG_Particionamento_10]\r\nGO\r\n\r\n",
            "metadata": {},
            "outputs": [
                {
                    "output_type": "display_data",
                    "data": {
                        "text/html": "Commands completed successfully."
                    },
                    "metadata": {}
                },
                {
                    "output_type": "display_data",
                    "data": {
                        "text/html": "Total execution time: 00:00:00.0169403"
                    },
                    "metadata": {}
                },
                {
                    "output_type": "display_data",
                    "data": {
                        "text/html": "Commands completed successfully."
                    },
                    "metadata": {}
                },
                {
                    "output_type": "display_data",
                    "data": {
                        "text/html": "Total execution time: 00:00:00.0032515"
                    },
                    "metadata": {}
                },
                {
                    "output_type": "display_data",
                    "data": {
                        "text/html": "Commands completed successfully."
                    },
                    "metadata": {}
                },
                {
                    "output_type": "display_data",
                    "data": {
                        "text/html": "Total execution time: 00:00:00.0023079"
                    },
                    "metadata": {}
                },
                {
                    "output_type": "display_data",
                    "data": {
                        "text/html": "Commands completed successfully."
                    },
                    "metadata": {}
                },
                {
                    "output_type": "display_data",
                    "data": {
                        "text/html": "Total execution time: 00:00:00.2425051"
                    },
                    "metadata": {}
                },
                {
                    "output_type": "display_data",
                    "data": {
                        "text/html": "Commands completed successfully."
                    },
                    "metadata": {}
                },
                {
                    "output_type": "display_data",
                    "data": {
                        "text/html": "Total execution time: 00:00:00.1759541"
                    },
                    "metadata": {}
                },
                {
                    "output_type": "display_data",
                    "data": {
                        "text/html": "Commands completed successfully."
                    },
                    "metadata": {}
                },
                {
                    "output_type": "display_data",
                    "data": {
                        "text/html": "Total execution time: 00:00:00.1556265"
                    },
                    "metadata": {}
                },
                {
                    "output_type": "display_data",
                    "data": {
                        "text/html": "Commands completed successfully."
                    },
                    "metadata": {}
                },
                {
                    "output_type": "display_data",
                    "data": {
                        "text/html": "Total execution time: 00:00:00.1593031"
                    },
                    "metadata": {}
                },
                {
                    "output_type": "display_data",
                    "data": {
                        "text/html": "Commands completed successfully."
                    },
                    "metadata": {}
                },
                {
                    "output_type": "display_data",
                    "data": {
                        "text/html": "Total execution time: 00:00:00.1464440"
                    },
                    "metadata": {}
                },
                {
                    "output_type": "display_data",
                    "data": {
                        "text/html": "Commands completed successfully."
                    },
                    "metadata": {}
                },
                {
                    "output_type": "display_data",
                    "data": {
                        "text/html": "Total execution time: 00:00:00.1240719"
                    },
                    "metadata": {}
                },
                {
                    "output_type": "display_data",
                    "data": {
                        "text/html": "Commands completed successfully."
                    },
                    "metadata": {}
                },
                {
                    "output_type": "display_data",
                    "data": {
                        "text/html": "Total execution time: 00:00:00.1396933"
                    },
                    "metadata": {}
                },
                {
                    "output_type": "display_data",
                    "data": {
                        "text/html": "Commands completed successfully."
                    },
                    "metadata": {}
                },
                {
                    "output_type": "display_data",
                    "data": {
                        "text/html": "Total execution time: 00:00:00.1605541"
                    },
                    "metadata": {}
                },
                {
                    "output_type": "error",
                    "evalue": "Msg 1828, Level 16, State 4, Line 25\r\nThe logical file name \"File_Particionamento_09\" is already in use. Choose a different name.",
                    "ename": "",
                    "traceback": []
                },
                {
                    "output_type": "display_data",
                    "data": {
                        "text/html": "Total execution time: 00:00:00.0020410"
                    },
                    "metadata": {}
                },
                {
                    "output_type": "error",
                    "evalue": "Msg 1828, Level 16, State 4, Line 27\r\nThe logical file name \"File_Particionamento_10\" is already in use. Choose a different name.",
                    "ename": "",
                    "traceback": []
                },
                {
                    "output_type": "display_data",
                    "data": {
                        "text/html": "Total execution time: 00:00:00.0018404"
                    },
                    "metadata": {}
                }
            ],
            "execution_count": 30
        },
        {
            "cell_type": "markdown",
            "source": "-- Verificar a tipagem do campo da coluna que fará parte da Função de Partição.",
            "metadata": {}
        },
        {
            "cell_type": "code",
            "source": "USE\r\nDLKMUMPS\r\nGO\r\n\r\nSELECT @@SERVERNAME as ServidorAzure, DB_NAME() as DatabaseName,\r\nTABLE_NAME,COLUMN_NAME,DATA_TYPE,CHARACTER_MAXIMUM_LENGTH,TABLE_SCHEMA\r\nFROM INFORMATION_SCHEMA.COLUMNS\r\nWHERE TABLE_NAME  = 'tb_coberturacertificadoClb'\r\nand TABLE_SCHEMA = 'dlkmumps'\r\nGO\r\n\r\nsp_help 'dlkmumps.tb_coberturacertificadoClb'\r\n\r\n",
            "metadata": {},
            "outputs": [
                {
                    "output_type": "display_data",
                    "data": {
                        "text/html": "Commands completed successfully."
                    },
                    "metadata": {}
                },
                {
                    "output_type": "display_data",
                    "data": {
                        "text/html": "Total execution time: 00:00:00.0014205"
                    },
                    "metadata": {}
                },
                {
                    "output_type": "display_data",
                    "data": {
                        "text/html": "(5 rows affected)"
                    },
                    "metadata": {}
                },
                {
                    "output_type": "display_data",
                    "data": {
                        "text/html": "Total execution time: 00:00:00.0095258"
                    },
                    "metadata": {}
                },
                {
                    "output_type": "display_data",
                    "data": {
                        "text/html": " "
                    },
                    "metadata": {}
                },
                {
                    "output_type": "display_data",
                    "data": {
                        "text/html": " "
                    },
                    "metadata": {}
                },
                {
                    "output_type": "display_data",
                    "data": {
                        "text/html": " "
                    },
                    "metadata": {}
                },
                {
                    "output_type": "display_data",
                    "data": {
                        "text/html": " "
                    },
                    "metadata": {}
                },
                {
                    "output_type": "display_data",
                    "data": {
                        "text/html": " "
                    },
                    "metadata": {}
                },
                {
                    "output_type": "display_data",
                    "data": {
                        "text/html": " "
                    },
                    "metadata": {}
                },
                {
                    "output_type": "display_data",
                    "data": {
                        "text/html": " "
                    },
                    "metadata": {}
                },
                {
                    "output_type": "display_data",
                    "data": {
                        "text/html": " "
                    },
                    "metadata": {}
                },
                {
                    "output_type": "display_data",
                    "data": {
                        "text/html": "No foreign keys reference table 'dlkmumps.tb_coberturacertificadoClb', or you do not have permissions on referencing tables."
                    },
                    "metadata": {}
                },
                {
                    "output_type": "display_data",
                    "data": {
                        "text/html": "No views with schema binding reference table 'dlkmumps.tb_coberturacertificadoClb'."
                    },
                    "metadata": {}
                },
                {
                    "output_type": "display_data",
                    "data": {
                        "text/html": "Total execution time: 00:00:00.2352811"
                    },
                    "metadata": {}
                },
                {
                    "output_type": "execute_result",
                    "metadata": {},
                    "execution_count": 31,
                    "data": {
                        "application/vnd.dataresource+json": {
                            "schema": {
                                "fields": [
                                    {
                                        "name": "ServidorAzure"
                                    },
                                    {
                                        "name": "DatabaseName"
                                    },
                                    {
                                        "name": "TABLE_NAME"
                                    },
                                    {
                                        "name": "COLUMN_NAME"
                                    },
                                    {
                                        "name": "DATA_TYPE"
                                    },
                                    {
                                        "name": "CHARACTER_MAXIMUM_LENGTH"
                                    },
                                    {
                                        "name": "TABLE_SCHEMA"
                                    }
                                ]
                            },
                            "data": [
                                {
                                    "0": "ISMTZBDCACHEHMG",
                                    "1": "DLKMUMPS",
                                    "2": "tb_coberturacertificadoClb",
                                    "3": "id_coberturacertificado",
                                    "4": "int",
                                    "5": "NULL",
                                    "6": "dlkmumps"
                                },
                                {
                                    "0": "ISMTZBDCACHEHMG",
                                    "1": "DLKMUMPS",
                                    "2": "tb_coberturacertificadoClb",
                                    "3": "num_certificado_coberturacertificado",
                                    "4": "nchar",
                                    "5": "25",
                                    "6": "dlkmumps"
                                },
                                {
                                    "0": "ISMTZBDCACHEHMG",
                                    "1": "DLKMUMPS",
                                    "2": "tb_coberturacertificadoClb",
                                    "3": "cod_cobertura_coberturacertificado",
                                    "4": "int",
                                    "5": "NULL",
                                    "6": "dlkmumps"
                                },
                                {
                                    "0": "ISMTZBDCACHEHMG",
                                    "1": "DLKMUMPS",
                                    "2": "tb_coberturacertificadoClb",
                                    "3": "vl_capital_coberturacertificado",
                                    "4": "decimal",
                                    "5": "NULL",
                                    "6": "dlkmumps"
                                },
                                {
                                    "0": "ISMTZBDCACHEHMG",
                                    "1": "DLKMUMPS",
                                    "2": "tb_coberturacertificadoClb",
                                    "3": "data_carga",
                                    "4": "datetime",
                                    "5": "NULL",
                                    "6": "dlkmumps"
                                }
                            ]
                        },
                        "text/html": "<table><tr><th>ServidorAzure</th><th>DatabaseName</th><th>TABLE_NAME</th><th>COLUMN_NAME</th><th>DATA_TYPE</th><th>CHARACTER_MAXIMUM_LENGTH</th><th>TABLE_SCHEMA</th></tr><tr><td>ISMTZBDCACHEHMG</td><td>DLKMUMPS</td><td>tb_coberturacertificadoClb</td><td>id_coberturacertificado</td><td>int</td><td>NULL</td><td>dlkmumps</td></tr><tr><td>ISMTZBDCACHEHMG</td><td>DLKMUMPS</td><td>tb_coberturacertificadoClb</td><td>num_certificado_coberturacertificado</td><td>nchar</td><td>25</td><td>dlkmumps</td></tr><tr><td>ISMTZBDCACHEHMG</td><td>DLKMUMPS</td><td>tb_coberturacertificadoClb</td><td>cod_cobertura_coberturacertificado</td><td>int</td><td>NULL</td><td>dlkmumps</td></tr><tr><td>ISMTZBDCACHEHMG</td><td>DLKMUMPS</td><td>tb_coberturacertificadoClb</td><td>vl_capital_coberturacertificado</td><td>decimal</td><td>NULL</td><td>dlkmumps</td></tr><tr><td>ISMTZBDCACHEHMG</td><td>DLKMUMPS</td><td>tb_coberturacertificadoClb</td><td>data_carga</td><td>datetime</td><td>NULL</td><td>dlkmumps</td></tr></table>"
                    }
                },
                {
                    "output_type": "execute_result",
                    "metadata": {},
                    "execution_count": 31,
                    "data": {
                        "application/vnd.dataresource+json": {
                            "schema": {
                                "fields": [
                                    {
                                        "name": "Name"
                                    },
                                    {
                                        "name": "Owner"
                                    },
                                    {
                                        "name": "Type"
                                    },
                                    {
                                        "name": "Created_datetime"
                                    }
                                ]
                            },
                            "data": [
                                {
                                    "0": "tb_coberturacertificadoClb",
                                    "1": "dbo",
                                    "2": "user table",
                                    "3": "2020-09-22 19:25:38.240"
                                }
                            ]
                        },
                        "text/html": "<table><tr><th>Name</th><th>Owner</th><th>Type</th><th>Created_datetime</th></tr><tr><td>tb_coberturacertificadoClb</td><td>dbo</td><td>user table</td><td>2020-09-22 19:25:38.240</td></tr></table>"
                    }
                },
                {
                    "output_type": "execute_result",
                    "metadata": {},
                    "execution_count": 31,
                    "data": {
                        "application/vnd.dataresource+json": {
                            "schema": {
                                "fields": [
                                    {
                                        "name": "Column_name"
                                    },
                                    {
                                        "name": "Type"
                                    },
                                    {
                                        "name": "Computed"
                                    },
                                    {
                                        "name": "Length"
                                    },
                                    {
                                        "name": "Prec"
                                    },
                                    {
                                        "name": "Scale"
                                    },
                                    {
                                        "name": "Nullable"
                                    },
                                    {
                                        "name": "TrimTrailingBlanks"
                                    },
                                    {
                                        "name": "FixedLenNullInSource"
                                    },
                                    {
                                        "name": "Collation"
                                    }
                                ]
                            },
                            "data": [
                                {
                                    "0": "id_coberturacertificado",
                                    "1": "int",
                                    "2": "no",
                                    "3": "4",
                                    "4": "10   ",
                                    "5": "0    ",
                                    "6": "no",
                                    "7": "(n/a)",
                                    "8": "(n/a)",
                                    "9": "NULL"
                                },
                                {
                                    "0": "num_certificado_coberturacertificado",
                                    "1": "nchar",
                                    "2": "no",
                                    "3": "50",
                                    "4": "     ",
                                    "5": "     ",
                                    "6": "no",
                                    "7": "(n/a)",
                                    "8": "(n/a)",
                                    "9": "Latin1_General_CI_AS"
                                },
                                {
                                    "0": "cod_cobertura_coberturacertificado",
                                    "1": "int",
                                    "2": "no",
                                    "3": "4",
                                    "4": "10   ",
                                    "5": "0    ",
                                    "6": "no",
                                    "7": "(n/a)",
                                    "8": "(n/a)",
                                    "9": "NULL"
                                },
                                {
                                    "0": "vl_capital_coberturacertificado",
                                    "1": "decimal",
                                    "2": "no",
                                    "3": "9",
                                    "4": "18   ",
                                    "5": "2    ",
                                    "6": "yes",
                                    "7": "(n/a)",
                                    "8": "(n/a)",
                                    "9": "NULL"
                                },
                                {
                                    "0": "data_carga",
                                    "1": "datetime",
                                    "2": "no",
                                    "3": "8",
                                    "4": "     ",
                                    "5": "     ",
                                    "6": "yes",
                                    "7": "(n/a)",
                                    "8": "(n/a)",
                                    "9": "NULL"
                                }
                            ]
                        },
                        "text/html": "<table><tr><th>Column_name</th><th>Type</th><th>Computed</th><th>Length</th><th>Prec</th><th>Scale</th><th>Nullable</th><th>TrimTrailingBlanks</th><th>FixedLenNullInSource</th><th>Collation</th></tr><tr><td>id_coberturacertificado</td><td>int</td><td>no</td><td>4</td><td>10   </td><td>0    </td><td>no</td><td>(n/a)</td><td>(n/a)</td><td>NULL</td></tr><tr><td>num_certificado_coberturacertificado</td><td>nchar</td><td>no</td><td>50</td><td>     </td><td>     </td><td>no</td><td>(n/a)</td><td>(n/a)</td><td>Latin1_General_CI_AS</td></tr><tr><td>cod_cobertura_coberturacertificado</td><td>int</td><td>no</td><td>4</td><td>10   </td><td>0    </td><td>no</td><td>(n/a)</td><td>(n/a)</td><td>NULL</td></tr><tr><td>vl_capital_coberturacertificado</td><td>decimal</td><td>no</td><td>9</td><td>18   </td><td>2    </td><td>yes</td><td>(n/a)</td><td>(n/a)</td><td>NULL</td></tr><tr><td>data_carga</td><td>datetime</td><td>no</td><td>8</td><td>     </td><td>     </td><td>yes</td><td>(n/a)</td><td>(n/a)</td><td>NULL</td></tr></table>"
                    }
                },
                {
                    "output_type": "execute_result",
                    "metadata": {},
                    "execution_count": 31,
                    "data": {
                        "application/vnd.dataresource+json": {
                            "schema": {
                                "fields": [
                                    {
                                        "name": "Identity"
                                    },
                                    {
                                        "name": "Seed"
                                    },
                                    {
                                        "name": "Increment"
                                    },
                                    {
                                        "name": "Not For Replication"
                                    }
                                ]
                            },
                            "data": [
                                {
                                    "0": "id_coberturacertificado",
                                    "1": "1",
                                    "2": "1",
                                    "3": "1"
                                }
                            ]
                        },
                        "text/html": "<table><tr><th>Identity</th><th>Seed</th><th>Increment</th><th>Not For Replication</th></tr><tr><td>id_coberturacertificado</td><td>1</td><td>1</td><td>1</td></tr></table>"
                    }
                },
                {
                    "output_type": "execute_result",
                    "metadata": {},
                    "execution_count": 31,
                    "data": {
                        "application/vnd.dataresource+json": {
                            "schema": {
                                "fields": [
                                    {
                                        "name": "RowGuidCol"
                                    }
                                ]
                            },
                            "data": [
                                {
                                    "0": "No rowguidcol column defined."
                                }
                            ]
                        },
                        "text/html": "<table><tr><th>RowGuidCol</th></tr><tr><td>No rowguidcol column defined.</td></tr></table>"
                    }
                },
                {
                    "output_type": "execute_result",
                    "metadata": {},
                    "execution_count": 31,
                    "data": {
                        "application/vnd.dataresource+json": {
                            "schema": {
                                "fields": [
                                    {
                                        "name": "Data_located_on_filegroup"
                                    }
                                ]
                            },
                            "data": [
                                {
                                    "0": "PRIMARY"
                                }
                            ]
                        },
                        "text/html": "<table><tr><th>Data_located_on_filegroup</th></tr><tr><td>PRIMARY</td></tr></table>"
                    }
                },
                {
                    "output_type": "execute_result",
                    "metadata": {},
                    "execution_count": 31,
                    "data": {
                        "application/vnd.dataresource+json": {
                            "schema": {
                                "fields": [
                                    {
                                        "name": "index_name"
                                    },
                                    {
                                        "name": "index_description"
                                    },
                                    {
                                        "name": "index_keys"
                                    }
                                ]
                            },
                            "data": [
                                {
                                    "0": "PK_tb_coberturacertificadoClb",
                                    "1": "clustered, unique, primary key located on PRIMARY",
                                    "2": "id_coberturacertificado"
                                }
                            ]
                        },
                        "text/html": "<table><tr><th>index_name</th><th>index_description</th><th>index_keys</th></tr><tr><td>PK_tb_coberturacertificadoClb</td><td>clustered, unique, primary key located on PRIMARY</td><td>id_coberturacertificado</td></tr></table>"
                    }
                },
                {
                    "output_type": "execute_result",
                    "metadata": {},
                    "execution_count": 31,
                    "data": {
                        "application/vnd.dataresource+json": {
                            "schema": {
                                "fields": [
                                    {
                                        "name": "constraint_type"
                                    },
                                    {
                                        "name": "constraint_name"
                                    },
                                    {
                                        "name": "delete_action"
                                    },
                                    {
                                        "name": "update_action"
                                    },
                                    {
                                        "name": "status_enabled"
                                    },
                                    {
                                        "name": "status_for_replication"
                                    },
                                    {
                                        "name": "constraint_keys"
                                    }
                                ]
                            },
                            "data": [
                                {
                                    "0": "PRIMARY KEY (clustered)",
                                    "1": "PK_tb_coberturacertificadoClb",
                                    "2": "(n/a)",
                                    "3": "(n/a)",
                                    "4": "(n/a)",
                                    "5": "(n/a)",
                                    "6": "id_coberturacertificado"
                                }
                            ]
                        },
                        "text/html": "<table><tr><th>constraint_type</th><th>constraint_name</th><th>delete_action</th><th>update_action</th><th>status_enabled</th><th>status_for_replication</th><th>constraint_keys</th></tr><tr><td>PRIMARY KEY (clustered)</td><td>PK_tb_coberturacertificadoClb</td><td>(n/a)</td><td>(n/a)</td><td>(n/a)</td><td>(n/a)</td><td>id_coberturacertificado</td></tr></table>"
                    }
                }
            ],
            "execution_count": 31
        },
        {
            "cell_type": "markdown",
            "source": "-- Criação da Função de Partição Aqui seria importante criar uma nomenclatura que faça lembrar o nome da tabela.",
            "metadata": {}
        },
        {
            "cell_type": "code",
            "source": "USE\r\nDLKMUMPS\r\nGO\r\n\r\n\r\n\r\nCREATE PARTITION FUNCTION [PF_Int_Partition_tb_coberturacertificadoClb] (int)\r\nAS RANGE LEFT FOR VALUES \r\n(\r\n50000000,\r\n100000000,\r\n150000000,\r\n200000000,\r\n250000000,\r\n300000000,\r\n350000000,\r\n400000000,\r\n450000000\r\n)\r\n",
            "metadata": {},
            "outputs": [
                {
                    "output_type": "display_data",
                    "data": {
                        "text/html": "Commands completed successfully."
                    },
                    "metadata": {}
                },
                {
                    "output_type": "display_data",
                    "data": {
                        "text/html": "Total execution time: 00:00:00.0033800"
                    },
                    "metadata": {}
                },
                {
                    "output_type": "display_data",
                    "data": {
                        "text/html": "Commands completed successfully."
                    },
                    "metadata": {}
                },
                {
                    "output_type": "display_data",
                    "data": {
                        "text/html": "Total execution time: 00:00:00.0055515"
                    },
                    "metadata": {}
                }
            ],
            "execution_count": 60
        },
        {
            "cell_type": "markdown",
            "source": "-- Criar a função de Schema",
            "metadata": {}
        },
        {
            "cell_type": "code",
            "source": "USE\r\nDLKMUMPS\r\nGO\r\n\r\nCREATE PARTITION SCHEME [PS_Int_Partition_tb_coberturacertificadoClb]\r\nAS PARTITION [PF_Int_Partition_tb_coberturacertificadoClb]\r\nTO\r\n(\r\n    [FG_Particionamento_01],\r\n    [FG_Particionamento_02],\r\n    [FG_Particionamento_03],\r\n    [FG_Particionamento_04],\r\n    [FG_Particionamento_05],\r\n    [FG_Particionamento_06],\r\n    [FG_Particionamento_07],\r\n    [FG_Particionamento_08],\r\n    [FG_Particionamento_09],\r\n    [FG_Particionamento_10]\r\n)",
            "metadata": {},
            "outputs": [
                {
                    "output_type": "display_data",
                    "data": {
                        "text/html": "Commands completed successfully."
                    },
                    "metadata": {}
                },
                {
                    "output_type": "display_data",
                    "data": {
                        "text/html": "Total execution time: 00:00:00.0018352"
                    },
                    "metadata": {}
                },
                {
                    "output_type": "display_data",
                    "data": {
                        "text/html": "Commands completed successfully."
                    },
                    "metadata": {}
                },
                {
                    "output_type": "display_data",
                    "data": {
                        "text/html": "Total execution time: 00:00:00.0090583"
                    },
                    "metadata": {}
                }
            ],
            "execution_count": 61
        },
        {
            "cell_type": "markdown",
            "source": "-- Criação da PK com Indice Cluster já na função de partição\r\n\r\n-- Atenção para a mudança do Partition Schema que deve ser criado, bem como o nome do campo.",
            "metadata": {}
        },
        {
            "cell_type": "code",
            "source": "\r\nUSE\r\nDLKMUMPS\r\nGO\r\n\r\n/****** Object:  Index [PK_tb_coberturacertificadoClb]    Script Date: 07/10/2020 10:42:12 ******/\r\nALTER TABLE [dlkmumps].[tb_coberturacertificadoClb] ADD  CONSTRAINT [PK_tb_coberturacertificadoClb] PRIMARY KEY CLUSTERED \r\n(\r\n\t[id_coberturacertificado] ASC\r\n)WITH (PAD_INDEX = OFF, STATISTICS_NORECOMPUTE = OFF, SORT_IN_TEMPDB = OFF, IGNORE_DUP_KEY = OFF, ONLINE = OFF, ALLOW_ROW_LOCKS = ON, ALLOW_PAGE_LOCKS = ON) ON [PS_Int_Partition_tb_coberturacertificadoClb]\r\n(id_coberturacertificado)\r\nGO\r\n\r\n",
            "metadata": {},
            "outputs": [
                {
                    "output_type": "display_data",
                    "data": {
                        "text/html": "Commands completed successfully."
                    },
                    "metadata": {}
                },
                {
                    "output_type": "display_data",
                    "data": {
                        "text/html": "Total execution time: 00:00:00.0013778"
                    },
                    "metadata": {}
                },
                {
                    "output_type": "display_data",
                    "data": {
                        "text/html": "Commands completed successfully."
                    },
                    "metadata": {}
                },
                {
                    "output_type": "display_data",
                    "data": {
                        "text/html": "Total execution time: 00:00:56.1406859"
                    },
                    "metadata": {}
                }
            ],
            "execution_count": 62
        },
        {
            "cell_type": "markdown",
            "source": "-- Habilitar as estatisticas incrementais na tabela com o nome indice",
            "metadata": {}
        },
        {
            "cell_type": "code",
            "source": "USE\r\nDLKMUMPS\r\nGO\r\nALTER INDEX PK_tb_coberturacertificadoClb ON [dlkmumps].[tb_coberturacertificadoClb] REBUILD WITH (STATISTICS_INCREMENTAL=ON)",
            "metadata": {},
            "outputs": [
                {
                    "output_type": "display_data",
                    "data": {
                        "text/html": "Commands completed successfully."
                    },
                    "metadata": {}
                },
                {
                    "output_type": "display_data",
                    "data": {
                        "text/html": "Total execution time: 00:00:00.0098485"
                    },
                    "metadata": {}
                },
                {
                    "output_type": "display_data",
                    "data": {
                        "text/html": "Commands completed successfully."
                    },
                    "metadata": {}
                },
                {
                    "output_type": "display_data",
                    "data": {
                        "text/html": "Total execution time: 00:00:18.5720578"
                    },
                    "metadata": {}
                }
            ],
            "execution_count": 64
        },
        {
            "cell_type": "markdown",
            "source": "-- Verificar com que está as fronteiras dos indices",
            "metadata": {}
        },
        {
            "cell_type": "code",
            "source": "use\r\nDLKMUMPS\r\nGO\r\n\r\n\r\nDECLARE @tablename varchar(50)\r\nset @tablename = 'tb_coberturacertificadoClb'\r\n\r\nDECLARE @schemaname varchar(50)\r\n\r\nset @schemaname = 'dlkmumps'\r\n\r\nSELECT s.NAME AS 'schema'\r\n       , o.NAME AS 'table'\r\n       , CASE o.type\r\n             WHEN 'v' THEN 'View'\r\n             WHEN 'u' THEN 'Table'\r\n             ELSE o.type\r\n         END AS objecttype\r\n       , i.NAME AS indexname\r\n       , i.type_desc\r\n       , p.data_compression_desc\r\n       , ds.type_desc AS DataSpaceTypeDesc\r\n       , p.partition_number\r\n       , pf.NAME AS pf_name\r\n       , ps.NAME AS ps_name\r\n       , CASE\r\n             WHEN partitionds.NAME IS NULL THEN ds.NAME\r\n             ELSE partitionds.NAME\r\n         END AS partition_fg\r\n       , i.is_primary_key\r\n       , i.is_unique\r\n       , p.rows\r\nFROM   sys.indexes i\r\n       INNER JOIN sys.objects o\r\n               ON o.object_id = i.object_id\r\n       INNER JOIN sys.data_spaces ds\r\n               ON DS.data_space_id = i.data_space_id\r\n       LEFT JOIN sys.schemas s\r\n              ON o.schema_id = s.schema_id\r\n       LEFT JOIN sys.partitions p\r\n              ON i.index_id  = p.index_id\r\n             AND i.object_id = p.object_id\r\n       LEFT JOIN sys.destination_data_spaces dds\r\n              ON i.data_space_id    = dds.partition_scheme_id\r\n             AND p.partition_number = dds.destination_id\r\n       LEFT JOIN sys.data_spaces partitionds\r\n              ON dds.data_space_id = partitionds.data_space_id\r\n       LEFT JOIN sys.partition_schemes AS ps\r\n              ON dds.partition_scheme_id = ps.data_space_id\r\n       LEFT JOIN sys.partition_functions AS pf\r\n              ON ps.function_id = pf.function_id\r\nWHERE  o.NAME = @tablename\r\nand    s.NAME = @schemaname\r\nORDER  BY s.NAME\r\n          , o.NAME\r\n          , i.NAME\r\n          , p.partition_number\r\nGO",
            "metadata": {},
            "outputs": [
                {
                    "output_type": "display_data",
                    "data": {
                        "text/html": "Commands completed successfully."
                    },
                    "metadata": {}
                },
                {
                    "output_type": "display_data",
                    "data": {
                        "text/html": "Total execution time: 00:00:00.0028434"
                    },
                    "metadata": {}
                },
                {
                    "output_type": "display_data",
                    "data": {
                        "text/html": "(10 rows affected)"
                    },
                    "metadata": {}
                },
                {
                    "output_type": "display_data",
                    "data": {
                        "text/html": "Total execution time: 00:00:00.0728216"
                    },
                    "metadata": {}
                },
                {
                    "output_type": "execute_result",
                    "metadata": {},
                    "execution_count": 67,
                    "data": {
                        "application/vnd.dataresource+json": {
                            "schema": {
                                "fields": [
                                    {
                                        "name": "schema"
                                    },
                                    {
                                        "name": "table"
                                    },
                                    {
                                        "name": "objecttype"
                                    },
                                    {
                                        "name": "indexname"
                                    },
                                    {
                                        "name": "type_desc"
                                    },
                                    {
                                        "name": "data_compression_desc"
                                    },
                                    {
                                        "name": "DataSpaceTypeDesc"
                                    },
                                    {
                                        "name": "partition_number"
                                    },
                                    {
                                        "name": "pf_name"
                                    },
                                    {
                                        "name": "ps_name"
                                    },
                                    {
                                        "name": "partition_fg"
                                    },
                                    {
                                        "name": "is_primary_key"
                                    },
                                    {
                                        "name": "is_unique"
                                    },
                                    {
                                        "name": "rows"
                                    }
                                ]
                            },
                            "data": [
                                {
                                    "0": "dlkmumps",
                                    "1": "tb_coberturacertificadoClb",
                                    "2": "Table",
                                    "3": "PK_tb_coberturacertificadoClb",
                                    "4": "CLUSTERED",
                                    "5": "NONE",
                                    "6": "PARTITION_SCHEME",
                                    "7": "1",
                                    "8": "PF_Int_Partition_tb_coberturacertificadoClb",
                                    "9": "PS_Int_Partition_tb_coberturacertificadoClb",
                                    "10": "FG_Particionamento_01",
                                    "11": "1",
                                    "12": "1",
                                    "13": "12831289"
                                },
                                {
                                    "0": "dlkmumps",
                                    "1": "tb_coberturacertificadoClb",
                                    "2": "Table",
                                    "3": "PK_tb_coberturacertificadoClb",
                                    "4": "CLUSTERED",
                                    "5": "NONE",
                                    "6": "PARTITION_SCHEME",
                                    "7": "2",
                                    "8": "PF_Int_Partition_tb_coberturacertificadoClb",
                                    "9": "PS_Int_Partition_tb_coberturacertificadoClb",
                                    "10": "FG_Particionamento_02",
                                    "11": "1",
                                    "12": "1",
                                    "13": "0"
                                },
                                {
                                    "0": "dlkmumps",
                                    "1": "tb_coberturacertificadoClb",
                                    "2": "Table",
                                    "3": "PK_tb_coberturacertificadoClb",
                                    "4": "CLUSTERED",
                                    "5": "NONE",
                                    "6": "PARTITION_SCHEME",
                                    "7": "3",
                                    "8": "PF_Int_Partition_tb_coberturacertificadoClb",
                                    "9": "PS_Int_Partition_tb_coberturacertificadoClb",
                                    "10": "FG_Particionamento_03",
                                    "11": "1",
                                    "12": "1",
                                    "13": "0"
                                },
                                {
                                    "0": "dlkmumps",
                                    "1": "tb_coberturacertificadoClb",
                                    "2": "Table",
                                    "3": "PK_tb_coberturacertificadoClb",
                                    "4": "CLUSTERED",
                                    "5": "NONE",
                                    "6": "PARTITION_SCHEME",
                                    "7": "4",
                                    "8": "PF_Int_Partition_tb_coberturacertificadoClb",
                                    "9": "PS_Int_Partition_tb_coberturacertificadoClb",
                                    "10": "FG_Particionamento_04",
                                    "11": "1",
                                    "12": "1",
                                    "13": "0"
                                },
                                {
                                    "0": "dlkmumps",
                                    "1": "tb_coberturacertificadoClb",
                                    "2": "Table",
                                    "3": "PK_tb_coberturacertificadoClb",
                                    "4": "CLUSTERED",
                                    "5": "NONE",
                                    "6": "PARTITION_SCHEME",
                                    "7": "5",
                                    "8": "PF_Int_Partition_tb_coberturacertificadoClb",
                                    "9": "PS_Int_Partition_tb_coberturacertificadoClb",
                                    "10": "FG_Particionamento_05",
                                    "11": "1",
                                    "12": "1",
                                    "13": "0"
                                },
                                {
                                    "0": "dlkmumps",
                                    "1": "tb_coberturacertificadoClb",
                                    "2": "Table",
                                    "3": "PK_tb_coberturacertificadoClb",
                                    "4": "CLUSTERED",
                                    "5": "NONE",
                                    "6": "PARTITION_SCHEME",
                                    "7": "6",
                                    "8": "PF_Int_Partition_tb_coberturacertificadoClb",
                                    "9": "PS_Int_Partition_tb_coberturacertificadoClb",
                                    "10": "FG_Particionamento_06",
                                    "11": "1",
                                    "12": "1",
                                    "13": "0"
                                },
                                {
                                    "0": "dlkmumps",
                                    "1": "tb_coberturacertificadoClb",
                                    "2": "Table",
                                    "3": "PK_tb_coberturacertificadoClb",
                                    "4": "CLUSTERED",
                                    "5": "NONE",
                                    "6": "PARTITION_SCHEME",
                                    "7": "7",
                                    "8": "PF_Int_Partition_tb_coberturacertificadoClb",
                                    "9": "PS_Int_Partition_tb_coberturacertificadoClb",
                                    "10": "FG_Particionamento_07",
                                    "11": "1",
                                    "12": "1",
                                    "13": "0"
                                },
                                {
                                    "0": "dlkmumps",
                                    "1": "tb_coberturacertificadoClb",
                                    "2": "Table",
                                    "3": "PK_tb_coberturacertificadoClb",
                                    "4": "CLUSTERED",
                                    "5": "NONE",
                                    "6": "PARTITION_SCHEME",
                                    "7": "8",
                                    "8": "PF_Int_Partition_tb_coberturacertificadoClb",
                                    "9": "PS_Int_Partition_tb_coberturacertificadoClb",
                                    "10": "FG_Particionamento_08",
                                    "11": "1",
                                    "12": "1",
                                    "13": "0"
                                },
                                {
                                    "0": "dlkmumps",
                                    "1": "tb_coberturacertificadoClb",
                                    "2": "Table",
                                    "3": "PK_tb_coberturacertificadoClb",
                                    "4": "CLUSTERED",
                                    "5": "NONE",
                                    "6": "PARTITION_SCHEME",
                                    "7": "9",
                                    "8": "PF_Int_Partition_tb_coberturacertificadoClb",
                                    "9": "PS_Int_Partition_tb_coberturacertificadoClb",
                                    "10": "FG_Particionamento_09",
                                    "11": "1",
                                    "12": "1",
                                    "13": "0"
                                },
                                {
                                    "0": "dlkmumps",
                                    "1": "tb_coberturacertificadoClb",
                                    "2": "Table",
                                    "3": "PK_tb_coberturacertificadoClb",
                                    "4": "CLUSTERED",
                                    "5": "NONE",
                                    "6": "PARTITION_SCHEME",
                                    "7": "10",
                                    "8": "PF_Int_Partition_tb_coberturacertificadoClb",
                                    "9": "PS_Int_Partition_tb_coberturacertificadoClb",
                                    "10": "FG_Particionamento_10",
                                    "11": "1",
                                    "12": "1",
                                    "13": "0"
                                }
                            ]
                        },
                        "text/html": "<table><tr><th>schema</th><th>table</th><th>objecttype</th><th>indexname</th><th>type_desc</th><th>data_compression_desc</th><th>DataSpaceTypeDesc</th><th>partition_number</th><th>pf_name</th><th>ps_name</th><th>partition_fg</th><th>is_primary_key</th><th>is_unique</th><th>rows</th></tr><tr><td>dlkmumps</td><td>tb_coberturacertificadoClb</td><td>Table</td><td>PK_tb_coberturacertificadoClb</td><td>CLUSTERED</td><td>NONE</td><td>PARTITION_SCHEME</td><td>1</td><td>PF_Int_Partition_tb_coberturacertificadoClb</td><td>PS_Int_Partition_tb_coberturacertificadoClb</td><td>FG_Particionamento_01</td><td>1</td><td>1</td><td>12831289</td></tr><tr><td>dlkmumps</td><td>tb_coberturacertificadoClb</td><td>Table</td><td>PK_tb_coberturacertificadoClb</td><td>CLUSTERED</td><td>NONE</td><td>PARTITION_SCHEME</td><td>2</td><td>PF_Int_Partition_tb_coberturacertificadoClb</td><td>PS_Int_Partition_tb_coberturacertificadoClb</td><td>FG_Particionamento_02</td><td>1</td><td>1</td><td>0</td></tr><tr><td>dlkmumps</td><td>tb_coberturacertificadoClb</td><td>Table</td><td>PK_tb_coberturacertificadoClb</td><td>CLUSTERED</td><td>NONE</td><td>PARTITION_SCHEME</td><td>3</td><td>PF_Int_Partition_tb_coberturacertificadoClb</td><td>PS_Int_Partition_tb_coberturacertificadoClb</td><td>FG_Particionamento_03</td><td>1</td><td>1</td><td>0</td></tr><tr><td>dlkmumps</td><td>tb_coberturacertificadoClb</td><td>Table</td><td>PK_tb_coberturacertificadoClb</td><td>CLUSTERED</td><td>NONE</td><td>PARTITION_SCHEME</td><td>4</td><td>PF_Int_Partition_tb_coberturacertificadoClb</td><td>PS_Int_Partition_tb_coberturacertificadoClb</td><td>FG_Particionamento_04</td><td>1</td><td>1</td><td>0</td></tr><tr><td>dlkmumps</td><td>tb_coberturacertificadoClb</td><td>Table</td><td>PK_tb_coberturacertificadoClb</td><td>CLUSTERED</td><td>NONE</td><td>PARTITION_SCHEME</td><td>5</td><td>PF_Int_Partition_tb_coberturacertificadoClb</td><td>PS_Int_Partition_tb_coberturacertificadoClb</td><td>FG_Particionamento_05</td><td>1</td><td>1</td><td>0</td></tr><tr><td>dlkmumps</td><td>tb_coberturacertificadoClb</td><td>Table</td><td>PK_tb_coberturacertificadoClb</td><td>CLUSTERED</td><td>NONE</td><td>PARTITION_SCHEME</td><td>6</td><td>PF_Int_Partition_tb_coberturacertificadoClb</td><td>PS_Int_Partition_tb_coberturacertificadoClb</td><td>FG_Particionamento_06</td><td>1</td><td>1</td><td>0</td></tr><tr><td>dlkmumps</td><td>tb_coberturacertificadoClb</td><td>Table</td><td>PK_tb_coberturacertificadoClb</td><td>CLUSTERED</td><td>NONE</td><td>PARTITION_SCHEME</td><td>7</td><td>PF_Int_Partition_tb_coberturacertificadoClb</td><td>PS_Int_Partition_tb_coberturacertificadoClb</td><td>FG_Particionamento_07</td><td>1</td><td>1</td><td>0</td></tr><tr><td>dlkmumps</td><td>tb_coberturacertificadoClb</td><td>Table</td><td>PK_tb_coberturacertificadoClb</td><td>CLUSTERED</td><td>NONE</td><td>PARTITION_SCHEME</td><td>8</td><td>PF_Int_Partition_tb_coberturacertificadoClb</td><td>PS_Int_Partition_tb_coberturacertificadoClb</td><td>FG_Particionamento_08</td><td>1</td><td>1</td><td>0</td></tr><tr><td>dlkmumps</td><td>tb_coberturacertificadoClb</td><td>Table</td><td>PK_tb_coberturacertificadoClb</td><td>CLUSTERED</td><td>NONE</td><td>PARTITION_SCHEME</td><td>9</td><td>PF_Int_Partition_tb_coberturacertificadoClb</td><td>PS_Int_Partition_tb_coberturacertificadoClb</td><td>FG_Particionamento_09</td><td>1</td><td>1</td><td>0</td></tr><tr><td>dlkmumps</td><td>tb_coberturacertificadoClb</td><td>Table</td><td>PK_tb_coberturacertificadoClb</td><td>CLUSTERED</td><td>NONE</td><td>PARTITION_SCHEME</td><td>10</td><td>PF_Int_Partition_tb_coberturacertificadoClb</td><td>PS_Int_Partition_tb_coberturacertificadoClb</td><td>FG_Particionamento_10</td><td>1</td><td>1</td><td>0</td></tr></table>"
                    }
                }
            ],
            "execution_count": 67
        },
        {
            "cell_type": "markdown",
            "source": "-- Voltar com a tabela original para o processo de CDC\r\n\r\n-- Referência importante, pois em situações onde for usada o partition Switch, Merge, etc, pode acarretar em inconsistências de dados sendo necessário refazer o CDC.\r\n\r\nhttps://docs.microsoft.com/pt-br/sql/relational-databases/system-stored-procedures/sys-sp-cdc-enable-table-transact-sql?view=sql-server-ver15   ",
            "metadata": {}
        },
        {
            "cell_type": "code",
            "source": "EXEC sys.sp_cdc_enable_table  \r\n@source_schema = N'dlkmumps',  \r\n@source_name   = N'tb_coberturacertificadoClb',  \r\n@role_name     = NULL,\r\n@supports_net_changes = 1  \r\n",
            "metadata": {},
            "outputs": [
                {
                    "output_type": "display_data",
                    "data": {
                        "text/html": "Warning: The @allow_partition_switch parameter is set to 1. Change data capture will not track changes introduced in the table resulting from a partition switch which will cause data inconsistency when changes are consumed. Refer to books online for more information about partition switching behavior when using Change Data Capture."
                    },
                    "metadata": {}
                },
                {
                    "output_type": "display_data",
                    "data": {
                        "text/html": "Total execution time: 00:00:00.2081170"
                    },
                    "metadata": {}
                }
            ],
            "execution_count": 72
        },
        {
            "cell_type": "markdown",
            "source": "-- Query para avaliar o partition elimination\r\n\r\nVerificar por meio do plano de execução o partition elimination ",
            "metadata": {}
        },
        {
            "cell_type": "code",
            "source": "select id_coberturacertificado from dlkmumps.tb_coberturacertificadoClb\r\nwhere id_coberturacertificado = 80000000",
            "metadata": {},
            "outputs": [],
            "execution_count": 0
        }
    ]
}