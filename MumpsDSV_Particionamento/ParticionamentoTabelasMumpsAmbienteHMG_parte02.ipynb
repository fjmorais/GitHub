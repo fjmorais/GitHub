{
    "metadata": {
        "kernelspec": {
            "name": "SQL",
            "display_name": "SQL",
            "language": "sql"
        },
        "language_info": {
            "name": "sql",
            "version": ""
        }
    },
    "nbformat_minor": 2,
    "nbformat": 4,
    "cells": [
        {
            "cell_type": "markdown",
            "source": "Iniciar o particionamento de tabela tb_historicomovimentacaoClb de acordo com a RS 615258",
            "metadata": {}
        },
        {
            "cell_type": "code",
            "source": "USE\r\nDLKMUMPS\r\nGO\r\n\r\n\r\nSELECT TOP 10\r\n    t.NAME AS TableName,\r\n    s.Name AS SchemaName,\r\n    p.rows,\r\n    SUM(a.total_pages) * 8 AS TotalSpaceKB, \r\n    CAST(ROUND(((SUM(a.total_pages) * 8) / 1024.00), 2) AS NUMERIC(36, 2)) AS TotalSpaceMB,\r\n    SUM(a.used_pages) * 8 AS UsedSpaceKB, \r\n    CAST(ROUND(((SUM(a.used_pages) * 8) / 1024.00), 2) AS NUMERIC(36, 2)) AS UsedSpaceMB, \r\n    (SUM(a.total_pages) - SUM(a.used_pages)) * 8 AS UnusedSpaceKB,\r\n    CAST(ROUND(((SUM(a.total_pages) - SUM(a.used_pages)) * 8) / 1024.00, 2) AS NUMERIC(36, 2)) AS UnusedSpaceMB\r\nFROM \r\n    sys.tables t\r\nINNER JOIN      \r\n    sys.indexes i ON t.OBJECT_ID = i.object_id\r\nINNER JOIN \r\n    sys.partitions p ON i.object_id = p.OBJECT_ID AND i.index_id = p.index_id\r\nINNER JOIN \r\n    sys.allocation_units a ON p.partition_id = a.container_id\r\nLEFT OUTER JOIN \r\n    sys.schemas s ON t.schema_id = s.schema_id\r\nWHERE \r\n    t.NAME NOT LIKE 'dt%' \r\n    AND t.is_ms_shipped = 0\r\n    AND i.OBJECT_ID > 255 \r\n\tand t.NAME = 'tb_historicomovimentacaoClb'\r\n    GROUP BY \r\n    t.Name, s.Name, p.Rows\r\nORDER BY \r\n    rows DESC, t.Name",
            "metadata": {},
            "outputs": [
                {
                    "output_type": "display_data",
                    "data": {
                        "text/html": "Commands completed successfully."
                    },
                    "metadata": {}
                },
                {
                    "output_type": "display_data",
                    "data": {
                        "text/html": "Total execution time: 00:00:00.0559409"
                    },
                    "metadata": {}
                },
                {
                    "output_type": "display_data",
                    "data": {
                        "text/html": "(1 row affected)"
                    },
                    "metadata": {}
                },
                {
                    "output_type": "display_data",
                    "data": {
                        "text/html": "Total execution time: 00:00:00.1674515"
                    },
                    "metadata": {}
                },
                {
                    "output_type": "execute_result",
                    "execution_count": 1,
                    "data": {
                        "application/vnd.dataresource+json": {
                            "schema": {
                                "fields": [
                                    {
                                        "name": "TableName"
                                    },
                                    {
                                        "name": "SchemaName"
                                    },
                                    {
                                        "name": "rows"
                                    },
                                    {
                                        "name": "TotalSpaceKB"
                                    },
                                    {
                                        "name": "TotalSpaceMB"
                                    },
                                    {
                                        "name": "UsedSpaceKB"
                                    },
                                    {
                                        "name": "UsedSpaceMB"
                                    },
                                    {
                                        "name": "UnusedSpaceKB"
                                    },
                                    {
                                        "name": "UnusedSpaceMB"
                                    }
                                ]
                            },
                            "data": [
                                {
                                    "0": "tb_historicomovimentacaoClb",
                                    "1": "dlkmumps",
                                    "2": "5247642",
                                    "3": "2416912",
                                    "4": "2360,27",
                                    "5": "2218344",
                                    "6": "2166,35",
                                    "7": "198568",
                                    "8": "193,91"
                                }
                            ]
                        },
                        "text/html": "<table><tr><th>TableName</th><th>SchemaName</th><th>rows</th><th>TotalSpaceKB</th><th>TotalSpaceMB</th><th>UsedSpaceKB</th><th>UsedSpaceMB</th><th>UnusedSpaceKB</th><th>UnusedSpaceMB</th></tr><tr><td>tb_historicomovimentacaoClb</td><td>dlkmumps</td><td>5247642</td><td>2416912</td><td>2360,27</td><td>2218344</td><td>2166,35</td><td>198568</td><td>193,91</td></tr></table>"
                    },
                    "metadata": {}
                }
            ],
            "execution_count": 0
        },
        {
            "cell_type": "code",
            "source": "USE\r\nDLKMUMPS\r\nGO\r\n    \r\n    declare @databasename varchar(50)\r\n\tdeclare @tablename varchar(100)\r\n\t\t\r\n\tset @databasename = 'DLKMUMPS'\r\n\tset @tablename = 'tb_historicomovimentacaoClb'\r\n\r\n\tSELECT cu.CONSTRAINT_NAME, cu.COLUMN_NAME \r\n\tFROM INFORMATION_SCHEMA.KEY_COLUMN_USAGE cu \r\n\tWHERE EXISTS ( SELECT tc.* FROM INFORMATION_SCHEMA.TABLE_CONSTRAINTS tc \r\n\tWHERE tc.CONSTRAINT_CATALOG = @databasename \r\n\tAND tc.TABLE_NAME = @tablename \r\n\tAND tc.CONSTRAINT_TYPE = 'PRIMARY KEY' \r\n\tAND tc.CONSTRAINT_NAME = cu.CONSTRAINT_NAME )",
            "metadata": {},
            "outputs": [
                {
                    "output_type": "display_data",
                    "data": {
                        "text/html": "Commands completed successfully."
                    },
                    "metadata": {}
                },
                {
                    "output_type": "display_data",
                    "data": {
                        "text/html": "Total execution time: 00:00:00.0014924"
                    },
                    "metadata": {}
                },
                {
                    "output_type": "display_data",
                    "data": {
                        "text/html": "(1 row affected)"
                    },
                    "metadata": {}
                },
                {
                    "output_type": "display_data",
                    "data": {
                        "text/html": "Total execution time: 00:00:00.2408501"
                    },
                    "metadata": {}
                },
                {
                    "output_type": "execute_result",
                    "metadata": {},
                    "execution_count": 1,
                    "data": {
                        "application/vnd.dataresource+json": {
                            "schema": {
                                "fields": [
                                    {
                                        "name": "CONSTRAINT_NAME"
                                    },
                                    {
                                        "name": "COLUMN_NAME"
                                    }
                                ]
                            },
                            "data": [
                                {
                                    "0": "PK_tb_historicomovimentacaoClb",
                                    "1": "id_historicomovimentacao"
                                }
                            ]
                        },
                        "text/html": "<table><tr><th>CONSTRAINT_NAME</th><th>COLUMN_NAME</th></tr><tr><td>PK_tb_historicomovimentacaoClb</td><td>id_historicomovimentacao</td></tr></table>"
                    }
                }
            ],
            "execution_count": 1
        },
        {
            "cell_type": "markdown",
            "source": "-- Retirar a tabela que faz parte do CDC -- Como Verificar se a tabela está no CDC",
            "metadata": {}
        },
        {
            "cell_type": "code",
            "source": "SELECT s.name AS Schema_Name, tb.name AS Table_Name\r\n, tb.object_id, tb.type, tb.type_desc, tb.is_tracked_by_cdc\r\nFROM sys.tables tb\r\nINNER JOIN sys.schemas s on s.schema_id = tb.schema_id\r\nWHERE tb.is_tracked_by_cdc = 1\r\nand s.name = 'dlkmumps'\r\nand tb.name = 'tb_historicomovimentacaoClb'",
            "metadata": {},
            "outputs": [
                {
                    "output_type": "display_data",
                    "data": {
                        "text/html": "(1 row affected)"
                    },
                    "metadata": {}
                },
                {
                    "output_type": "display_data",
                    "data": {
                        "text/html": "Total execution time: 00:00:02.2038010"
                    },
                    "metadata": {}
                },
                {
                    "output_type": "execute_result",
                    "metadata": {},
                    "execution_count": 5,
                    "data": {
                        "application/vnd.dataresource+json": {
                            "schema": {
                                "fields": [
                                    {
                                        "name": "Schema_Name"
                                    },
                                    {
                                        "name": "Table_Name"
                                    },
                                    {
                                        "name": "object_id"
                                    },
                                    {
                                        "name": "type"
                                    },
                                    {
                                        "name": "type_desc"
                                    },
                                    {
                                        "name": "is_tracked_by_cdc"
                                    }
                                ]
                            },
                            "data": [
                                {
                                    "0": "dlkmumps",
                                    "1": "tb_historicomovimentacaoClb",
                                    "2": "1749581271",
                                    "3": "U ",
                                    "4": "USER_TABLE",
                                    "5": "1"
                                }
                            ]
                        },
                        "text/html": "<table><tr><th>Schema_Name</th><th>Table_Name</th><th>object_id</th><th>type</th><th>type_desc</th><th>is_tracked_by_cdc</th></tr><tr><td>dlkmumps</td><td>tb_historicomovimentacaoClb</td><td>1749581271</td><td>U </td><td>USER_TABLE</td><td>1</td></tr></table>"
                    }
                }
            ],
            "execution_count": 5
        },
        {
            "cell_type": "markdown",
            "source": "-- Retirar a Tabela do processo de CDC",
            "metadata": {}
        },
        {
            "cell_type": "code",
            "source": "-- Verificar tabela com  CDC\r\n\r\nUSE\r\nDLKMUMPS\r\nGO\r\n\r\n--EXEC sys.sp_cdc_help_change_data_capture\r\n--GO\r\n \r\nSELECT capture_instance as NomeTabelaCDC, OBJECT_NAME(source_object_id) as NomeTabelaDataSource, \r\n\r\n\r\nLEFT(\r\n        capture_instance, \r\n        CHARINDEX('_', capture_instance) -1        \r\n    ) schema_production\r\n    \r\nFROM cdc.change_tables\r\nwhere OBJECT_NAME(source_object_id) = 'tb_historicomovimentacaoClb'\r\n",
            "metadata": {},
            "outputs": [
                {
                    "output_type": "display_data",
                    "data": {
                        "text/html": "Commands completed successfully."
                    },
                    "metadata": {}
                },
                {
                    "output_type": "display_data",
                    "data": {
                        "text/html": "Total execution time: 00:00:00.0026538"
                    },
                    "metadata": {}
                },
                {
                    "output_type": "display_data",
                    "data": {
                        "text/html": "(1 row affected)"
                    },
                    "metadata": {}
                },
                {
                    "output_type": "display_data",
                    "data": {
                        "text/html": "Total execution time: 00:00:00.0327294"
                    },
                    "metadata": {}
                },
                {
                    "output_type": "execute_result",
                    "metadata": {},
                    "execution_count": 6,
                    "data": {
                        "application/vnd.dataresource+json": {
                            "schema": {
                                "fields": [
                                    {
                                        "name": "NomeTabelaCDC"
                                    },
                                    {
                                        "name": "NomeTabelaDataSource"
                                    },
                                    {
                                        "name": "schema_production"
                                    }
                                ]
                            },
                            "data": [
                                {
                                    "0": "dlkmumps_tb_historicomovimentacaoClb",
                                    "1": "tb_historicomovimentacaoClb",
                                    "2": "dlkmumps"
                                }
                            ]
                        },
                        "text/html": "<table><tr><th>NomeTabelaCDC</th><th>NomeTabelaDataSource</th><th>schema_production</th></tr><tr><td>dlkmumps_tb_historicomovimentacaoClb</td><td>tb_historicomovimentacaoClb</td><td>dlkmumps</td></tr></table>"
                    }
                }
            ],
            "execution_count": 6
        },
        {
            "cell_type": "markdown",
            "source": "-- Retirar a Tabela do processo de CDC",
            "metadata": {}
        },
        {
            "cell_type": "code",
            "source": "use\r\nDLKMUMPS\r\nGO\r\n\r\n--Remover tabela com CDC\r\nEXEC sys.sp_cdc_disable_table\r\n    @source_schema = 'dlkmumps', -- sysname\r\n    @source_name = 'tb_historicomovimentacaoClb', -- sysname\r\n    @capture_instance = 'dlkmumps_tb_historicomovimentacaoClb' -- sysname\r\n\r\n",
            "metadata": {},
            "outputs": [
                {
                    "output_type": "display_data",
                    "data": {
                        "text/html": "Commands completed successfully."
                    },
                    "metadata": {}
                },
                {
                    "output_type": "display_data",
                    "data": {
                        "text/html": "Total execution time: 00:00:00.0105923"
                    },
                    "metadata": {}
                },
                {
                    "output_type": "display_data",
                    "data": {
                        "text/html": "Commands completed successfully."
                    },
                    "metadata": {}
                },
                {
                    "output_type": "display_data",
                    "data": {
                        "text/html": "Total execution time: 00:00:00.2311732"
                    },
                    "metadata": {}
                }
            ],
            "execution_count": 7
        },
        {
            "cell_type": "markdown",
            "source": "--Verificar se de fato a tabela saiu do CDC",
            "metadata": {}
        },
        {
            "cell_type": "code",
            "source": "use\r\nDLKMUMPS\r\nGO\r\n\r\nSELECT s.name AS Schema_Name, tb.name AS Table_Name\r\n, tb.object_id, tb.type, tb.type_desc, tb.is_tracked_by_cdc\r\nFROM sys.tables tb\r\nINNER JOIN sys.schemas s on s.schema_id = tb.schema_id\r\nWHERE tb.is_tracked_by_cdc = 1\r\nand s.name = 'dlkmumps'\r\nand tb.name = 'tb_historicomovimentacaoClb'",
            "metadata": {},
            "outputs": [
                {
                    "output_type": "display_data",
                    "data": {
                        "text/html": "Commands completed successfully."
                    },
                    "metadata": {}
                },
                {
                    "output_type": "display_data",
                    "data": {
                        "text/html": "Total execution time: 00:00:00.9624246"
                    },
                    "metadata": {}
                },
                {
                    "output_type": "display_data",
                    "data": {
                        "text/html": "(0 rows affected)"
                    },
                    "metadata": {}
                },
                {
                    "output_type": "display_data",
                    "data": {
                        "text/html": "Total execution time: 00:00:00.0308685"
                    },
                    "metadata": {}
                },
                {
                    "output_type": "execute_result",
                    "metadata": {},
                    "execution_count": 9,
                    "data": {
                        "application/vnd.dataresource+json": {
                            "schema": {
                                "fields": [
                                    {
                                        "name": "Schema_Name"
                                    },
                                    {
                                        "name": "Table_Name"
                                    },
                                    {
                                        "name": "object_id"
                                    },
                                    {
                                        "name": "type"
                                    },
                                    {
                                        "name": "type_desc"
                                    },
                                    {
                                        "name": "is_tracked_by_cdc"
                                    }
                                ]
                            },
                            "data": []
                        },
                        "text/html": "<table><tr><th>Schema_Name</th><th>Table_Name</th><th>object_id</th><th>type</th><th>type_desc</th><th>is_tracked_by_cdc</th></tr></table>"
                    }
                }
            ],
            "execution_count": 9
        },
        {
            "cell_type": "markdown",
            "source": "-- Fazer o drop da pk na tabela tb_historicomovimentacaoClb",
            "metadata": {}
        },
        {
            "cell_type": "code",
            "source": "USE [DLKMUMPS]\r\nGO\r\n\r\n/****** Object:  Index [PK_tb_historicomovimentacaoClb]    Script Date: 07/10/2020 14:37:27 ******/\r\nALTER TABLE [dlkmumps].[tb_historicomovimentacaoClb] DROP CONSTRAINT [PK_tb_historicomovimentacaoClb] WITH ( ONLINE = OFF )\r\nGO\r\n",
            "metadata": {},
            "outputs": [
                {
                    "output_type": "display_data",
                    "data": {
                        "text/html": "Commands completed successfully."
                    },
                    "metadata": {}
                },
                {
                    "output_type": "display_data",
                    "data": {
                        "text/html": "Total execution time: 00:00:00.0028466"
                    },
                    "metadata": {}
                },
                {
                    "output_type": "display_data",
                    "data": {
                        "text/html": "Commands completed successfully."
                    },
                    "metadata": {}
                },
                {
                    "output_type": "display_data",
                    "data": {
                        "text/html": "Total execution time: 00:00:12.1812807"
                    },
                    "metadata": {}
                }
            ],
            "execution_count": 21
        },
        {
            "cell_type": "markdown",
            "source": "Validar a existência de indices não cluster na tabela que vai ser particionada.",
            "metadata": {}
        },
        {
            "cell_type": "code",
            "source": "/*****************************************************************************\r\nMIT License, http://www.opensource.org/licenses/mit-license.php\r\nContact: help@sqlworkbooks.com\r\nCopyright (c) 2018 SQL Workbooks LLC\r\nPermission is hereby granted, free of charge, to any person \r\nobtaining a copy of this software and associated documentation\r\nfiles (the \"Software\"), to deal in the Software without \r\nrestriction, including without limitation the rights to use,\r\ncopy, modify, merge, publish, distribute, sublicense, and/or\r\nsell copies of the Software, and to permit persons to whom \r\nthe Software is furnished to do so, subject to the following \r\nconditions:\r\nThe above copyright notice and this permission notice shall be\r\nincluded in all copies or substantial portions of the Software.\r\nTHE SOFTWARE IS PROVIDED \"AS IS\", WITHOUT WARRANTY OF ANY KIND, \r\nEXPRESS OR IMPLIED, INCLUDING BUT NOT LIMITED TO THE WARRANTIES \r\nOF MERCHANTABILITY, FITNESS FOR A PARTICULAR PURPOSE AND \r\nNONINFRINGEMENT. IN NO EVENT SHALL THE AUTHORS OR COPYRIGHT \r\nHOLDERS BE LIABLE FOR ANY CLAIM, DAMAGES OR OTHER LIABILITY, \r\nWHETHER IN AN ACTION OF CONTRACT, TORT OR OTHERWISE, ARISING \r\nFROM, OUT OF OR IN CONNECTION WITH THE SOFTWARE OR THE USE OR \r\nOTHER DEALINGS IN THE SOFTWARE.\r\n*****************************************************************************/\r\nUSE\r\nDLKMUMPS\r\nGO\r\n\r\n\r\ndeclare @tablename varchar(50)\r\ndeclare @schemaname varchar(50)\r\n\r\nset @tablename = 'tb_historicomovimentacaoClb'\r\nset @schemaname = 'dlkmumps'\r\n\r\nSELECT \r\n    DB_NAME() AS database_name,\r\n    sc.name + N'.' + t.name AS table_name,\r\n    (SELECT MAX(user_reads) \r\n        FROM (VALUES (last_user_seek), (last_user_scan), (last_user_lookup)) AS value(user_reads)) AS last_user_read,\r\n    last_user_update,\r\n    CASE si.index_id WHEN 0 THEN N'/* No create statement (Heap) */'\r\n    ELSE \r\n        CASE is_primary_key WHEN 1 THEN\r\n            N'ALTER TABLE ' + QUOTENAME(sc.name) + N'.' + QUOTENAME(t.name) + N' ADD CONSTRAINT ' + QUOTENAME(si.name) + N' PRIMARY KEY ' +\r\n                CASE WHEN si.index_id > 1 THEN N'NON' ELSE N'' END + N'CLUSTERED '\r\n            ELSE N'CREATE ' + \r\n                CASE WHEN si.is_unique = 1 then N'UNIQUE ' ELSE N'' END +\r\n                CASE WHEN si.index_id > 1 THEN N'NON' ELSE N'' END + N'CLUSTERED ' +\r\n                N'INDEX ' + QUOTENAME(si.name) + N' ON ' + QUOTENAME(sc.name) + N'.' + QUOTENAME(t.name) + N' '\r\n        END +\r\n        /* key def */ N'(' + key_definition + N')' +\r\n        /* includes */ CASE WHEN include_definition IS NOT NULL THEN \r\n            N' INCLUDE (' + include_definition + N')'\r\n            ELSE N''\r\n        END +\r\n        /* filters */ CASE WHEN filter_definition IS NOT NULL THEN \r\n            N' WHERE ' + filter_definition ELSE N''\r\n        END +\r\n        /* with clause - compression goes here */\r\n        CASE WHEN row_compression_partition_list IS NOT NULL OR page_compression_partition_list IS NOT NULL \r\n            THEN N' WITH (' +\r\n                CASE WHEN row_compression_partition_list IS NOT NULL THEN\r\n                    N'DATA_COMPRESSION = ROW ' + CASE WHEN psc.name IS NULL THEN N'' ELSE + N' ON PARTITIONS (' + row_compression_partition_list + N')' END\r\n                ELSE N'' END +\r\n                CASE WHEN row_compression_partition_list IS NOT NULL AND page_compression_partition_list IS NOT NULL THEN N', ' ELSE N'' END +\r\n                CASE WHEN page_compression_partition_list IS NOT NULL THEN\r\n                    N'DATA_COMPRESSION = PAGE ' + CASE WHEN psc.name IS NULL THEN N'' ELSE + N' ON PARTITIONS (' + page_compression_partition_list + N')' END\r\n                ELSE N'' END\r\n            + N')'\r\n            ELSE N''\r\n        END +\r\n        /* ON where? filegroup? partition scheme? */\r\n        ' ON ' + CASE WHEN psc.name is null \r\n            THEN ISNULL(QUOTENAME(fg.name),N'')\r\n            ELSE psc.name + N' (' + partitioning_column.column_name + N')' \r\n            END\r\n        + N';'\r\n    END AS index_create_statement,\r\n    si.index_id,\r\n    si.name AS index_name,\r\n    partition_sums.reserved_in_row_GB,\r\n    partition_sums.reserved_LOB_GB,\r\n    partition_sums.row_count,\r\n    stat.user_seeks,\r\n    stat.user_scans,\r\n    stat.user_lookups,\r\n    user_updates AS queries_that_modified,\r\n    partition_sums.partition_count,\r\n    si.allow_page_locks,\r\n    si.allow_row_locks,\r\n    si.is_hypothetical,\r\n    si.has_filter,\r\n    si.fill_factor,\r\n    si.is_unique,\r\n    ISNULL(pf.name, '/* Not partitioned */') AS partition_function,\r\n    ISNULL(psc.name, fg.name) AS partition_scheme_or_filegroup,\r\n    t.create_date AS table_created_date,\r\n    t.modify_date AS table_modify_date\r\nFROM sys.indexes AS si\r\nJOIN sys.tables AS t ON si.object_id=t.object_id\r\nJOIN sys.schemas AS sc ON t.schema_id=sc.schema_id\r\nLEFT JOIN sys.dm_db_index_usage_stats AS stat ON \r\n    stat.database_id = DB_ID() \r\n    and si.object_id=stat.object_id \r\n    and si.index_id=stat.index_id\r\nLEFT JOIN sys.partition_schemes AS psc ON si.data_space_id=psc.data_space_id\r\nLEFT JOIN sys.partition_functions AS pf ON psc.function_id=pf.function_id\r\nLEFT JOIN sys.filegroups AS fg ON si.data_space_id=fg.data_space_id\r\n/* Key list */ OUTER APPLY ( SELECT STUFF (\r\n    (SELECT N', ' + QUOTENAME(c.name) +\r\n        CASE ic.is_descending_key WHEN 1 then N' DESC' ELSE N'' END\r\n    FROM sys.index_columns AS ic \r\n    JOIN sys.columns AS c ON \r\n        ic.column_id=c.column_id  \r\n        and ic.object_id=c.object_id\r\n    WHERE ic.object_id = si.object_id\r\n        and ic.index_id=si.index_id\r\n        and ic.key_ordinal > 0\r\n    ORDER BY ic.key_ordinal FOR XML PATH(''), TYPE).value('.', 'NVARCHAR(MAX)'),1,2,'')) AS keys ( key_definition )\r\n/* Partitioning Ordinal */ OUTER APPLY (\r\n    SELECT MAX(QUOTENAME(c.name)) AS column_name\r\n    FROM sys.index_columns AS ic \r\n    JOIN sys.columns AS c ON \r\n        ic.column_id=c.column_id  \r\n        and ic.object_id=c.object_id\r\n    WHERE ic.object_id = si.object_id\r\n        and ic.index_id=si.index_id\r\n        and ic.partition_ordinal = 1) AS partitioning_column\r\n/* Include list */ OUTER APPLY ( SELECT STUFF (\r\n    (SELECT N', ' + QUOTENAME(c.name)\r\n    FROM sys.index_columns AS ic \r\n    JOIN sys.columns AS c ON \r\n        ic.column_id=c.column_id  \r\n        and ic.object_id=c.object_id\r\n    WHERE ic.object_id = si.object_id\r\n        and ic.index_id=si.index_id\r\n        and ic.is_included_column = 1\r\n    ORDER BY c.name FOR XML PATH(''), TYPE).value('.', 'NVARCHAR(MAX)'),1,2,'')) AS includes ( include_definition )\r\n/* Partitions */ OUTER APPLY ( \r\n    SELECT \r\n        COUNT(*) AS partition_count,\r\n        CAST(SUM(ps.in_row_reserved_page_count)*8./1024./1024. AS NUMERIC(32,1)) AS reserved_in_row_GB,\r\n        CAST(SUM(ps.lob_reserved_page_count)*8./1024./1024. AS NUMERIC(32,1)) AS reserved_LOB_GB,\r\n        SUM(ps.row_count) AS row_count\r\n    FROM sys.partitions AS p\r\n    JOIN sys.dm_db_partition_stats AS ps ON\r\n        p.partition_id=ps.partition_id\r\n    WHERE p.object_id = si.object_id\r\n        and p.index_id=si.index_id\r\n    ) AS partition_sums\r\n/* row compression list by partition */ OUTER APPLY ( SELECT STUFF (\r\n    (SELECT N', ' + CAST(p.partition_number AS VARCHAR(32))\r\n    FROM sys.partitions AS p\r\n    WHERE p.object_id = si.object_id\r\n        and p.index_id=si.index_id\r\n        and p.data_compression = 1\r\n    ORDER BY p.partition_number FOR XML PATH(''), TYPE).value('.', 'NVARCHAR(MAX)'),1,2,'')) AS row_compression_clause ( row_compression_partition_list )\r\n/* data compression list by partition */ OUTER APPLY ( SELECT STUFF (\r\n    (SELECT N', ' + CAST(p.partition_number AS VARCHAR(32))\r\n    FROM sys.partitions AS p\r\n    WHERE p.object_id = si.object_id\r\n        and p.index_id=si.index_id\r\n        and p.data_compression = 2\r\n    ORDER BY p.partition_number FOR XML PATH(''), TYPE).value('.', 'NVARCHAR(MAX)'),1,2,'')) AS page_compression_clause ( page_compression_partition_list )\r\nWHERE \r\n    si.type IN (0,1,2) /* heap, clustered, nonclustered */\r\n\tand t.name = @tablename\r\n\tand sc.name = @schemaname\r\nORDER BY table_name, si.index_id\r\n    OPTION (RECOMPILE);\r\nGO",
            "metadata": {},
            "outputs": [
                {
                    "output_type": "display_data",
                    "data": {
                        "text/html": "Commands completed successfully."
                    },
                    "metadata": {}
                },
                {
                    "output_type": "display_data",
                    "data": {
                        "text/html": "Total execution time: 00:00:00.0013142"
                    },
                    "metadata": {}
                },
                {
                    "output_type": "display_data",
                    "data": {
                        "text/html": "Warning: Null value is eliminated by an aggregate or other SET operation."
                    },
                    "metadata": {}
                },
                {
                    "output_type": "display_data",
                    "data": {
                        "text/html": "(1 row affected)"
                    },
                    "metadata": {}
                },
                {
                    "output_type": "display_data",
                    "data": {
                        "text/html": "Total execution time: 00:00:01.0065674"
                    },
                    "metadata": {}
                },
                {
                    "output_type": "execute_result",
                    "metadata": {},
                    "execution_count": 10,
                    "data": {
                        "application/vnd.dataresource+json": {
                            "schema": {
                                "fields": [
                                    {
                                        "name": "database_name"
                                    },
                                    {
                                        "name": "table_name"
                                    },
                                    {
                                        "name": "last_user_read"
                                    },
                                    {
                                        "name": "last_user_update"
                                    },
                                    {
                                        "name": "index_create_statement"
                                    },
                                    {
                                        "name": "index_id"
                                    },
                                    {
                                        "name": "index_name"
                                    },
                                    {
                                        "name": "reserved_in_row_GB"
                                    },
                                    {
                                        "name": "reserved_LOB_GB"
                                    },
                                    {
                                        "name": "row_count"
                                    },
                                    {
                                        "name": "user_seeks"
                                    },
                                    {
                                        "name": "user_scans"
                                    },
                                    {
                                        "name": "user_lookups"
                                    },
                                    {
                                        "name": "queries_that_modified"
                                    },
                                    {
                                        "name": "partition_count"
                                    },
                                    {
                                        "name": "allow_page_locks"
                                    },
                                    {
                                        "name": "allow_row_locks"
                                    },
                                    {
                                        "name": "is_hypothetical"
                                    },
                                    {
                                        "name": "has_filter"
                                    },
                                    {
                                        "name": "fill_factor"
                                    },
                                    {
                                        "name": "is_unique"
                                    },
                                    {
                                        "name": "partition_function"
                                    },
                                    {
                                        "name": "partition_scheme_or_filegroup"
                                    },
                                    {
                                        "name": "table_created_date"
                                    },
                                    {
                                        "name": "table_modify_date"
                                    }
                                ]
                            },
                            "data": [
                                {
                                    "0": "DLKMUMPS",
                                    "1": "dlkmumps.tb_historicomovimentacaoClb",
                                    "2": "2020-10-06 14:11:40.250",
                                    "3": "NULL",
                                    "4": "ALTER TABLE [dlkmumps].[tb_historicomovimentacaoClb] ADD CONSTRAINT [PK_tb_historicomovimentacaoClb] PRIMARY KEY CLUSTERED ([id_historicomovimentacao]) ON [PRIMARY];",
                                    "5": "1",
                                    "6": "PK_tb_historicomovimentacaoClb",
                                    "7": "2,3",
                                    "8": "0,0",
                                    "9": "5247642",
                                    "10": "0",
                                    "11": "1",
                                    "12": "0",
                                    "13": "0",
                                    "14": "1",
                                    "15": "1",
                                    "16": "1",
                                    "17": "0",
                                    "18": "0",
                                    "19": "0",
                                    "20": "1",
                                    "21": "/* Not partitioned */",
                                    "22": "PRIMARY",
                                    "23": "2020-09-22 19:25:38.330",
                                    "24": "2020-10-07 14:30:14.500"
                                }
                            ]
                        },
                        "text/html": "<table><tr><th>database_name</th><th>table_name</th><th>last_user_read</th><th>last_user_update</th><th>index_create_statement</th><th>index_id</th><th>index_name</th><th>reserved_in_row_GB</th><th>reserved_LOB_GB</th><th>row_count</th><th>user_seeks</th><th>user_scans</th><th>user_lookups</th><th>queries_that_modified</th><th>partition_count</th><th>allow_page_locks</th><th>allow_row_locks</th><th>is_hypothetical</th><th>has_filter</th><th>fill_factor</th><th>is_unique</th><th>partition_function</th><th>partition_scheme_or_filegroup</th><th>table_created_date</th><th>table_modify_date</th></tr><tr><td>DLKMUMPS</td><td>dlkmumps.tb_historicomovimentacaoClb</td><td>2020-10-06 14:11:40.250</td><td>NULL</td><td>ALTER TABLE [dlkmumps].[tb_historicomovimentacaoClb] ADD CONSTRAINT [PK_tb_historicomovimentacaoClb] PRIMARY KEY CLUSTERED ([id_historicomovimentacao]) ON [PRIMARY];</td><td>1</td><td>PK_tb_historicomovimentacaoClb</td><td>2,3</td><td>0,0</td><td>5247642</td><td>0</td><td>1</td><td>0</td><td>0</td><td>1</td><td>1</td><td>1</td><td>0</td><td>0</td><td>0</td><td>1</td><td>/* Not partitioned */</td><td>PRIMARY</td><td>2020-09-22 19:25:38.330</td><td>2020-10-07 14:30:14.500</td></tr></table>"
                    }
                }
            ],
            "execution_count": 10
        },
        {
            "cell_type": "markdown",
            "source": "-- Verificar a tipagem do campo da coluna que fará parte da Função de Partição.\r\n",
            "metadata": {}
        },
        {
            "cell_type": "code",
            "source": "USE\r\nDLKMUMPS\r\nGO\r\n\r\nSELECT @@SERVERNAME as ServidorAzure, DB_NAME() as DatabaseName,\r\nTABLE_NAME,COLUMN_NAME,DATA_TYPE,CHARACTER_MAXIMUM_LENGTH,TABLE_SCHEMA\r\nFROM INFORMATION_SCHEMA.COLUMNS\r\nWHERE TABLE_NAME  = 'tb_historicomovimentacaoClb'\r\nand TABLE_SCHEMA = 'dlkmumps'\r\nGO\r\n\r\n\r\n",
            "metadata": {},
            "outputs": [
                {
                    "output_type": "display_data",
                    "data": {
                        "text/html": "Commands completed successfully."
                    },
                    "metadata": {}
                },
                {
                    "output_type": "display_data",
                    "data": {
                        "text/html": "Total execution time: 00:00:00.0027540"
                    },
                    "metadata": {}
                },
                {
                    "output_type": "display_data",
                    "data": {
                        "text/html": "(16 rows affected)"
                    },
                    "metadata": {}
                },
                {
                    "output_type": "display_data",
                    "data": {
                        "text/html": "Total execution time: 00:00:00.0590932"
                    },
                    "metadata": {}
                },
                {
                    "output_type": "execute_result",
                    "metadata": {},
                    "execution_count": 16,
                    "data": {
                        "application/vnd.dataresource+json": {
                            "schema": {
                                "fields": [
                                    {
                                        "name": "ServidorAzure"
                                    },
                                    {
                                        "name": "DatabaseName"
                                    },
                                    {
                                        "name": "TABLE_NAME"
                                    },
                                    {
                                        "name": "COLUMN_NAME"
                                    },
                                    {
                                        "name": "DATA_TYPE"
                                    },
                                    {
                                        "name": "CHARACTER_MAXIMUM_LENGTH"
                                    },
                                    {
                                        "name": "TABLE_SCHEMA"
                                    }
                                ]
                            },
                            "data": [
                                {
                                    "0": "ISMTZBDCACHEHMG",
                                    "1": "DLKMUMPS",
                                    "2": "tb_historicomovimentacaoClb",
                                    "3": "id_historicomovimentacao",
                                    "4": "int",
                                    "5": "NULL",
                                    "6": "dlkmumps"
                                },
                                {
                                    "0": "ISMTZBDCACHEHMG",
                                    "1": "DLKMUMPS",
                                    "2": "tb_historicomovimentacaoClb",
                                    "3": "dt_ultimoPagamento_historicomovimentacao",
                                    "4": "date",
                                    "5": "NULL",
                                    "6": "dlkmumps"
                                },
                                {
                                    "0": "ISMTZBDCACHEHMG",
                                    "1": "DLKMUMPS",
                                    "2": "tb_historicomovimentacaoClb",
                                    "3": "dt_vencultEndosso_historicomovimentacao",
                                    "4": "date",
                                    "5": "NULL",
                                    "6": "dlkmumps"
                                },
                                {
                                    "0": "ISMTZBDCACHEHMG",
                                    "1": "DLKMUMPS",
                                    "2": "tb_historicomovimentacaoClb",
                                    "3": "status_ultEndosso_historicomovimentacao",
                                    "4": "nchar",
                                    "5": "150",
                                    "6": "dlkmumps"
                                },
                                {
                                    "0": "ISMTZBDCACHEHMG",
                                    "1": "DLKMUMPS",
                                    "2": "tb_historicomovimentacaoClb",
                                    "3": "vl_premio_historicomovimentacao",
                                    "4": "decimal",
                                    "5": "NULL",
                                    "6": "dlkmumps"
                                },
                                {
                                    "0": "ISMTZBDCACHEHMG",
                                    "1": "DLKMUMPS",
                                    "2": "tb_historicomovimentacaoClb",
                                    "3": "num_qtddiasVencidos_historicomovimentacao",
                                    "4": "int",
                                    "5": "NULL",
                                    "6": "dlkmumps"
                                },
                                {
                                    "0": "ISMTZBDCACHEHMG",
                                    "1": "DLKMUMPS",
                                    "2": "tb_historicomovimentacaoClb",
                                    "3": "num_qtdParcelasaberto_historicomovimentacao",
                                    "4": "int",
                                    "5": "NULL",
                                    "6": "dlkmumps"
                                },
                                {
                                    "0": "ISMTZBDCACHEHMG",
                                    "1": "DLKMUMPS",
                                    "2": "tb_historicomovimentacaoClb",
                                    "3": "num_certificado_historicomovimentacao",
                                    "4": "nchar",
                                    "5": "25",
                                    "6": "dlkmumps"
                                },
                                {
                                    "0": "ISMTZBDCACHEHMG",
                                    "1": "DLKMUMPS",
                                    "2": "tb_historicomovimentacaoClb",
                                    "3": "num_qtdParcelasPagas_historicomovimentacao",
                                    "4": "int",
                                    "5": "NULL",
                                    "6": "dlkmumps"
                                },
                                {
                                    "0": "ISMTZBDCACHEHMG",
                                    "1": "DLKMUMPS",
                                    "2": "tb_historicomovimentacaoClb",
                                    "3": "linhaDigitavel_historicomovimentacao",
                                    "4": "nvarchar",
                                    "5": "200",
                                    "6": "dlkmumps"
                                },
                                {
                                    "0": "ISMTZBDCACHEHMG",
                                    "1": "DLKMUMPS",
                                    "2": "tb_historicomovimentacaoClb",
                                    "3": "data_alteracao_valor_premio_historicomovimentacao",
                                    "4": "date",
                                    "5": "NULL",
                                    "6": "dlkmumps"
                                },
                                {
                                    "0": "ISMTZBDCACHEHMG",
                                    "1": "DLKMUMPS",
                                    "2": "tb_historicomovimentacaoClb",
                                    "3": "dataVencimentoCancelamento_historicomovimentacao",
                                    "4": "date",
                                    "5": "NULL",
                                    "6": "dlkmumps"
                                },
                                {
                                    "0": "ISMTZBDCACHEHMG",
                                    "1": "DLKMUMPS",
                                    "2": "tb_historicomovimentacaoClb",
                                    "3": "vl_premioMensal_historicomovimentacao",
                                    "4": "decimal",
                                    "5": "NULL",
                                    "6": "dlkmumps"
                                },
                                {
                                    "0": "ISMTZBDCACHEHMG",
                                    "1": "DLKMUMPS",
                                    "2": "tb_historicomovimentacaoClb",
                                    "3": "percentualComissao_historicomovimentacao",
                                    "4": "decimal",
                                    "5": "NULL",
                                    "6": "dlkmumps"
                                },
                                {
                                    "0": "ISMTZBDCACHEHMG",
                                    "1": "DLKMUMPS",
                                    "2": "tb_historicomovimentacaoClb",
                                    "3": "data_carga",
                                    "4": "datetime",
                                    "5": "NULL",
                                    "6": "dlkmumps"
                                },
                                {
                                    "0": "ISMTZBDCACHEHMG",
                                    "1": "DLKMUMPS",
                                    "2": "tb_historicomovimentacaoClb",
                                    "3": "competenciaCancelamento_historicomovimentacao",
                                    "4": "date",
                                    "5": "NULL",
                                    "6": "dlkmumps"
                                }
                            ]
                        },
                        "text/html": "<table><tr><th>ServidorAzure</th><th>DatabaseName</th><th>TABLE_NAME</th><th>COLUMN_NAME</th><th>DATA_TYPE</th><th>CHARACTER_MAXIMUM_LENGTH</th><th>TABLE_SCHEMA</th></tr><tr><td>ISMTZBDCACHEHMG</td><td>DLKMUMPS</td><td>tb_historicomovimentacaoClb</td><td>id_historicomovimentacao</td><td>int</td><td>NULL</td><td>dlkmumps</td></tr><tr><td>ISMTZBDCACHEHMG</td><td>DLKMUMPS</td><td>tb_historicomovimentacaoClb</td><td>dt_ultimoPagamento_historicomovimentacao</td><td>date</td><td>NULL</td><td>dlkmumps</td></tr><tr><td>ISMTZBDCACHEHMG</td><td>DLKMUMPS</td><td>tb_historicomovimentacaoClb</td><td>dt_vencultEndosso_historicomovimentacao</td><td>date</td><td>NULL</td><td>dlkmumps</td></tr><tr><td>ISMTZBDCACHEHMG</td><td>DLKMUMPS</td><td>tb_historicomovimentacaoClb</td><td>status_ultEndosso_historicomovimentacao</td><td>nchar</td><td>150</td><td>dlkmumps</td></tr><tr><td>ISMTZBDCACHEHMG</td><td>DLKMUMPS</td><td>tb_historicomovimentacaoClb</td><td>vl_premio_historicomovimentacao</td><td>decimal</td><td>NULL</td><td>dlkmumps</td></tr><tr><td>ISMTZBDCACHEHMG</td><td>DLKMUMPS</td><td>tb_historicomovimentacaoClb</td><td>num_qtddiasVencidos_historicomovimentacao</td><td>int</td><td>NULL</td><td>dlkmumps</td></tr><tr><td>ISMTZBDCACHEHMG</td><td>DLKMUMPS</td><td>tb_historicomovimentacaoClb</td><td>num_qtdParcelasaberto_historicomovimentacao</td><td>int</td><td>NULL</td><td>dlkmumps</td></tr><tr><td>ISMTZBDCACHEHMG</td><td>DLKMUMPS</td><td>tb_historicomovimentacaoClb</td><td>num_certificado_historicomovimentacao</td><td>nchar</td><td>25</td><td>dlkmumps</td></tr><tr><td>ISMTZBDCACHEHMG</td><td>DLKMUMPS</td><td>tb_historicomovimentacaoClb</td><td>num_qtdParcelasPagas_historicomovimentacao</td><td>int</td><td>NULL</td><td>dlkmumps</td></tr><tr><td>ISMTZBDCACHEHMG</td><td>DLKMUMPS</td><td>tb_historicomovimentacaoClb</td><td>linhaDigitavel_historicomovimentacao</td><td>nvarchar</td><td>200</td><td>dlkmumps</td></tr><tr><td>ISMTZBDCACHEHMG</td><td>DLKMUMPS</td><td>tb_historicomovimentacaoClb</td><td>data_alteracao_valor_premio_historicomovimentacao</td><td>date</td><td>NULL</td><td>dlkmumps</td></tr><tr><td>ISMTZBDCACHEHMG</td><td>DLKMUMPS</td><td>tb_historicomovimentacaoClb</td><td>dataVencimentoCancelamento_historicomovimentacao</td><td>date</td><td>NULL</td><td>dlkmumps</td></tr><tr><td>ISMTZBDCACHEHMG</td><td>DLKMUMPS</td><td>tb_historicomovimentacaoClb</td><td>vl_premioMensal_historicomovimentacao</td><td>decimal</td><td>NULL</td><td>dlkmumps</td></tr><tr><td>ISMTZBDCACHEHMG</td><td>DLKMUMPS</td><td>tb_historicomovimentacaoClb</td><td>percentualComissao_historicomovimentacao</td><td>decimal</td><td>NULL</td><td>dlkmumps</td></tr><tr><td>ISMTZBDCACHEHMG</td><td>DLKMUMPS</td><td>tb_historicomovimentacaoClb</td><td>data_carga</td><td>datetime</td><td>NULL</td><td>dlkmumps</td></tr><tr><td>ISMTZBDCACHEHMG</td><td>DLKMUMPS</td><td>tb_historicomovimentacaoClb</td><td>competenciaCancelamento_historicomovimentacao</td><td>date</td><td>NULL</td><td>dlkmumps</td></tr></table>"
                    }
                }
            ],
            "execution_count": 16
        },
        {
            "cell_type": "markdown",
            "source": "-- Verificar as caracteristicas do objeto",
            "metadata": {}
        },
        {
            "cell_type": "code",
            "source": "use\r\nDLKMUMPS\r\ngo\r\n\r\nsp_help 'dlkmumps.tb_historicomovimentacaoClb'",
            "metadata": {},
            "outputs": [
                {
                    "output_type": "display_data",
                    "data": {
                        "text/html": "Commands completed successfully."
                    },
                    "metadata": {}
                },
                {
                    "output_type": "display_data",
                    "data": {
                        "text/html": "Total execution time: 00:00:00.0092563"
                    },
                    "metadata": {}
                },
                {
                    "output_type": "display_data",
                    "data": {
                        "text/html": " "
                    },
                    "metadata": {}
                },
                {
                    "output_type": "display_data",
                    "data": {
                        "text/html": " "
                    },
                    "metadata": {}
                },
                {
                    "output_type": "display_data",
                    "data": {
                        "text/html": " "
                    },
                    "metadata": {}
                },
                {
                    "output_type": "display_data",
                    "data": {
                        "text/html": " "
                    },
                    "metadata": {}
                },
                {
                    "output_type": "display_data",
                    "data": {
                        "text/html": " "
                    },
                    "metadata": {}
                },
                {
                    "output_type": "display_data",
                    "data": {
                        "text/html": " "
                    },
                    "metadata": {}
                },
                {
                    "output_type": "display_data",
                    "data": {
                        "text/html": " "
                    },
                    "metadata": {}
                },
                {
                    "output_type": "display_data",
                    "data": {
                        "text/html": " "
                    },
                    "metadata": {}
                },
                {
                    "output_type": "display_data",
                    "data": {
                        "text/html": "No foreign keys reference table 'dlkmumps.tb_historicomovimentacaoClb', or you do not have permissions on referencing tables."
                    },
                    "metadata": {}
                },
                {
                    "output_type": "display_data",
                    "data": {
                        "text/html": "No views with schema binding reference table 'dlkmumps.tb_historicomovimentacaoClb'."
                    },
                    "metadata": {}
                },
                {
                    "output_type": "display_data",
                    "data": {
                        "text/html": "Total execution time: 00:00:00.5304009"
                    },
                    "metadata": {}
                },
                {
                    "output_type": "execute_result",
                    "metadata": {},
                    "execution_count": 17,
                    "data": {
                        "application/vnd.dataresource+json": {
                            "schema": {
                                "fields": [
                                    {
                                        "name": "Name"
                                    },
                                    {
                                        "name": "Owner"
                                    },
                                    {
                                        "name": "Type"
                                    },
                                    {
                                        "name": "Created_datetime"
                                    }
                                ]
                            },
                            "data": [
                                {
                                    "0": "tb_historicomovimentacaoClb",
                                    "1": "dbo",
                                    "2": "user table",
                                    "3": "2020-09-22 19:25:38.330"
                                }
                            ]
                        },
                        "text/html": "<table><tr><th>Name</th><th>Owner</th><th>Type</th><th>Created_datetime</th></tr><tr><td>tb_historicomovimentacaoClb</td><td>dbo</td><td>user table</td><td>2020-09-22 19:25:38.330</td></tr></table>"
                    }
                },
                {
                    "output_type": "execute_result",
                    "metadata": {},
                    "execution_count": 17,
                    "data": {
                        "application/vnd.dataresource+json": {
                            "schema": {
                                "fields": [
                                    {
                                        "name": "Column_name"
                                    },
                                    {
                                        "name": "Type"
                                    },
                                    {
                                        "name": "Computed"
                                    },
                                    {
                                        "name": "Length"
                                    },
                                    {
                                        "name": "Prec"
                                    },
                                    {
                                        "name": "Scale"
                                    },
                                    {
                                        "name": "Nullable"
                                    },
                                    {
                                        "name": "TrimTrailingBlanks"
                                    },
                                    {
                                        "name": "FixedLenNullInSource"
                                    },
                                    {
                                        "name": "Collation"
                                    }
                                ]
                            },
                            "data": [
                                {
                                    "0": "id_historicomovimentacao",
                                    "1": "int",
                                    "2": "no",
                                    "3": "4",
                                    "4": "10   ",
                                    "5": "0    ",
                                    "6": "no",
                                    "7": "(n/a)",
                                    "8": "(n/a)",
                                    "9": "NULL"
                                },
                                {
                                    "0": "dt_ultimoPagamento_historicomovimentacao",
                                    "1": "date",
                                    "2": "no",
                                    "3": "3",
                                    "4": "10   ",
                                    "5": "0    ",
                                    "6": "yes",
                                    "7": "(n/a)",
                                    "8": "(n/a)",
                                    "9": "NULL"
                                },
                                {
                                    "0": "dt_vencultEndosso_historicomovimentacao",
                                    "1": "date",
                                    "2": "no",
                                    "3": "3",
                                    "4": "10   ",
                                    "5": "0    ",
                                    "6": "yes",
                                    "7": "(n/a)",
                                    "8": "(n/a)",
                                    "9": "NULL"
                                },
                                {
                                    "0": "status_ultEndosso_historicomovimentacao",
                                    "1": "nchar",
                                    "2": "no",
                                    "3": "300",
                                    "4": "     ",
                                    "5": "     ",
                                    "6": "yes",
                                    "7": "(n/a)",
                                    "8": "(n/a)",
                                    "9": "Latin1_General_CI_AS"
                                },
                                {
                                    "0": "vl_premio_historicomovimentacao",
                                    "1": "decimal",
                                    "2": "no",
                                    "3": "9",
                                    "4": "18   ",
                                    "5": "2    ",
                                    "6": "no",
                                    "7": "(n/a)",
                                    "8": "(n/a)",
                                    "9": "NULL"
                                },
                                {
                                    "0": "num_qtddiasVencidos_historicomovimentacao",
                                    "1": "int",
                                    "2": "no",
                                    "3": "4",
                                    "4": "10   ",
                                    "5": "0    ",
                                    "6": "yes",
                                    "7": "(n/a)",
                                    "8": "(n/a)",
                                    "9": "NULL"
                                },
                                {
                                    "0": "num_qtdParcelasaberto_historicomovimentacao",
                                    "1": "int",
                                    "2": "no",
                                    "3": "4",
                                    "4": "10   ",
                                    "5": "0    ",
                                    "6": "yes",
                                    "7": "(n/a)",
                                    "8": "(n/a)",
                                    "9": "NULL"
                                },
                                {
                                    "0": "num_certificado_historicomovimentacao",
                                    "1": "nchar",
                                    "2": "no",
                                    "3": "50",
                                    "4": "     ",
                                    "5": "     ",
                                    "6": "yes",
                                    "7": "(n/a)",
                                    "8": "(n/a)",
                                    "9": "Latin1_General_CI_AS"
                                },
                                {
                                    "0": "num_qtdParcelasPagas_historicomovimentacao",
                                    "1": "int",
                                    "2": "no",
                                    "3": "4",
                                    "4": "10   ",
                                    "5": "0    ",
                                    "6": "yes",
                                    "7": "(n/a)",
                                    "8": "(n/a)",
                                    "9": "NULL"
                                },
                                {
                                    "0": "linhaDigitavel_historicomovimentacao",
                                    "1": "nvarchar",
                                    "2": "no",
                                    "3": "400",
                                    "4": "     ",
                                    "5": "     ",
                                    "6": "yes",
                                    "7": "(n/a)",
                                    "8": "(n/a)",
                                    "9": "Latin1_General_CI_AS"
                                },
                                {
                                    "0": "data_alteracao_valor_premio_historicomovimentacao",
                                    "1": "date",
                                    "2": "no",
                                    "3": "3",
                                    "4": "10   ",
                                    "5": "0    ",
                                    "6": "yes",
                                    "7": "(n/a)",
                                    "8": "(n/a)",
                                    "9": "NULL"
                                },
                                {
                                    "0": "dataVencimentoCancelamento_historicomovimentacao",
                                    "1": "date",
                                    "2": "no",
                                    "3": "3",
                                    "4": "10   ",
                                    "5": "0    ",
                                    "6": "yes",
                                    "7": "(n/a)",
                                    "8": "(n/a)",
                                    "9": "NULL"
                                },
                                {
                                    "0": "vl_premioMensal_historicomovimentacao",
                                    "1": "decimal",
                                    "2": "no",
                                    "3": "9",
                                    "4": "18   ",
                                    "5": "2    ",
                                    "6": "yes",
                                    "7": "(n/a)",
                                    "8": "(n/a)",
                                    "9": "NULL"
                                },
                                {
                                    "0": "percentualComissao_historicomovimentacao",
                                    "1": "decimal",
                                    "2": "no",
                                    "3": "9",
                                    "4": "18   ",
                                    "5": "4    ",
                                    "6": "yes",
                                    "7": "(n/a)",
                                    "8": "(n/a)",
                                    "9": "NULL"
                                },
                                {
                                    "0": "data_carga",
                                    "1": "datetime",
                                    "2": "no",
                                    "3": "8",
                                    "4": "     ",
                                    "5": "     ",
                                    "6": "yes",
                                    "7": "(n/a)",
                                    "8": "(n/a)",
                                    "9": "NULL"
                                },
                                {
                                    "0": "competenciaCancelamento_historicomovimentacao",
                                    "1": "date",
                                    "2": "no",
                                    "3": "3",
                                    "4": "10   ",
                                    "5": "0    ",
                                    "6": "yes",
                                    "7": "(n/a)",
                                    "8": "(n/a)",
                                    "9": "NULL"
                                }
                            ]
                        },
                        "text/html": "<table><tr><th>Column_name</th><th>Type</th><th>Computed</th><th>Length</th><th>Prec</th><th>Scale</th><th>Nullable</th><th>TrimTrailingBlanks</th><th>FixedLenNullInSource</th><th>Collation</th></tr><tr><td>id_historicomovimentacao</td><td>int</td><td>no</td><td>4</td><td>10   </td><td>0    </td><td>no</td><td>(n/a)</td><td>(n/a)</td><td>NULL</td></tr><tr><td>dt_ultimoPagamento_historicomovimentacao</td><td>date</td><td>no</td><td>3</td><td>10   </td><td>0    </td><td>yes</td><td>(n/a)</td><td>(n/a)</td><td>NULL</td></tr><tr><td>dt_vencultEndosso_historicomovimentacao</td><td>date</td><td>no</td><td>3</td><td>10   </td><td>0    </td><td>yes</td><td>(n/a)</td><td>(n/a)</td><td>NULL</td></tr><tr><td>status_ultEndosso_historicomovimentacao</td><td>nchar</td><td>no</td><td>300</td><td>     </td><td>     </td><td>yes</td><td>(n/a)</td><td>(n/a)</td><td>Latin1_General_CI_AS</td></tr><tr><td>vl_premio_historicomovimentacao</td><td>decimal</td><td>no</td><td>9</td><td>18   </td><td>2    </td><td>no</td><td>(n/a)</td><td>(n/a)</td><td>NULL</td></tr><tr><td>num_qtddiasVencidos_historicomovimentacao</td><td>int</td><td>no</td><td>4</td><td>10   </td><td>0    </td><td>yes</td><td>(n/a)</td><td>(n/a)</td><td>NULL</td></tr><tr><td>num_qtdParcelasaberto_historicomovimentacao</td><td>int</td><td>no</td><td>4</td><td>10   </td><td>0    </td><td>yes</td><td>(n/a)</td><td>(n/a)</td><td>NULL</td></tr><tr><td>num_certificado_historicomovimentacao</td><td>nchar</td><td>no</td><td>50</td><td>     </td><td>     </td><td>yes</td><td>(n/a)</td><td>(n/a)</td><td>Latin1_General_CI_AS</td></tr><tr><td>num_qtdParcelasPagas_historicomovimentacao</td><td>int</td><td>no</td><td>4</td><td>10   </td><td>0    </td><td>yes</td><td>(n/a)</td><td>(n/a)</td><td>NULL</td></tr><tr><td>linhaDigitavel_historicomovimentacao</td><td>nvarchar</td><td>no</td><td>400</td><td>     </td><td>     </td><td>yes</td><td>(n/a)</td><td>(n/a)</td><td>Latin1_General_CI_AS</td></tr><tr><td>data_alteracao_valor_premio_historicomovimentacao</td><td>date</td><td>no</td><td>3</td><td>10   </td><td>0    </td><td>yes</td><td>(n/a)</td><td>(n/a)</td><td>NULL</td></tr><tr><td>dataVencimentoCancelamento_historicomovimentacao</td><td>date</td><td>no</td><td>3</td><td>10   </td><td>0    </td><td>yes</td><td>(n/a)</td><td>(n/a)</td><td>NULL</td></tr><tr><td>vl_premioMensal_historicomovimentacao</td><td>decimal</td><td>no</td><td>9</td><td>18   </td><td>2    </td><td>yes</td><td>(n/a)</td><td>(n/a)</td><td>NULL</td></tr><tr><td>percentualComissao_historicomovimentacao</td><td>decimal</td><td>no</td><td>9</td><td>18   </td><td>4    </td><td>yes</td><td>(n/a)</td><td>(n/a)</td><td>NULL</td></tr><tr><td>data_carga</td><td>datetime</td><td>no</td><td>8</td><td>     </td><td>     </td><td>yes</td><td>(n/a)</td><td>(n/a)</td><td>NULL</td></tr><tr><td>competenciaCancelamento_historicomovimentacao</td><td>date</td><td>no</td><td>3</td><td>10   </td><td>0    </td><td>yes</td><td>(n/a)</td><td>(n/a)</td><td>NULL</td></tr></table>"
                    }
                },
                {
                    "output_type": "execute_result",
                    "metadata": {},
                    "execution_count": 17,
                    "data": {
                        "application/vnd.dataresource+json": {
                            "schema": {
                                "fields": [
                                    {
                                        "name": "Identity"
                                    },
                                    {
                                        "name": "Seed"
                                    },
                                    {
                                        "name": "Increment"
                                    },
                                    {
                                        "name": "Not For Replication"
                                    }
                                ]
                            },
                            "data": [
                                {
                                    "0": "id_historicomovimentacao",
                                    "1": "1",
                                    "2": "1",
                                    "3": "1"
                                }
                            ]
                        },
                        "text/html": "<table><tr><th>Identity</th><th>Seed</th><th>Increment</th><th>Not For Replication</th></tr><tr><td>id_historicomovimentacao</td><td>1</td><td>1</td><td>1</td></tr></table>"
                    }
                },
                {
                    "output_type": "execute_result",
                    "metadata": {},
                    "execution_count": 17,
                    "data": {
                        "application/vnd.dataresource+json": {
                            "schema": {
                                "fields": [
                                    {
                                        "name": "RowGuidCol"
                                    }
                                ]
                            },
                            "data": [
                                {
                                    "0": "No rowguidcol column defined."
                                }
                            ]
                        },
                        "text/html": "<table><tr><th>RowGuidCol</th></tr><tr><td>No rowguidcol column defined.</td></tr></table>"
                    }
                },
                {
                    "output_type": "execute_result",
                    "metadata": {},
                    "execution_count": 17,
                    "data": {
                        "application/vnd.dataresource+json": {
                            "schema": {
                                "fields": [
                                    {
                                        "name": "Data_located_on_filegroup"
                                    }
                                ]
                            },
                            "data": [
                                {
                                    "0": "PRIMARY"
                                }
                            ]
                        },
                        "text/html": "<table><tr><th>Data_located_on_filegroup</th></tr><tr><td>PRIMARY</td></tr></table>"
                    }
                },
                {
                    "output_type": "execute_result",
                    "metadata": {},
                    "execution_count": 17,
                    "data": {
                        "application/vnd.dataresource+json": {
                            "schema": {
                                "fields": [
                                    {
                                        "name": "index_name"
                                    },
                                    {
                                        "name": "index_description"
                                    },
                                    {
                                        "name": "index_keys"
                                    }
                                ]
                            },
                            "data": [
                                {
                                    "0": "PK_tb_historicomovimentacaoClb",
                                    "1": "clustered, unique, primary key located on PRIMARY",
                                    "2": "id_historicomovimentacao"
                                }
                            ]
                        },
                        "text/html": "<table><tr><th>index_name</th><th>index_description</th><th>index_keys</th></tr><tr><td>PK_tb_historicomovimentacaoClb</td><td>clustered, unique, primary key located on PRIMARY</td><td>id_historicomovimentacao</td></tr></table>"
                    }
                },
                {
                    "output_type": "execute_result",
                    "metadata": {},
                    "execution_count": 17,
                    "data": {
                        "application/vnd.dataresource+json": {
                            "schema": {
                                "fields": [
                                    {
                                        "name": "constraint_type"
                                    },
                                    {
                                        "name": "constraint_name"
                                    },
                                    {
                                        "name": "delete_action"
                                    },
                                    {
                                        "name": "update_action"
                                    },
                                    {
                                        "name": "status_enabled"
                                    },
                                    {
                                        "name": "status_for_replication"
                                    },
                                    {
                                        "name": "constraint_keys"
                                    }
                                ]
                            },
                            "data": [
                                {
                                    "0": "PRIMARY KEY (clustered)",
                                    "1": "PK_tb_historicomovimentacaoClb",
                                    "2": "(n/a)",
                                    "3": "(n/a)",
                                    "4": "(n/a)",
                                    "5": "(n/a)",
                                    "6": "id_historicomovimentacao"
                                }
                            ]
                        },
                        "text/html": "<table><tr><th>constraint_type</th><th>constraint_name</th><th>delete_action</th><th>update_action</th><th>status_enabled</th><th>status_for_replication</th><th>constraint_keys</th></tr><tr><td>PRIMARY KEY (clustered)</td><td>PK_tb_historicomovimentacaoClb</td><td>(n/a)</td><td>(n/a)</td><td>(n/a)</td><td>(n/a)</td><td>id_historicomovimentacao</td></tr></table>"
                    }
                }
            ],
            "execution_count": 17
        },
        {
            "cell_type": "markdown",
            "source": "-- Criar a função de partição para a tabela  tb_historicomovimentacaoClb",
            "metadata": {}
        },
        {
            "cell_type": "code",
            "source": "USE\r\nDLKMUMPS\r\nGO\r\n\r\n\r\n\r\nCREATE PARTITION FUNCTION [PF_Int_Partition_tb_historicomovimentacaoClb] (int)\r\nAS RANGE LEFT FOR VALUES \r\n(\r\n50000000,\r\n100000000,\r\n150000000,\r\n200000000,\r\n250000000,\r\n300000000,\r\n350000000,\r\n400000000,\r\n450000000\r\n)",
            "metadata": {},
            "outputs": [
                {
                    "output_type": "display_data",
                    "data": {
                        "text/html": "Commands completed successfully."
                    },
                    "metadata": {}
                },
                {
                    "output_type": "display_data",
                    "data": {
                        "text/html": "Total execution time: 00:00:00.0010656"
                    },
                    "metadata": {}
                },
                {
                    "output_type": "display_data",
                    "data": {
                        "text/html": "Commands completed successfully."
                    },
                    "metadata": {}
                },
                {
                    "output_type": "display_data",
                    "data": {
                        "text/html": "Total execution time: 00:00:00.0302702"
                    },
                    "metadata": {}
                }
            ],
            "execution_count": 18
        },
        {
            "cell_type": "markdown",
            "source": "- -Criar a função de Scheme para a tabela tb_historicomovimentacaoClb",
            "metadata": {}
        },
        {
            "cell_type": "code",
            "source": "USE\r\nDLKMUMPS\r\nGO\r\n\r\nCREATE PARTITION SCHEME [PS_Int_Partition_tb_historicomovimentacaoClb]\r\nAS PARTITION [PF_Int_Partition_tb_historicomovimentacaoClb]\r\nTO\r\n(\r\n    [FG_Particionamento_01],\r\n    [FG_Particionamento_02],\r\n    [FG_Particionamento_03],\r\n    [FG_Particionamento_04],\r\n    [FG_Particionamento_05],\r\n    [FG_Particionamento_06],\r\n    [FG_Particionamento_07],\r\n    [FG_Particionamento_08],\r\n    [FG_Particionamento_09],\r\n    [FG_Particionamento_10]\r\n)",
            "metadata": {},
            "outputs": [
                {
                    "output_type": "display_data",
                    "data": {
                        "text/html": "Commands completed successfully."
                    },
                    "metadata": {}
                },
                {
                    "output_type": "display_data",
                    "data": {
                        "text/html": "Total execution time: 00:00:00.0097724"
                    },
                    "metadata": {}
                },
                {
                    "output_type": "display_data",
                    "data": {
                        "text/html": "Commands completed successfully."
                    },
                    "metadata": {}
                },
                {
                    "output_type": "display_data",
                    "data": {
                        "text/html": "Total execution time: 00:00:00.0331569"
                    },
                    "metadata": {}
                }
            ],
            "execution_count": 19
        },
        {
            "cell_type": "markdown",
            "source": "-- Criação da PK com Indice Cluster já na função de partição\r\n\r\n-- Atenção para a mudança do Partition Schema que deve ser criado, bem como o nome do campo.",
            "metadata": {}
        },
        {
            "cell_type": "code",
            "source": "USE\r\nDLKMUMPS\r\ngo\r\n\r\n/****** Object:  Index [PK_tb_historicomovimentacaoClb]    Script Date: 07/10/2020 14:37:27 ******/\r\nALTER TABLE [dlkmumps].[tb_historicomovimentacaoClb] ADD  CONSTRAINT [PK_tb_historicomovimentacaoClb] PRIMARY KEY CLUSTERED \r\n(\r\n\t[id_historicomovimentacao] ASC\r\n)WITH (PAD_INDEX = OFF, STATISTICS_NORECOMPUTE = OFF, SORT_IN_TEMPDB = OFF, IGNORE_DUP_KEY = OFF, ONLINE = OFF, ALLOW_ROW_LOCKS = ON, ALLOW_PAGE_LOCKS = ON) \r\n\r\nON [PS_Int_Partition_tb_historicomovimentacaoClb] (id_historicomovimentacao)\r\n\r\n\r\nGO\r\n\r\n\r\n",
            "metadata": {},
            "outputs": [
                {
                    "output_type": "display_data",
                    "data": {
                        "text/html": "Commands completed successfully."
                    },
                    "metadata": {}
                },
                {
                    "output_type": "display_data",
                    "data": {
                        "text/html": "Total execution time: 00:00:00.0046338"
                    },
                    "metadata": {}
                },
                {
                    "output_type": "display_data",
                    "data": {
                        "text/html": "Commands completed successfully."
                    },
                    "metadata": {}
                },
                {
                    "output_type": "display_data",
                    "data": {
                        "text/html": "Total execution time: 00:00:40.4493448"
                    },
                    "metadata": {}
                }
            ],
            "execution_count": 22
        },
        {
            "cell_type": "markdown",
            "source": "-- Habilitar as estatisticas incrementais na tabela com o nome indice",
            "metadata": {}
        },
        {
            "cell_type": "code",
            "source": "USE\r\nDLKMUMPS\r\nGO\r\nALTER INDEX PK_tb_historicomovimentacaoClb ON [dlkmumps].[tb_historicomovimentacaoClb] REBUILD WITH (STATISTICS_INCREMENTAL=ON)",
            "metadata": {},
            "outputs": [
                {
                    "output_type": "display_data",
                    "data": {
                        "text/html": "Commands completed successfully."
                    },
                    "metadata": {}
                },
                {
                    "output_type": "display_data",
                    "data": {
                        "text/html": "Total execution time: 00:00:00.0018930"
                    },
                    "metadata": {}
                }
            ],
            "execution_count": 23
        },
        {
            "cell_type": "markdown",
            "source": "-- Verificar com que está as fronteiras dos indices",
            "metadata": {}
        },
        {
            "cell_type": "code",
            "source": "use\r\nDLKMUMPS\r\nGO\r\n\r\n\r\nDECLARE @tablename varchar(50)\r\nset @tablename = 'tb_historicomovimentacaoClb'\r\n\r\nDECLARE @schemaname varchar(50)\r\n\r\nset @schemaname = 'dlkmumps'\r\n\r\nSELECT s.NAME AS 'schema'\r\n       , o.NAME AS 'table'\r\n       , CASE o.type\r\n             WHEN 'v' THEN 'View'\r\n             WHEN 'u' THEN 'Table'\r\n             ELSE o.type\r\n         END AS objecttype\r\n       , i.NAME AS indexname\r\n       , i.type_desc\r\n       , p.data_compression_desc\r\n       , ds.type_desc AS DataSpaceTypeDesc\r\n       , p.partition_number\r\n       , pf.NAME AS pf_name\r\n       , ps.NAME AS ps_name\r\n       , CASE\r\n             WHEN partitionds.NAME IS NULL THEN ds.NAME\r\n             ELSE partitionds.NAME\r\n         END AS partition_fg\r\n       , i.is_primary_key\r\n       , i.is_unique\r\n       , p.rows\r\nFROM   sys.indexes i\r\n       INNER JOIN sys.objects o\r\n               ON o.object_id = i.object_id\r\n       INNER JOIN sys.data_spaces ds\r\n               ON DS.data_space_id = i.data_space_id\r\n       LEFT JOIN sys.schemas s\r\n              ON o.schema_id = s.schema_id\r\n       LEFT JOIN sys.partitions p\r\n              ON i.index_id  = p.index_id\r\n             AND i.object_id = p.object_id\r\n       LEFT JOIN sys.destination_data_spaces dds\r\n              ON i.data_space_id    = dds.partition_scheme_id\r\n             AND p.partition_number = dds.destination_id\r\n       LEFT JOIN sys.data_spaces partitionds\r\n              ON dds.data_space_id = partitionds.data_space_id\r\n       LEFT JOIN sys.partition_schemes AS ps\r\n              ON dds.partition_scheme_id = ps.data_space_id\r\n       LEFT JOIN sys.partition_functions AS pf\r\n              ON ps.function_id = pf.function_id\r\nWHERE  o.NAME = @tablename\r\nand    s.NAME = @schemaname\r\nORDER  BY s.NAME\r\n          , o.NAME\r\n          , i.NAME\r\n          , p.partition_number\r\nGO",
            "metadata": {},
            "outputs": [
                {
                    "output_type": "display_data",
                    "data": {
                        "text/html": "Commands completed successfully."
                    },
                    "metadata": {}
                },
                {
                    "output_type": "display_data",
                    "data": {
                        "text/html": "Total execution time: 00:00:00.0175142"
                    },
                    "metadata": {}
                },
                {
                    "output_type": "display_data",
                    "data": {
                        "text/html": "(10 rows affected)"
                    },
                    "metadata": {}
                },
                {
                    "output_type": "display_data",
                    "data": {
                        "text/html": "Total execution time: 00:00:00.0738655"
                    },
                    "metadata": {}
                },
                {
                    "output_type": "execute_result",
                    "metadata": {},
                    "execution_count": 25,
                    "data": {
                        "application/vnd.dataresource+json": {
                            "schema": {
                                "fields": [
                                    {
                                        "name": "schema"
                                    },
                                    {
                                        "name": "table"
                                    },
                                    {
                                        "name": "objecttype"
                                    },
                                    {
                                        "name": "indexname"
                                    },
                                    {
                                        "name": "type_desc"
                                    },
                                    {
                                        "name": "data_compression_desc"
                                    },
                                    {
                                        "name": "DataSpaceTypeDesc"
                                    },
                                    {
                                        "name": "partition_number"
                                    },
                                    {
                                        "name": "pf_name"
                                    },
                                    {
                                        "name": "ps_name"
                                    },
                                    {
                                        "name": "partition_fg"
                                    },
                                    {
                                        "name": "is_primary_key"
                                    },
                                    {
                                        "name": "is_unique"
                                    },
                                    {
                                        "name": "rows"
                                    }
                                ]
                            },
                            "data": [
                                {
                                    "0": "dlkmumps",
                                    "1": "tb_historicomovimentacaoClb",
                                    "2": "Table",
                                    "3": "PK_tb_historicomovimentacaoClb",
                                    "4": "CLUSTERED",
                                    "5": "NONE",
                                    "6": "PARTITION_SCHEME",
                                    "7": "1",
                                    "8": "PF_Int_Partition_tb_historicomovimentacaoClb",
                                    "9": "PS_Int_Partition_tb_historicomovimentacaoClb",
                                    "10": "FG_Particionamento_01",
                                    "11": "1",
                                    "12": "1",
                                    "13": "5247642"
                                },
                                {
                                    "0": "dlkmumps",
                                    "1": "tb_historicomovimentacaoClb",
                                    "2": "Table",
                                    "3": "PK_tb_historicomovimentacaoClb",
                                    "4": "CLUSTERED",
                                    "5": "NONE",
                                    "6": "PARTITION_SCHEME",
                                    "7": "2",
                                    "8": "PF_Int_Partition_tb_historicomovimentacaoClb",
                                    "9": "PS_Int_Partition_tb_historicomovimentacaoClb",
                                    "10": "FG_Particionamento_02",
                                    "11": "1",
                                    "12": "1",
                                    "13": "0"
                                },
                                {
                                    "0": "dlkmumps",
                                    "1": "tb_historicomovimentacaoClb",
                                    "2": "Table",
                                    "3": "PK_tb_historicomovimentacaoClb",
                                    "4": "CLUSTERED",
                                    "5": "NONE",
                                    "6": "PARTITION_SCHEME",
                                    "7": "3",
                                    "8": "PF_Int_Partition_tb_historicomovimentacaoClb",
                                    "9": "PS_Int_Partition_tb_historicomovimentacaoClb",
                                    "10": "FG_Particionamento_03",
                                    "11": "1",
                                    "12": "1",
                                    "13": "0"
                                },
                                {
                                    "0": "dlkmumps",
                                    "1": "tb_historicomovimentacaoClb",
                                    "2": "Table",
                                    "3": "PK_tb_historicomovimentacaoClb",
                                    "4": "CLUSTERED",
                                    "5": "NONE",
                                    "6": "PARTITION_SCHEME",
                                    "7": "4",
                                    "8": "PF_Int_Partition_tb_historicomovimentacaoClb",
                                    "9": "PS_Int_Partition_tb_historicomovimentacaoClb",
                                    "10": "FG_Particionamento_04",
                                    "11": "1",
                                    "12": "1",
                                    "13": "0"
                                },
                                {
                                    "0": "dlkmumps",
                                    "1": "tb_historicomovimentacaoClb",
                                    "2": "Table",
                                    "3": "PK_tb_historicomovimentacaoClb",
                                    "4": "CLUSTERED",
                                    "5": "NONE",
                                    "6": "PARTITION_SCHEME",
                                    "7": "5",
                                    "8": "PF_Int_Partition_tb_historicomovimentacaoClb",
                                    "9": "PS_Int_Partition_tb_historicomovimentacaoClb",
                                    "10": "FG_Particionamento_05",
                                    "11": "1",
                                    "12": "1",
                                    "13": "0"
                                },
                                {
                                    "0": "dlkmumps",
                                    "1": "tb_historicomovimentacaoClb",
                                    "2": "Table",
                                    "3": "PK_tb_historicomovimentacaoClb",
                                    "4": "CLUSTERED",
                                    "5": "NONE",
                                    "6": "PARTITION_SCHEME",
                                    "7": "6",
                                    "8": "PF_Int_Partition_tb_historicomovimentacaoClb",
                                    "9": "PS_Int_Partition_tb_historicomovimentacaoClb",
                                    "10": "FG_Particionamento_06",
                                    "11": "1",
                                    "12": "1",
                                    "13": "0"
                                },
                                {
                                    "0": "dlkmumps",
                                    "1": "tb_historicomovimentacaoClb",
                                    "2": "Table",
                                    "3": "PK_tb_historicomovimentacaoClb",
                                    "4": "CLUSTERED",
                                    "5": "NONE",
                                    "6": "PARTITION_SCHEME",
                                    "7": "7",
                                    "8": "PF_Int_Partition_tb_historicomovimentacaoClb",
                                    "9": "PS_Int_Partition_tb_historicomovimentacaoClb",
                                    "10": "FG_Particionamento_07",
                                    "11": "1",
                                    "12": "1",
                                    "13": "0"
                                },
                                {
                                    "0": "dlkmumps",
                                    "1": "tb_historicomovimentacaoClb",
                                    "2": "Table",
                                    "3": "PK_tb_historicomovimentacaoClb",
                                    "4": "CLUSTERED",
                                    "5": "NONE",
                                    "6": "PARTITION_SCHEME",
                                    "7": "8",
                                    "8": "PF_Int_Partition_tb_historicomovimentacaoClb",
                                    "9": "PS_Int_Partition_tb_historicomovimentacaoClb",
                                    "10": "FG_Particionamento_08",
                                    "11": "1",
                                    "12": "1",
                                    "13": "0"
                                },
                                {
                                    "0": "dlkmumps",
                                    "1": "tb_historicomovimentacaoClb",
                                    "2": "Table",
                                    "3": "PK_tb_historicomovimentacaoClb",
                                    "4": "CLUSTERED",
                                    "5": "NONE",
                                    "6": "PARTITION_SCHEME",
                                    "7": "9",
                                    "8": "PF_Int_Partition_tb_historicomovimentacaoClb",
                                    "9": "PS_Int_Partition_tb_historicomovimentacaoClb",
                                    "10": "FG_Particionamento_09",
                                    "11": "1",
                                    "12": "1",
                                    "13": "0"
                                },
                                {
                                    "0": "dlkmumps",
                                    "1": "tb_historicomovimentacaoClb",
                                    "2": "Table",
                                    "3": "PK_tb_historicomovimentacaoClb",
                                    "4": "CLUSTERED",
                                    "5": "NONE",
                                    "6": "PARTITION_SCHEME",
                                    "7": "10",
                                    "8": "PF_Int_Partition_tb_historicomovimentacaoClb",
                                    "9": "PS_Int_Partition_tb_historicomovimentacaoClb",
                                    "10": "FG_Particionamento_10",
                                    "11": "1",
                                    "12": "1",
                                    "13": "0"
                                }
                            ]
                        },
                        "text/html": "<table><tr><th>schema</th><th>table</th><th>objecttype</th><th>indexname</th><th>type_desc</th><th>data_compression_desc</th><th>DataSpaceTypeDesc</th><th>partition_number</th><th>pf_name</th><th>ps_name</th><th>partition_fg</th><th>is_primary_key</th><th>is_unique</th><th>rows</th></tr><tr><td>dlkmumps</td><td>tb_historicomovimentacaoClb</td><td>Table</td><td>PK_tb_historicomovimentacaoClb</td><td>CLUSTERED</td><td>NONE</td><td>PARTITION_SCHEME</td><td>1</td><td>PF_Int_Partition_tb_historicomovimentacaoClb</td><td>PS_Int_Partition_tb_historicomovimentacaoClb</td><td>FG_Particionamento_01</td><td>1</td><td>1</td><td>5247642</td></tr><tr><td>dlkmumps</td><td>tb_historicomovimentacaoClb</td><td>Table</td><td>PK_tb_historicomovimentacaoClb</td><td>CLUSTERED</td><td>NONE</td><td>PARTITION_SCHEME</td><td>2</td><td>PF_Int_Partition_tb_historicomovimentacaoClb</td><td>PS_Int_Partition_tb_historicomovimentacaoClb</td><td>FG_Particionamento_02</td><td>1</td><td>1</td><td>0</td></tr><tr><td>dlkmumps</td><td>tb_historicomovimentacaoClb</td><td>Table</td><td>PK_tb_historicomovimentacaoClb</td><td>CLUSTERED</td><td>NONE</td><td>PARTITION_SCHEME</td><td>3</td><td>PF_Int_Partition_tb_historicomovimentacaoClb</td><td>PS_Int_Partition_tb_historicomovimentacaoClb</td><td>FG_Particionamento_03</td><td>1</td><td>1</td><td>0</td></tr><tr><td>dlkmumps</td><td>tb_historicomovimentacaoClb</td><td>Table</td><td>PK_tb_historicomovimentacaoClb</td><td>CLUSTERED</td><td>NONE</td><td>PARTITION_SCHEME</td><td>4</td><td>PF_Int_Partition_tb_historicomovimentacaoClb</td><td>PS_Int_Partition_tb_historicomovimentacaoClb</td><td>FG_Particionamento_04</td><td>1</td><td>1</td><td>0</td></tr><tr><td>dlkmumps</td><td>tb_historicomovimentacaoClb</td><td>Table</td><td>PK_tb_historicomovimentacaoClb</td><td>CLUSTERED</td><td>NONE</td><td>PARTITION_SCHEME</td><td>5</td><td>PF_Int_Partition_tb_historicomovimentacaoClb</td><td>PS_Int_Partition_tb_historicomovimentacaoClb</td><td>FG_Particionamento_05</td><td>1</td><td>1</td><td>0</td></tr><tr><td>dlkmumps</td><td>tb_historicomovimentacaoClb</td><td>Table</td><td>PK_tb_historicomovimentacaoClb</td><td>CLUSTERED</td><td>NONE</td><td>PARTITION_SCHEME</td><td>6</td><td>PF_Int_Partition_tb_historicomovimentacaoClb</td><td>PS_Int_Partition_tb_historicomovimentacaoClb</td><td>FG_Particionamento_06</td><td>1</td><td>1</td><td>0</td></tr><tr><td>dlkmumps</td><td>tb_historicomovimentacaoClb</td><td>Table</td><td>PK_tb_historicomovimentacaoClb</td><td>CLUSTERED</td><td>NONE</td><td>PARTITION_SCHEME</td><td>7</td><td>PF_Int_Partition_tb_historicomovimentacaoClb</td><td>PS_Int_Partition_tb_historicomovimentacaoClb</td><td>FG_Particionamento_07</td><td>1</td><td>1</td><td>0</td></tr><tr><td>dlkmumps</td><td>tb_historicomovimentacaoClb</td><td>Table</td><td>PK_tb_historicomovimentacaoClb</td><td>CLUSTERED</td><td>NONE</td><td>PARTITION_SCHEME</td><td>8</td><td>PF_Int_Partition_tb_historicomovimentacaoClb</td><td>PS_Int_Partition_tb_historicomovimentacaoClb</td><td>FG_Particionamento_08</td><td>1</td><td>1</td><td>0</td></tr><tr><td>dlkmumps</td><td>tb_historicomovimentacaoClb</td><td>Table</td><td>PK_tb_historicomovimentacaoClb</td><td>CLUSTERED</td><td>NONE</td><td>PARTITION_SCHEME</td><td>9</td><td>PF_Int_Partition_tb_historicomovimentacaoClb</td><td>PS_Int_Partition_tb_historicomovimentacaoClb</td><td>FG_Particionamento_09</td><td>1</td><td>1</td><td>0</td></tr><tr><td>dlkmumps</td><td>tb_historicomovimentacaoClb</td><td>Table</td><td>PK_tb_historicomovimentacaoClb</td><td>CLUSTERED</td><td>NONE</td><td>PARTITION_SCHEME</td><td>10</td><td>PF_Int_Partition_tb_historicomovimentacaoClb</td><td>PS_Int_Partition_tb_historicomovimentacaoClb</td><td>FG_Particionamento_10</td><td>1</td><td>1</td><td>0</td></tr></table>"
                    }
                }
            ],
            "execution_count": 25
        },
        {
            "cell_type": "markdown",
            "source": "-- Voltar com a tabela original para o processo de CDC\r\n\r\n-- Referência importante, pois em situações onde for usada o partition Switch, Merge, etc, pode acarretar em inconsistências de dados sendo necessário refazer o CDC.\r\n\r\nhttps://docs.microsoft.com/pt-br/sql/relational-databases/system-stored-procedures/sys-sp-cdc-enable-table-transact-sql?view=sql-server-ver15",
            "metadata": {}
        },
        {
            "cell_type": "code",
            "source": "USE\r\nDLKMUMPS\r\nGO\r\n\r\nEXEC sys.sp_cdc_enable_table  \r\n@source_schema = N'dlkmumps',  \r\n@source_name   = N'tb_historicomovimentacaoClb',  \r\n@role_name     = NULL,\r\n@supports_net_changes = 1  \r\n",
            "metadata": {},
            "outputs": [
                {
                    "output_type": "display_data",
                    "data": {
                        "text/html": "Commands completed successfully."
                    },
                    "metadata": {}
                },
                {
                    "output_type": "display_data",
                    "data": {
                        "text/html": "Total execution time: 00:00:00.0046892"
                    },
                    "metadata": {}
                },
                {
                    "output_type": "display_data",
                    "data": {
                        "text/html": "Warning: The @allow_partition_switch parameter is set to 1. Change data capture will not track changes introduced in the table resulting from a partition switch which will cause data inconsistency when changes are consumed. Refer to books online for more information about partition switching behavior when using Change Data Capture."
                    },
                    "metadata": {}
                },
                {
                    "output_type": "display_data",
                    "data": {
                        "text/html": "Total execution time: 00:00:01.4109975"
                    },
                    "metadata": {}
                }
            ],
            "execution_count": 26
        },
        {
            "cell_type": "markdown",
            "source": "-- Query para avaliar o partition elimination",
            "metadata": {}
        },
        {
            "cell_type": "code",
            "source": "select id_historicomovimentacao from DLKMUMPS.dlkmumps.tb_historicomovimentacaoClb\r\nWHERE id_historicomovimentacao = 80000000",
            "metadata": {},
            "outputs": [],
            "execution_count": 0
        }
    ]
}