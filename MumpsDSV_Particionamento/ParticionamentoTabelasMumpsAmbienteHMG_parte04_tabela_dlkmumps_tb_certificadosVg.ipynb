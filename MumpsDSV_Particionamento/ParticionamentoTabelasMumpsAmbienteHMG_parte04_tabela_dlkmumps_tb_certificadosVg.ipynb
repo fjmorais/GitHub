{
    "metadata": {
        "kernelspec": {
            "name": "SQL",
            "display_name": "SQL",
            "language": "sql"
        },
        "language_info": {
            "name": "sql",
            "version": ""
        }
    },
    "nbformat_minor": 2,
    "nbformat": 4,
    "cells": [
        {
            "cell_type": "markdown",
            "source": "Iniciar o particionamento de tabela tb_certificadosVg de acordo com a RS 615258\r\n-- Nesse caso vamos mudar a tabela para que a pk seja não cluster e a coluna data_implantacao seja a coluna do particionamento\r\n-- Essa tabela vamos aguardar mais tempo, para que tenhamos mais dados e assim saibamos como que é a distribuição de quantidade de registros por ano.\r\n\r\n",
            "metadata": {}
        },
        {
            "cell_type": "code",
            "source": "USE\r\nDLKMUMPS\r\nGO\r\n\r\n\r\nSELECT TOP 10\r\n    t.NAME AS TableName,\r\n    s.Name AS SchemaName,\r\n    p.rows,\r\n    SUM(a.total_pages) * 8 AS TotalSpaceKB, \r\n    CAST(ROUND(((SUM(a.total_pages) * 8) / 1024.00), 2) AS NUMERIC(36, 2)) AS TotalSpaceMB,\r\n    SUM(a.used_pages) * 8 AS UsedSpaceKB, \r\n    CAST(ROUND(((SUM(a.used_pages) * 8) / 1024.00), 2) AS NUMERIC(36, 2)) AS UsedSpaceMB, \r\n    (SUM(a.total_pages) - SUM(a.used_pages)) * 8 AS UnusedSpaceKB,\r\n    CAST(ROUND(((SUM(a.total_pages) - SUM(a.used_pages)) * 8) / 1024.00, 2) AS NUMERIC(36, 2)) AS UnusedSpaceMB\r\nFROM \r\n    sys.tables t\r\nINNER JOIN      \r\n    sys.indexes i ON t.OBJECT_ID = i.object_id\r\nINNER JOIN \r\n    sys.partitions p ON i.object_id = p.OBJECT_ID AND i.index_id = p.index_id\r\nINNER JOIN \r\n    sys.allocation_units a ON p.partition_id = a.container_id\r\nLEFT OUTER JOIN \r\n    sys.schemas s ON t.schema_id = s.schema_id\r\nWHERE \r\n    t.NAME NOT LIKE 'dt%' \r\n    AND t.is_ms_shipped = 0\r\n    AND i.OBJECT_ID > 255 \r\n\tand t.NAME = 'tb_certificadosVg'\r\n    GROUP BY \r\n    t.Name, s.Name, p.Rows\r\nORDER BY \r\n    rows DESC, t.Name",
            "metadata": {},
            "outputs": [
                {
                    "output_type": "display_data",
                    "data": {
                        "text/html": "Commands completed successfully."
                    },
                    "metadata": {}
                },
                {
                    "output_type": "display_data",
                    "data": {
                        "text/html": "Total execution time: 00:00:00.0043165"
                    },
                    "metadata": {}
                },
                {
                    "output_type": "display_data",
                    "data": {
                        "text/html": "(1 row affected)"
                    },
                    "metadata": {}
                },
                {
                    "output_type": "display_data",
                    "data": {
                        "text/html": "Total execution time: 00:00:00.0875509"
                    },
                    "metadata": {}
                },
                {
                    "output_type": "execute_result",
                    "metadata": {},
                    "execution_count": 1,
                    "data": {
                        "application/vnd.dataresource+json": {
                            "schema": {
                                "fields": [
                                    {
                                        "name": "TableName"
                                    },
                                    {
                                        "name": "SchemaName"
                                    },
                                    {
                                        "name": "rows"
                                    },
                                    {
                                        "name": "TotalSpaceKB"
                                    },
                                    {
                                        "name": "TotalSpaceMB"
                                    },
                                    {
                                        "name": "UsedSpaceKB"
                                    },
                                    {
                                        "name": "UsedSpaceMB"
                                    },
                                    {
                                        "name": "UnusedSpaceKB"
                                    },
                                    {
                                        "name": "UnusedSpaceMB"
                                    }
                                ]
                            },
                            "data": [
                                {
                                    "0": "tb_certificadosVg",
                                    "1": "dlkmumps",
                                    "2": "321885",
                                    "3": "190984",
                                    "4": "186,51",
                                    "5": "184632",
                                    "6": "180,30",
                                    "7": "6352",
                                    "8": "6,20"
                                }
                            ]
                        },
                        "text/html": "<table><tr><th>TableName</th><th>SchemaName</th><th>rows</th><th>TotalSpaceKB</th><th>TotalSpaceMB</th><th>UsedSpaceKB</th><th>UsedSpaceMB</th><th>UnusedSpaceKB</th><th>UnusedSpaceMB</th></tr><tr><td>tb_certificadosVg</td><td>dlkmumps</td><td>321885</td><td>190984</td><td>186,51</td><td>184632</td><td>180,30</td><td>6352</td><td>6,20</td></tr></table>"
                    }
                }
            ],
            "execution_count": 1
        }
    ]
}