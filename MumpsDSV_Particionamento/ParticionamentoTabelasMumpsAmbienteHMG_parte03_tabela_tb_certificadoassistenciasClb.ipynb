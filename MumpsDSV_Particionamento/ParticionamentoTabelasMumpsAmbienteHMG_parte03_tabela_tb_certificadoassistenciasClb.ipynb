{
    "metadata": {
        "kernelspec": {
            "name": "SQL",
            "display_name": "SQL",
            "language": "sql"
        },
        "language_info": {
            "name": "sql",
            "version": ""
        }
    },
    "nbformat_minor": 2,
    "nbformat": 4,
    "cells": [
        {
            "cell_type": "markdown",
            "source": "Iniciar o particionamento de tabela tb_certificadoassistenciasClb de acordo com a RS 615258",
            "metadata": {}
        },
        {
            "cell_type": "code",
            "source": "USE\r\nDLKMUMPS\r\nGO\r\n\r\n\r\nSELECT TOP 10\r\n    t.NAME AS TableName,\r\n    s.Name AS SchemaName,\r\n    p.rows,\r\n    SUM(a.total_pages) * 8 AS TotalSpaceKB, \r\n    CAST(ROUND(((SUM(a.total_pages) * 8) / 1024.00), 2) AS NUMERIC(36, 2)) AS TotalSpaceMB,\r\n    SUM(a.used_pages) * 8 AS UsedSpaceKB, \r\n    CAST(ROUND(((SUM(a.used_pages) * 8) / 1024.00), 2) AS NUMERIC(36, 2)) AS UsedSpaceMB, \r\n    (SUM(a.total_pages) - SUM(a.used_pages)) * 8 AS UnusedSpaceKB,\r\n    CAST(ROUND(((SUM(a.total_pages) - SUM(a.used_pages)) * 8) / 1024.00, 2) AS NUMERIC(36, 2)) AS UnusedSpaceMB\r\nFROM \r\n    sys.tables t\r\nINNER JOIN      \r\n    sys.indexes i ON t.OBJECT_ID = i.object_id\r\nINNER JOIN \r\n    sys.partitions p ON i.object_id = p.OBJECT_ID AND i.index_id = p.index_id\r\nINNER JOIN \r\n    sys.allocation_units a ON p.partition_id = a.container_id\r\nLEFT OUTER JOIN \r\n    sys.schemas s ON t.schema_id = s.schema_id\r\nWHERE \r\n    t.NAME NOT LIKE 'dt%' \r\n    AND t.is_ms_shipped = 0\r\n    AND i.OBJECT_ID > 255 \r\n\tand t.NAME = 'tb_certificadoassistenciasClb'\r\n    GROUP BY \r\n    t.Name, s.Name, p.Rows\r\nORDER BY \r\n    rows DESC, t.Name",
            "metadata": {},
            "outputs": [
                {
                    "output_type": "display_data",
                    "data": {
                        "text/html": "Commands completed successfully."
                    },
                    "metadata": {}
                },
                {
                    "output_type": "display_data",
                    "data": {
                        "text/html": "Total execution time: 00:00:00.0988820"
                    },
                    "metadata": {}
                },
                {
                    "output_type": "display_data",
                    "data": {
                        "text/html": "(1 row affected)"
                    },
                    "metadata": {}
                },
                {
                    "output_type": "display_data",
                    "data": {
                        "text/html": "Total execution time: 00:00:00.0889401"
                    },
                    "metadata": {}
                },
                {
                    "output_type": "execute_result",
                    "metadata": {},
                    "execution_count": 2,
                    "data": {
                        "application/vnd.dataresource+json": {
                            "schema": {
                                "fields": [
                                    {
                                        "name": "TableName"
                                    },
                                    {
                                        "name": "SchemaName"
                                    },
                                    {
                                        "name": "rows"
                                    },
                                    {
                                        "name": "TotalSpaceKB"
                                    },
                                    {
                                        "name": "TotalSpaceMB"
                                    },
                                    {
                                        "name": "UsedSpaceKB"
                                    },
                                    {
                                        "name": "UsedSpaceMB"
                                    },
                                    {
                                        "name": "UnusedSpaceKB"
                                    },
                                    {
                                        "name": "UnusedSpaceMB"
                                    }
                                ]
                            },
                            "data": [
                                {
                                    "0": "tb_certificadoassistenciasClb",
                                    "1": "dlkmumps",
                                    "2": "1820189",
                                    "3": "477768",
                                    "4": "466,57",
                                    "5": "395032",
                                    "6": "385,77",
                                    "7": "82736",
                                    "8": "80,80"
                                }
                            ]
                        },
                        "text/html": "<table><tr><th>TableName</th><th>SchemaName</th><th>rows</th><th>TotalSpaceKB</th><th>TotalSpaceMB</th><th>UsedSpaceKB</th><th>UsedSpaceMB</th><th>UnusedSpaceKB</th><th>UnusedSpaceMB</th></tr><tr><td>tb_certificadoassistenciasClb</td><td>dlkmumps</td><td>1820189</td><td>477768</td><td>466,57</td><td>395032</td><td>385,77</td><td>82736</td><td>80,80</td></tr></table>"
                    }
                }
            ],
            "execution_count": 2
        },
        {
            "cell_type": "code",
            "source": "USE\r\nDLKMUMPS\r\nGO\r\n    \r\n    declare @databasename varchar(50)\r\n\tdeclare @tablename varchar(100)\r\n\t\t\r\n\tset @databasename = 'DLKMUMPS'\r\n\tset @tablename = 'tb_certificadoassistenciasClb'\r\n\r\n\tSELECT cu.CONSTRAINT_NAME, cu.COLUMN_NAME \r\n\tFROM INFORMATION_SCHEMA.KEY_COLUMN_USAGE cu \r\n\tWHERE EXISTS ( SELECT tc.* FROM INFORMATION_SCHEMA.TABLE_CONSTRAINTS tc \r\n\tWHERE tc.CONSTRAINT_CATALOG = @databasename \r\n\tAND tc.TABLE_NAME = @tablename \r\n\tAND tc.CONSTRAINT_TYPE = 'PRIMARY KEY' \r\n\tAND tc.CONSTRAINT_NAME = cu.CONSTRAINT_NAME )",
            "metadata": {},
            "outputs": [
                {
                    "output_type": "display_data",
                    "data": {
                        "text/html": "Commands completed successfully."
                    },
                    "metadata": {}
                },
                {
                    "output_type": "display_data",
                    "data": {
                        "text/html": "Total execution time: 00:00:00.0174823"
                    },
                    "metadata": {}
                },
                {
                    "output_type": "display_data",
                    "data": {
                        "text/html": "(1 row affected)"
                    },
                    "metadata": {}
                },
                {
                    "output_type": "display_data",
                    "data": {
                        "text/html": "Total execution time: 00:00:00.1414734"
                    },
                    "metadata": {}
                },
                {
                    "output_type": "execute_result",
                    "metadata": {},
                    "execution_count": 3,
                    "data": {
                        "application/vnd.dataresource+json": {
                            "schema": {
                                "fields": [
                                    {
                                        "name": "CONSTRAINT_NAME"
                                    },
                                    {
                                        "name": "COLUMN_NAME"
                                    }
                                ]
                            },
                            "data": [
                                {
                                    "0": "PK_tb_certificadoassistenciasClb",
                                    "1": "id_certificadoassistencias"
                                }
                            ]
                        },
                        "text/html": "<table><tr><th>CONSTRAINT_NAME</th><th>COLUMN_NAME</th></tr><tr><td>PK_tb_certificadoassistenciasClb</td><td>id_certificadoassistencias</td></tr></table>"
                    }
                }
            ],
            "execution_count": 3
        },
        {
            "cell_type": "markdown",
            "source": "-- Retirar a tabela que faz parte do CDC -- Como Verificar se a tabela está no CDC",
            "metadata": {}
        },
        {
            "cell_type": "code",
            "source": "SELECT s.name AS Schema_Name, tb.name AS Table_Name\r\n, tb.object_id, tb.type, tb.type_desc, tb.is_tracked_by_cdc\r\nFROM sys.tables tb\r\nINNER JOIN sys.schemas s on s.schema_id = tb.schema_id\r\nWHERE tb.is_tracked_by_cdc = 1\r\nand s.name = 'dlkmumps'\r\nand tb.name = 'tb_certificadoassistenciasClb'",
            "metadata": {},
            "outputs": [
                {
                    "output_type": "display_data",
                    "data": {
                        "text/html": "(1 row affected)"
                    },
                    "metadata": {}
                },
                {
                    "output_type": "display_data",
                    "data": {
                        "text/html": "Total execution time: 00:00:00.0444142"
                    },
                    "metadata": {}
                },
                {
                    "output_type": "execute_result",
                    "metadata": {},
                    "execution_count": 4,
                    "data": {
                        "application/vnd.dataresource+json": {
                            "schema": {
                                "fields": [
                                    {
                                        "name": "Schema_Name"
                                    },
                                    {
                                        "name": "Table_Name"
                                    },
                                    {
                                        "name": "object_id"
                                    },
                                    {
                                        "name": "type"
                                    },
                                    {
                                        "name": "type_desc"
                                    },
                                    {
                                        "name": "is_tracked_by_cdc"
                                    }
                                ]
                            },
                            "data": [
                                {
                                    "0": "dlkmumps",
                                    "1": "tb_certificadoassistenciasClb",
                                    "2": "1109578991",
                                    "3": "U ",
                                    "4": "USER_TABLE",
                                    "5": "1"
                                }
                            ]
                        },
                        "text/html": "<table><tr><th>Schema_Name</th><th>Table_Name</th><th>object_id</th><th>type</th><th>type_desc</th><th>is_tracked_by_cdc</th></tr><tr><td>dlkmumps</td><td>tb_certificadoassistenciasClb</td><td>1109578991</td><td>U </td><td>USER_TABLE</td><td>1</td></tr></table>"
                    }
                }
            ],
            "execution_count": 4
        },
        {
            "cell_type": "markdown",
            "source": "-- Verificar as propridades para retirar a tabela do CDC",
            "metadata": {}
        },
        {
            "cell_type": "code",
            "source": "-- Verificar tabela com  CDC\r\n\r\nUSE\r\nDLKMUMPS\r\nGO\r\n\r\n--EXEC sys.sp_cdc_help_change_data_capture\r\n--GO\r\n \r\nSELECT capture_instance as NomeTabelaCDC, OBJECT_NAME(source_object_id) as NomeTabelaDataSource, \r\n\r\n\r\nLEFT(\r\n        capture_instance, \r\n        CHARINDEX('_', capture_instance) -1        \r\n    ) schema_production\r\n    \r\nFROM cdc.change_tables\r\nwhere OBJECT_NAME(source_object_id) = 'tb_certificadoassistenciasClb'",
            "metadata": {},
            "outputs": [
                {
                    "output_type": "display_data",
                    "data": {
                        "text/html": "Commands completed successfully."
                    },
                    "metadata": {}
                },
                {
                    "output_type": "display_data",
                    "data": {
                        "text/html": "Total execution time: 00:00:00.0018346"
                    },
                    "metadata": {}
                },
                {
                    "output_type": "display_data",
                    "data": {
                        "text/html": "(1 row affected)"
                    },
                    "metadata": {}
                },
                {
                    "output_type": "display_data",
                    "data": {
                        "text/html": "Total execution time: 00:00:00.0118795"
                    },
                    "metadata": {}
                },
                {
                    "output_type": "execute_result",
                    "metadata": {},
                    "execution_count": 5,
                    "data": {
                        "application/vnd.dataresource+json": {
                            "schema": {
                                "fields": [
                                    {
                                        "name": "NomeTabelaCDC"
                                    },
                                    {
                                        "name": "NomeTabelaDataSource"
                                    },
                                    {
                                        "name": "schema_production"
                                    }
                                ]
                            },
                            "data": [
                                {
                                    "0": "dlkmumps_tb_certificadoassistenciasClb",
                                    "1": "tb_certificadoassistenciasClb",
                                    "2": "dlkmumps"
                                }
                            ]
                        },
                        "text/html": "<table><tr><th>NomeTabelaCDC</th><th>NomeTabelaDataSource</th><th>schema_production</th></tr><tr><td>dlkmumps_tb_certificadoassistenciasClb</td><td>tb_certificadoassistenciasClb</td><td>dlkmumps</td></tr></table>"
                    }
                }
            ],
            "execution_count": 5
        },
        {
            "cell_type": "markdown",
            "source": "-- Retirar a Tabela do processo de CDC",
            "metadata": {}
        },
        {
            "cell_type": "code",
            "source": "use\r\nDLKMUMPS\r\nGO\r\n\r\n--Remover tabela com CDC\r\nEXEC sys.sp_cdc_disable_table\r\n    @source_schema = 'dlkmumps', -- sysname\r\n    @source_name = 'tb_certificadoassistenciasClb', -- sysname\r\n    @capture_instance = 'dlkmumps_tb_certificadoassistenciasClb' -- sysname\r\n\r\n",
            "metadata": {},
            "outputs": [
                {
                    "output_type": "display_data",
                    "data": {
                        "text/html": "Commands completed successfully."
                    },
                    "metadata": {}
                },
                {
                    "output_type": "display_data",
                    "data": {
                        "text/html": "Total execution time: 00:00:00.0013598"
                    },
                    "metadata": {}
                },
                {
                    "output_type": "display_data",
                    "data": {
                        "text/html": "Commands completed successfully."
                    },
                    "metadata": {}
                },
                {
                    "output_type": "display_data",
                    "data": {
                        "text/html": "Total execution time: 00:00:00.2506904"
                    },
                    "metadata": {}
                }
            ],
            "execution_count": 6
        },
        {
            "cell_type": "markdown",
            "source": "--Verificar se de fato a tabela saiu do CDC",
            "metadata": {}
        },
        {
            "cell_type": "code",
            "source": "use\r\nDLKMUMPS\r\nGO\r\n\r\nSELECT s.name AS Schema_Name, tb.name AS Table_Name\r\n, tb.object_id, tb.type, tb.type_desc, tb.is_tracked_by_cdc\r\nFROM sys.tables tb\r\nINNER JOIN sys.schemas s on s.schema_id = tb.schema_id\r\nWHERE tb.is_tracked_by_cdc = 1\r\nand s.name = 'dlkmumps'\r\nand tb.name = 'tb_certificadoassistenciasClb'",
            "metadata": {},
            "outputs": [
                {
                    "output_type": "display_data",
                    "data": {
                        "text/html": "Commands completed successfully."
                    },
                    "metadata": {}
                },
                {
                    "output_type": "display_data",
                    "data": {
                        "text/html": "Total execution time: 00:00:00.0135790"
                    },
                    "metadata": {}
                },
                {
                    "output_type": "display_data",
                    "data": {
                        "text/html": "(0 rows affected)"
                    },
                    "metadata": {}
                },
                {
                    "output_type": "display_data",
                    "data": {
                        "text/html": "Total execution time: 00:00:00.0783137"
                    },
                    "metadata": {}
                },
                {
                    "output_type": "execute_result",
                    "metadata": {},
                    "execution_count": 7,
                    "data": {
                        "application/vnd.dataresource+json": {
                            "schema": {
                                "fields": [
                                    {
                                        "name": "Schema_Name"
                                    },
                                    {
                                        "name": "Table_Name"
                                    },
                                    {
                                        "name": "object_id"
                                    },
                                    {
                                        "name": "type"
                                    },
                                    {
                                        "name": "type_desc"
                                    },
                                    {
                                        "name": "is_tracked_by_cdc"
                                    }
                                ]
                            },
                            "data": []
                        },
                        "text/html": "<table><tr><th>Schema_Name</th><th>Table_Name</th><th>object_id</th><th>type</th><th>type_desc</th><th>is_tracked_by_cdc</th></tr></table>"
                    }
                }
            ],
            "execution_count": 7
        },
        {
            "cell_type": "markdown",
            "source": "Drop da chave primária da tabela  tb_certificadoassistenciasClb ",
            "metadata": {}
        },
        {
            "cell_type": "code",
            "source": "USE [DLKMUMPS]\r\nGO\r\n\r\n/****** Object:  Index [PK_tb_certificadoassistenciasClb]    Script Date: 07/10/2020 15:10:02 ******/\r\nALTER TABLE [dlkmumps].[tb_certificadoassistenciasClb] DROP CONSTRAINT [PK_tb_certificadoassistenciasClb] WITH ( ONLINE = OFF )\r\nGO",
            "metadata": {},
            "outputs": [
                {
                    "output_type": "display_data",
                    "data": {
                        "text/html": "Commands completed successfully."
                    },
                    "metadata": {}
                },
                {
                    "output_type": "display_data",
                    "data": {
                        "text/html": "Total execution time: 00:00:00.0019090"
                    },
                    "metadata": {}
                },
                {
                    "output_type": "display_data",
                    "data": {
                        "text/html": "Commands completed successfully."
                    },
                    "metadata": {}
                },
                {
                    "output_type": "display_data",
                    "data": {
                        "text/html": "Total execution time: 00:00:01.5960535"
                    },
                    "metadata": {}
                }
            ],
            "execution_count": 8
        },
        {
            "cell_type": "markdown",
            "source": "Validar a existência de indices não cluster na tabela que vai ser particionada.\r\n",
            "metadata": {}
        },
        {
            "cell_type": "code",
            "source": "/*****************************************************************************\r\nMIT License, http://www.opensource.org/licenses/mit-license.php\r\nContact: help@sqlworkbooks.com\r\nCopyright (c) 2018 SQL Workbooks LLC\r\nPermission is hereby granted, free of charge, to any person \r\nobtaining a copy of this software and associated documentation\r\nfiles (the \"Software\"), to deal in the Software without \r\nrestriction, including without limitation the rights to use,\r\ncopy, modify, merge, publish, distribute, sublicense, and/or\r\nsell copies of the Software, and to permit persons to whom \r\nthe Software is furnished to do so, subject to the following \r\nconditions:\r\nThe above copyright notice and this permission notice shall be\r\nincluded in all copies or substantial portions of the Software.\r\nTHE SOFTWARE IS PROVIDED \"AS IS\", WITHOUT WARRANTY OF ANY KIND, \r\nEXPRESS OR IMPLIED, INCLUDING BUT NOT LIMITED TO THE WARRANTIES \r\nOF MERCHANTABILITY, FITNESS FOR A PARTICULAR PURPOSE AND \r\nNONINFRINGEMENT. IN NO EVENT SHALL THE AUTHORS OR COPYRIGHT \r\nHOLDERS BE LIABLE FOR ANY CLAIM, DAMAGES OR OTHER LIABILITY, \r\nWHETHER IN AN ACTION OF CONTRACT, TORT OR OTHERWISE, ARISING \r\nFROM, OUT OF OR IN CONNECTION WITH THE SOFTWARE OR THE USE OR \r\nOTHER DEALINGS IN THE SOFTWARE.\r\n*****************************************************************************/\r\nUSE\r\nDLKMUMPS\r\nGO\r\n\r\n\r\ndeclare @tablename varchar(50)\r\ndeclare @schemaname varchar(50)\r\n\r\nset @tablename = 'tb_certificadoassistenciasClb'\r\nset @schemaname = 'dlkmumps'\r\n\r\nSELECT \r\n    DB_NAME() AS database_name,\r\n    sc.name + N'.' + t.name AS table_name,\r\n    (SELECT MAX(user_reads) \r\n        FROM (VALUES (last_user_seek), (last_user_scan), (last_user_lookup)) AS value(user_reads)) AS last_user_read,\r\n    last_user_update,\r\n    CASE si.index_id WHEN 0 THEN N'/* No create statement (Heap) */'\r\n    ELSE \r\n        CASE is_primary_key WHEN 1 THEN\r\n            N'ALTER TABLE ' + QUOTENAME(sc.name) + N'.' + QUOTENAME(t.name) + N' ADD CONSTRAINT ' + QUOTENAME(si.name) + N' PRIMARY KEY ' +\r\n                CASE WHEN si.index_id > 1 THEN N'NON' ELSE N'' END + N'CLUSTERED '\r\n            ELSE N'CREATE ' + \r\n                CASE WHEN si.is_unique = 1 then N'UNIQUE ' ELSE N'' END +\r\n                CASE WHEN si.index_id > 1 THEN N'NON' ELSE N'' END + N'CLUSTERED ' +\r\n                N'INDEX ' + QUOTENAME(si.name) + N' ON ' + QUOTENAME(sc.name) + N'.' + QUOTENAME(t.name) + N' '\r\n        END +\r\n        /* key def */ N'(' + key_definition + N')' +\r\n        /* includes */ CASE WHEN include_definition IS NOT NULL THEN \r\n            N' INCLUDE (' + include_definition + N')'\r\n            ELSE N''\r\n        END +\r\n        /* filters */ CASE WHEN filter_definition IS NOT NULL THEN \r\n            N' WHERE ' + filter_definition ELSE N''\r\n        END +\r\n        /* with clause - compression goes here */\r\n        CASE WHEN row_compression_partition_list IS NOT NULL OR page_compression_partition_list IS NOT NULL \r\n            THEN N' WITH (' +\r\n                CASE WHEN row_compression_partition_list IS NOT NULL THEN\r\n                    N'DATA_COMPRESSION = ROW ' + CASE WHEN psc.name IS NULL THEN N'' ELSE + N' ON PARTITIONS (' + row_compression_partition_list + N')' END\r\n                ELSE N'' END +\r\n                CASE WHEN row_compression_partition_list IS NOT NULL AND page_compression_partition_list IS NOT NULL THEN N', ' ELSE N'' END +\r\n                CASE WHEN page_compression_partition_list IS NOT NULL THEN\r\n                    N'DATA_COMPRESSION = PAGE ' + CASE WHEN psc.name IS NULL THEN N'' ELSE + N' ON PARTITIONS (' + page_compression_partition_list + N')' END\r\n                ELSE N'' END\r\n            + N')'\r\n            ELSE N''\r\n        END +\r\n        /* ON where? filegroup? partition scheme? */\r\n        ' ON ' + CASE WHEN psc.name is null \r\n            THEN ISNULL(QUOTENAME(fg.name),N'')\r\n            ELSE psc.name + N' (' + partitioning_column.column_name + N')' \r\n            END\r\n        + N';'\r\n    END AS index_create_statement,\r\n    si.index_id,\r\n    si.name AS index_name,\r\n    partition_sums.reserved_in_row_GB,\r\n    partition_sums.reserved_LOB_GB,\r\n    partition_sums.row_count,\r\n    stat.user_seeks,\r\n    stat.user_scans,\r\n    stat.user_lookups,\r\n    user_updates AS queries_that_modified,\r\n    partition_sums.partition_count,\r\n    si.allow_page_locks,\r\n    si.allow_row_locks,\r\n    si.is_hypothetical,\r\n    si.has_filter,\r\n    si.fill_factor,\r\n    si.is_unique,\r\n    ISNULL(pf.name, '/* Not partitioned */') AS partition_function,\r\n    ISNULL(psc.name, fg.name) AS partition_scheme_or_filegroup,\r\n    t.create_date AS table_created_date,\r\n    t.modify_date AS table_modify_date\r\nFROM sys.indexes AS si\r\nJOIN sys.tables AS t ON si.object_id=t.object_id\r\nJOIN sys.schemas AS sc ON t.schema_id=sc.schema_id\r\nLEFT JOIN sys.dm_db_index_usage_stats AS stat ON \r\n    stat.database_id = DB_ID() \r\n    and si.object_id=stat.object_id \r\n    and si.index_id=stat.index_id\r\nLEFT JOIN sys.partition_schemes AS psc ON si.data_space_id=psc.data_space_id\r\nLEFT JOIN sys.partition_functions AS pf ON psc.function_id=pf.function_id\r\nLEFT JOIN sys.filegroups AS fg ON si.data_space_id=fg.data_space_id\r\n/* Key list */ OUTER APPLY ( SELECT STUFF (\r\n    (SELECT N', ' + QUOTENAME(c.name) +\r\n        CASE ic.is_descending_key WHEN 1 then N' DESC' ELSE N'' END\r\n    FROM sys.index_columns AS ic \r\n    JOIN sys.columns AS c ON \r\n        ic.column_id=c.column_id  \r\n        and ic.object_id=c.object_id\r\n    WHERE ic.object_id = si.object_id\r\n        and ic.index_id=si.index_id\r\n        and ic.key_ordinal > 0\r\n    ORDER BY ic.key_ordinal FOR XML PATH(''), TYPE).value('.', 'NVARCHAR(MAX)'),1,2,'')) AS keys ( key_definition )\r\n/* Partitioning Ordinal */ OUTER APPLY (\r\n    SELECT MAX(QUOTENAME(c.name)) AS column_name\r\n    FROM sys.index_columns AS ic \r\n    JOIN sys.columns AS c ON \r\n        ic.column_id=c.column_id  \r\n        and ic.object_id=c.object_id\r\n    WHERE ic.object_id = si.object_id\r\n        and ic.index_id=si.index_id\r\n        and ic.partition_ordinal = 1) AS partitioning_column\r\n/* Include list */ OUTER APPLY ( SELECT STUFF (\r\n    (SELECT N', ' + QUOTENAME(c.name)\r\n    FROM sys.index_columns AS ic \r\n    JOIN sys.columns AS c ON \r\n        ic.column_id=c.column_id  \r\n        and ic.object_id=c.object_id\r\n    WHERE ic.object_id = si.object_id\r\n        and ic.index_id=si.index_id\r\n        and ic.is_included_column = 1\r\n    ORDER BY c.name FOR XML PATH(''), TYPE).value('.', 'NVARCHAR(MAX)'),1,2,'')) AS includes ( include_definition )\r\n/* Partitions */ OUTER APPLY ( \r\n    SELECT \r\n        COUNT(*) AS partition_count,\r\n        CAST(SUM(ps.in_row_reserved_page_count)*8./1024./1024. AS NUMERIC(32,1)) AS reserved_in_row_GB,\r\n        CAST(SUM(ps.lob_reserved_page_count)*8./1024./1024. AS NUMERIC(32,1)) AS reserved_LOB_GB,\r\n        SUM(ps.row_count) AS row_count\r\n    FROM sys.partitions AS p\r\n    JOIN sys.dm_db_partition_stats AS ps ON\r\n        p.partition_id=ps.partition_id\r\n    WHERE p.object_id = si.object_id\r\n        and p.index_id=si.index_id\r\n    ) AS partition_sums\r\n/* row compression list by partition */ OUTER APPLY ( SELECT STUFF (\r\n    (SELECT N', ' + CAST(p.partition_number AS VARCHAR(32))\r\n    FROM sys.partitions AS p\r\n    WHERE p.object_id = si.object_id\r\n        and p.index_id=si.index_id\r\n        and p.data_compression = 1\r\n    ORDER BY p.partition_number FOR XML PATH(''), TYPE).value('.', 'NVARCHAR(MAX)'),1,2,'')) AS row_compression_clause ( row_compression_partition_list )\r\n/* data compression list by partition */ OUTER APPLY ( SELECT STUFF (\r\n    (SELECT N', ' + CAST(p.partition_number AS VARCHAR(32))\r\n    FROM sys.partitions AS p\r\n    WHERE p.object_id = si.object_id\r\n        and p.index_id=si.index_id\r\n        and p.data_compression = 2\r\n    ORDER BY p.partition_number FOR XML PATH(''), TYPE).value('.', 'NVARCHAR(MAX)'),1,2,'')) AS page_compression_clause ( page_compression_partition_list )\r\nWHERE \r\n    si.type IN (0,1,2) /* heap, clustered, nonclustered */\r\n\tand t.name = @tablename\r\n\tand sc.name = @schemaname\r\nORDER BY table_name, si.index_id\r\n    OPTION (RECOMPILE);\r\nGO",
            "metadata": {},
            "outputs": [
                {
                    "output_type": "display_data",
                    "data": {
                        "text/html": "Commands completed successfully."
                    },
                    "metadata": {}
                },
                {
                    "output_type": "display_data",
                    "data": {
                        "text/html": "Total execution time: 00:00:00.0038196"
                    },
                    "metadata": {}
                },
                {
                    "output_type": "display_data",
                    "data": {
                        "text/html": "Warning: Null value is eliminated by an aggregate or other SET operation."
                    },
                    "metadata": {}
                },
                {
                    "output_type": "display_data",
                    "data": {
                        "text/html": "(1 row affected)"
                    },
                    "metadata": {}
                },
                {
                    "output_type": "display_data",
                    "data": {
                        "text/html": "Total execution time: 00:00:00.3333137"
                    },
                    "metadata": {}
                },
                {
                    "output_type": "execute_result",
                    "metadata": {},
                    "execution_count": 9,
                    "data": {
                        "application/vnd.dataresource+json": {
                            "schema": {
                                "fields": [
                                    {
                                        "name": "database_name"
                                    },
                                    {
                                        "name": "table_name"
                                    },
                                    {
                                        "name": "last_user_read"
                                    },
                                    {
                                        "name": "last_user_update"
                                    },
                                    {
                                        "name": "index_create_statement"
                                    },
                                    {
                                        "name": "index_id"
                                    },
                                    {
                                        "name": "index_name"
                                    },
                                    {
                                        "name": "reserved_in_row_GB"
                                    },
                                    {
                                        "name": "reserved_LOB_GB"
                                    },
                                    {
                                        "name": "row_count"
                                    },
                                    {
                                        "name": "user_seeks"
                                    },
                                    {
                                        "name": "user_scans"
                                    },
                                    {
                                        "name": "user_lookups"
                                    },
                                    {
                                        "name": "queries_that_modified"
                                    },
                                    {
                                        "name": "partition_count"
                                    },
                                    {
                                        "name": "allow_page_locks"
                                    },
                                    {
                                        "name": "allow_row_locks"
                                    },
                                    {
                                        "name": "is_hypothetical"
                                    },
                                    {
                                        "name": "has_filter"
                                    },
                                    {
                                        "name": "fill_factor"
                                    },
                                    {
                                        "name": "is_unique"
                                    },
                                    {
                                        "name": "partition_function"
                                    },
                                    {
                                        "name": "partition_scheme_or_filegroup"
                                    },
                                    {
                                        "name": "table_created_date"
                                    },
                                    {
                                        "name": "table_modify_date"
                                    }
                                ]
                            },
                            "data": [
                                {
                                    "0": "DLKMUMPS",
                                    "1": "dlkmumps.tb_certificadoassistenciasClb",
                                    "2": "NULL",
                                    "3": "NULL",
                                    "4": "/* No create statement (Heap) */",
                                    "5": "0",
                                    "6": "NULL",
                                    "7": "0,4",
                                    "8": "0,0",
                                    "9": "1820189",
                                    "10": "NULL",
                                    "11": "NULL",
                                    "12": "NULL",
                                    "13": "NULL",
                                    "14": "1",
                                    "15": "1",
                                    "16": "1",
                                    "17": "0",
                                    "18": "0",
                                    "19": "0",
                                    "20": "0",
                                    "21": "/* Not partitioned */",
                                    "22": "PRIMARY",
                                    "23": "2020-09-22 19:25:38.173",
                                    "24": "2020-10-07 15:15:54.813"
                                }
                            ]
                        },
                        "text/html": "<table><tr><th>database_name</th><th>table_name</th><th>last_user_read</th><th>last_user_update</th><th>index_create_statement</th><th>index_id</th><th>index_name</th><th>reserved_in_row_GB</th><th>reserved_LOB_GB</th><th>row_count</th><th>user_seeks</th><th>user_scans</th><th>user_lookups</th><th>queries_that_modified</th><th>partition_count</th><th>allow_page_locks</th><th>allow_row_locks</th><th>is_hypothetical</th><th>has_filter</th><th>fill_factor</th><th>is_unique</th><th>partition_function</th><th>partition_scheme_or_filegroup</th><th>table_created_date</th><th>table_modify_date</th></tr><tr><td>DLKMUMPS</td><td>dlkmumps.tb_certificadoassistenciasClb</td><td>NULL</td><td>NULL</td><td>/* No create statement (Heap) */</td><td>0</td><td>NULL</td><td>0,4</td><td>0,0</td><td>1820189</td><td>NULL</td><td>NULL</td><td>NULL</td><td>NULL</td><td>1</td><td>1</td><td>1</td><td>0</td><td>0</td><td>0</td><td>0</td><td>/* Not partitioned */</td><td>PRIMARY</td><td>2020-09-22 19:25:38.173</td><td>2020-10-07 15:15:54.813</td></tr></table>"
                    }
                }
            ],
            "execution_count": 9
        },
        {
            "cell_type": "markdown",
            "source": "-- Verificar a tipagem do campo da coluna que fará parte da Função de Partição.",
            "metadata": {}
        },
        {
            "cell_type": "code",
            "source": "USE\r\nDLKMUMPS\r\nGO\r\n\r\nSELECT @@SERVERNAME as ServidorAzure, DB_NAME() as DatabaseName,\r\nTABLE_NAME,COLUMN_NAME,DATA_TYPE,CHARACTER_MAXIMUM_LENGTH,TABLE_SCHEMA\r\nFROM INFORMATION_SCHEMA.COLUMNS\r\nWHERE TABLE_NAME  = 'tb_certificadoassistenciasClb'\r\nand TABLE_SCHEMA = 'dlkmumps'\r\nGO\r\n\r\n\r\n",
            "metadata": {},
            "outputs": [
                {
                    "output_type": "display_data",
                    "data": {
                        "text/html": "Commands completed successfully."
                    },
                    "metadata": {}
                },
                {
                    "output_type": "display_data",
                    "data": {
                        "text/html": "Total execution time: 00:00:00.0119235"
                    },
                    "metadata": {}
                },
                {
                    "output_type": "display_data",
                    "data": {
                        "text/html": "(7 rows affected)"
                    },
                    "metadata": {}
                },
                {
                    "output_type": "display_data",
                    "data": {
                        "text/html": "Total execution time: 00:00:00.2719109"
                    },
                    "metadata": {}
                },
                {
                    "output_type": "execute_result",
                    "metadata": {},
                    "execution_count": 12,
                    "data": {
                        "application/vnd.dataresource+json": {
                            "schema": {
                                "fields": [
                                    {
                                        "name": "ServidorAzure"
                                    },
                                    {
                                        "name": "DatabaseName"
                                    },
                                    {
                                        "name": "TABLE_NAME"
                                    },
                                    {
                                        "name": "COLUMN_NAME"
                                    },
                                    {
                                        "name": "DATA_TYPE"
                                    },
                                    {
                                        "name": "CHARACTER_MAXIMUM_LENGTH"
                                    },
                                    {
                                        "name": "TABLE_SCHEMA"
                                    }
                                ]
                            },
                            "data": [
                                {
                                    "0": "ISMTZBDCACHEHMG",
                                    "1": "DLKMUMPS",
                                    "2": "tb_certificadoassistenciasClb",
                                    "3": "id_certificadoassistencias",
                                    "4": "int",
                                    "5": "NULL",
                                    "6": "dlkmumps"
                                },
                                {
                                    "0": "ISMTZBDCACHEHMG",
                                    "1": "DLKMUMPS",
                                    "2": "tb_certificadoassistenciasClb",
                                    "3": "num_certificado_certificadoassistencias",
                                    "4": "nchar",
                                    "5": "25",
                                    "6": "dlkmumps"
                                },
                                {
                                    "0": "ISMTZBDCACHEHMG",
                                    "1": "DLKMUMPS",
                                    "2": "tb_certificadoassistenciasClb",
                                    "3": "dsc_assistencia_certificadoassistencias",
                                    "4": "nchar",
                                    "5": "50",
                                    "6": "dlkmumps"
                                },
                                {
                                    "0": "ISMTZBDCACHEHMG",
                                    "1": "DLKMUMPS",
                                    "2": "tb_certificadoassistenciasClb",
                                    "3": "flg_utilizada_certificadoassistencias",
                                    "4": "nchar",
                                    "5": "10",
                                    "6": "dlkmumps"
                                },
                                {
                                    "0": "ISMTZBDCACHEHMG",
                                    "1": "DLKMUMPS",
                                    "2": "tb_certificadoassistenciasClb",
                                    "3": "dt_utilizacao_certificadoassistencias",
                                    "4": "date",
                                    "5": "NULL",
                                    "6": "dlkmumps"
                                },
                                {
                                    "0": "ISMTZBDCACHEHMG",
                                    "1": "DLKMUMPS",
                                    "2": "tb_certificadoassistenciasClb",
                                    "3": "cod_certificadoassistencias",
                                    "4": "nchar",
                                    "5": "10",
                                    "6": "dlkmumps"
                                },
                                {
                                    "0": "ISMTZBDCACHEHMG",
                                    "1": "DLKMUMPS",
                                    "2": "tb_certificadoassistenciasClb",
                                    "3": "data_carga",
                                    "4": "datetime",
                                    "5": "NULL",
                                    "6": "dlkmumps"
                                }
                            ]
                        },
                        "text/html": "<table><tr><th>ServidorAzure</th><th>DatabaseName</th><th>TABLE_NAME</th><th>COLUMN_NAME</th><th>DATA_TYPE</th><th>CHARACTER_MAXIMUM_LENGTH</th><th>TABLE_SCHEMA</th></tr><tr><td>ISMTZBDCACHEHMG</td><td>DLKMUMPS</td><td>tb_certificadoassistenciasClb</td><td>id_certificadoassistencias</td><td>int</td><td>NULL</td><td>dlkmumps</td></tr><tr><td>ISMTZBDCACHEHMG</td><td>DLKMUMPS</td><td>tb_certificadoassistenciasClb</td><td>num_certificado_certificadoassistencias</td><td>nchar</td><td>25</td><td>dlkmumps</td></tr><tr><td>ISMTZBDCACHEHMG</td><td>DLKMUMPS</td><td>tb_certificadoassistenciasClb</td><td>dsc_assistencia_certificadoassistencias</td><td>nchar</td><td>50</td><td>dlkmumps</td></tr><tr><td>ISMTZBDCACHEHMG</td><td>DLKMUMPS</td><td>tb_certificadoassistenciasClb</td><td>flg_utilizada_certificadoassistencias</td><td>nchar</td><td>10</td><td>dlkmumps</td></tr><tr><td>ISMTZBDCACHEHMG</td><td>DLKMUMPS</td><td>tb_certificadoassistenciasClb</td><td>dt_utilizacao_certificadoassistencias</td><td>date</td><td>NULL</td><td>dlkmumps</td></tr><tr><td>ISMTZBDCACHEHMG</td><td>DLKMUMPS</td><td>tb_certificadoassistenciasClb</td><td>cod_certificadoassistencias</td><td>nchar</td><td>10</td><td>dlkmumps</td></tr><tr><td>ISMTZBDCACHEHMG</td><td>DLKMUMPS</td><td>tb_certificadoassistenciasClb</td><td>data_carga</td><td>datetime</td><td>NULL</td><td>dlkmumps</td></tr></table>"
                    }
                }
            ],
            "execution_count": 12
        },
        {
            "cell_type": "markdown",
            "source": "-- Verificar as caracteristicas do objeto\r\n\r\n",
            "metadata": {}
        },
        {
            "cell_type": "code",
            "source": "use\r\nDLKMUMPS\r\ngo\r\n\r\nsp_help 'dlkmumps.tb_certificadoassistenciasClb'",
            "metadata": {},
            "outputs": [
                {
                    "output_type": "display_data",
                    "data": {
                        "text/html": "Commands completed successfully."
                    },
                    "metadata": {}
                },
                {
                    "output_type": "display_data",
                    "data": {
                        "text/html": "Total execution time: 00:00:00.0240444"
                    },
                    "metadata": {}
                },
                {
                    "output_type": "display_data",
                    "data": {
                        "text/html": " "
                    },
                    "metadata": {}
                },
                {
                    "output_type": "display_data",
                    "data": {
                        "text/html": " "
                    },
                    "metadata": {}
                },
                {
                    "output_type": "display_data",
                    "data": {
                        "text/html": " "
                    },
                    "metadata": {}
                },
                {
                    "output_type": "display_data",
                    "data": {
                        "text/html": " "
                    },
                    "metadata": {}
                },
                {
                    "output_type": "display_data",
                    "data": {
                        "text/html": " "
                    },
                    "metadata": {}
                },
                {
                    "output_type": "display_data",
                    "data": {
                        "text/html": " "
                    },
                    "metadata": {}
                },
                {
                    "output_type": "display_data",
                    "data": {
                        "text/html": "The object 'dlkmumps.tb_certificadoassistenciasClb' does not have any indexes, or you do not have permissions."
                    },
                    "metadata": {}
                },
                {
                    "output_type": "display_data",
                    "data": {
                        "text/html": " "
                    },
                    "metadata": {}
                },
                {
                    "output_type": "display_data",
                    "data": {
                        "text/html": "No constraints are defined on object 'dlkmumps.tb_certificadoassistenciasClb', or you do not have permissions."
                    },
                    "metadata": {}
                },
                {
                    "output_type": "display_data",
                    "data": {
                        "text/html": " "
                    },
                    "metadata": {}
                },
                {
                    "output_type": "display_data",
                    "data": {
                        "text/html": "No foreign keys reference table 'dlkmumps.tb_certificadoassistenciasClb', or you do not have permissions on referencing tables."
                    },
                    "metadata": {}
                },
                {
                    "output_type": "display_data",
                    "data": {
                        "text/html": "No views with schema binding reference table 'dlkmumps.tb_certificadoassistenciasClb'."
                    },
                    "metadata": {}
                },
                {
                    "output_type": "display_data",
                    "data": {
                        "text/html": "Total execution time: 00:00:00.4015219"
                    },
                    "metadata": {}
                },
                {
                    "output_type": "execute_result",
                    "metadata": {},
                    "execution_count": 14,
                    "data": {
                        "application/vnd.dataresource+json": {
                            "schema": {
                                "fields": [
                                    {
                                        "name": "Name"
                                    },
                                    {
                                        "name": "Owner"
                                    },
                                    {
                                        "name": "Type"
                                    },
                                    {
                                        "name": "Created_datetime"
                                    }
                                ]
                            },
                            "data": [
                                {
                                    "0": "tb_certificadoassistenciasClb",
                                    "1": "dbo",
                                    "2": "user table",
                                    "3": "2020-09-22 19:25:38.173"
                                }
                            ]
                        },
                        "text/html": "<table><tr><th>Name</th><th>Owner</th><th>Type</th><th>Created_datetime</th></tr><tr><td>tb_certificadoassistenciasClb</td><td>dbo</td><td>user table</td><td>2020-09-22 19:25:38.173</td></tr></table>"
                    }
                },
                {
                    "output_type": "execute_result",
                    "metadata": {},
                    "execution_count": 14,
                    "data": {
                        "application/vnd.dataresource+json": {
                            "schema": {
                                "fields": [
                                    {
                                        "name": "Column_name"
                                    },
                                    {
                                        "name": "Type"
                                    },
                                    {
                                        "name": "Computed"
                                    },
                                    {
                                        "name": "Length"
                                    },
                                    {
                                        "name": "Prec"
                                    },
                                    {
                                        "name": "Scale"
                                    },
                                    {
                                        "name": "Nullable"
                                    },
                                    {
                                        "name": "TrimTrailingBlanks"
                                    },
                                    {
                                        "name": "FixedLenNullInSource"
                                    },
                                    {
                                        "name": "Collation"
                                    }
                                ]
                            },
                            "data": [
                                {
                                    "0": "id_certificadoassistencias",
                                    "1": "int",
                                    "2": "no",
                                    "3": "4",
                                    "4": "10   ",
                                    "5": "0    ",
                                    "6": "no",
                                    "7": "(n/a)",
                                    "8": "(n/a)",
                                    "9": "NULL"
                                },
                                {
                                    "0": "num_certificado_certificadoassistencias",
                                    "1": "nchar",
                                    "2": "no",
                                    "3": "50",
                                    "4": "     ",
                                    "5": "     ",
                                    "6": "no",
                                    "7": "(n/a)",
                                    "8": "(n/a)",
                                    "9": "Latin1_General_CI_AS"
                                },
                                {
                                    "0": "dsc_assistencia_certificadoassistencias",
                                    "1": "nchar",
                                    "2": "no",
                                    "3": "100",
                                    "4": "     ",
                                    "5": "     ",
                                    "6": "no",
                                    "7": "(n/a)",
                                    "8": "(n/a)",
                                    "9": "Latin1_General_CI_AS"
                                },
                                {
                                    "0": "flg_utilizada_certificadoassistencias",
                                    "1": "nchar",
                                    "2": "no",
                                    "3": "20",
                                    "4": "     ",
                                    "5": "     ",
                                    "6": "yes",
                                    "7": "(n/a)",
                                    "8": "(n/a)",
                                    "9": "Latin1_General_CI_AS"
                                },
                                {
                                    "0": "dt_utilizacao_certificadoassistencias",
                                    "1": "date",
                                    "2": "no",
                                    "3": "3",
                                    "4": "10   ",
                                    "5": "0    ",
                                    "6": "yes",
                                    "7": "(n/a)",
                                    "8": "(n/a)",
                                    "9": "NULL"
                                },
                                {
                                    "0": "cod_certificadoassistencias",
                                    "1": "nchar",
                                    "2": "no",
                                    "3": "20",
                                    "4": "     ",
                                    "5": "     ",
                                    "6": "no",
                                    "7": "(n/a)",
                                    "8": "(n/a)",
                                    "9": "Latin1_General_CI_AS"
                                },
                                {
                                    "0": "data_carga",
                                    "1": "datetime",
                                    "2": "no",
                                    "3": "8",
                                    "4": "     ",
                                    "5": "     ",
                                    "6": "yes",
                                    "7": "(n/a)",
                                    "8": "(n/a)",
                                    "9": "NULL"
                                }
                            ]
                        },
                        "text/html": "<table><tr><th>Column_name</th><th>Type</th><th>Computed</th><th>Length</th><th>Prec</th><th>Scale</th><th>Nullable</th><th>TrimTrailingBlanks</th><th>FixedLenNullInSource</th><th>Collation</th></tr><tr><td>id_certificadoassistencias</td><td>int</td><td>no</td><td>4</td><td>10   </td><td>0    </td><td>no</td><td>(n/a)</td><td>(n/a)</td><td>NULL</td></tr><tr><td>num_certificado_certificadoassistencias</td><td>nchar</td><td>no</td><td>50</td><td>     </td><td>     </td><td>no</td><td>(n/a)</td><td>(n/a)</td><td>Latin1_General_CI_AS</td></tr><tr><td>dsc_assistencia_certificadoassistencias</td><td>nchar</td><td>no</td><td>100</td><td>     </td><td>     </td><td>no</td><td>(n/a)</td><td>(n/a)</td><td>Latin1_General_CI_AS</td></tr><tr><td>flg_utilizada_certificadoassistencias</td><td>nchar</td><td>no</td><td>20</td><td>     </td><td>     </td><td>yes</td><td>(n/a)</td><td>(n/a)</td><td>Latin1_General_CI_AS</td></tr><tr><td>dt_utilizacao_certificadoassistencias</td><td>date</td><td>no</td><td>3</td><td>10   </td><td>0    </td><td>yes</td><td>(n/a)</td><td>(n/a)</td><td>NULL</td></tr><tr><td>cod_certificadoassistencias</td><td>nchar</td><td>no</td><td>20</td><td>     </td><td>     </td><td>no</td><td>(n/a)</td><td>(n/a)</td><td>Latin1_General_CI_AS</td></tr><tr><td>data_carga</td><td>datetime</td><td>no</td><td>8</td><td>     </td><td>     </td><td>yes</td><td>(n/a)</td><td>(n/a)</td><td>NULL</td></tr></table>"
                    }
                },
                {
                    "output_type": "execute_result",
                    "metadata": {},
                    "execution_count": 14,
                    "data": {
                        "application/vnd.dataresource+json": {
                            "schema": {
                                "fields": [
                                    {
                                        "name": "Identity"
                                    },
                                    {
                                        "name": "Seed"
                                    },
                                    {
                                        "name": "Increment"
                                    },
                                    {
                                        "name": "Not For Replication"
                                    }
                                ]
                            },
                            "data": [
                                {
                                    "0": "id_certificadoassistencias",
                                    "1": "1",
                                    "2": "1",
                                    "3": "1"
                                }
                            ]
                        },
                        "text/html": "<table><tr><th>Identity</th><th>Seed</th><th>Increment</th><th>Not For Replication</th></tr><tr><td>id_certificadoassistencias</td><td>1</td><td>1</td><td>1</td></tr></table>"
                    }
                },
                {
                    "output_type": "execute_result",
                    "metadata": {},
                    "execution_count": 14,
                    "data": {
                        "application/vnd.dataresource+json": {
                            "schema": {
                                "fields": [
                                    {
                                        "name": "RowGuidCol"
                                    }
                                ]
                            },
                            "data": [
                                {
                                    "0": "No rowguidcol column defined."
                                }
                            ]
                        },
                        "text/html": "<table><tr><th>RowGuidCol</th></tr><tr><td>No rowguidcol column defined.</td></tr></table>"
                    }
                },
                {
                    "output_type": "execute_result",
                    "metadata": {},
                    "execution_count": 14,
                    "data": {
                        "application/vnd.dataresource+json": {
                            "schema": {
                                "fields": [
                                    {
                                        "name": "Data_located_on_filegroup"
                                    }
                                ]
                            },
                            "data": [
                                {
                                    "0": "PRIMARY"
                                }
                            ]
                        },
                        "text/html": "<table><tr><th>Data_located_on_filegroup</th></tr><tr><td>PRIMARY</td></tr></table>"
                    }
                }
            ],
            "execution_count": 14
        },
        {
            "cell_type": "markdown",
            "source": "-- Criar a função de partição para a tabela  tb_certificadoassistenciasClb",
            "metadata": {}
        },
        {
            "cell_type": "code",
            "source": "USE\r\nDLKMUMPS\r\nGO\r\n\r\n\r\n\r\nCREATE PARTITION FUNCTION [PF_Int_Partition_tb_certificadoassistenciasClb] (int)\r\nAS RANGE LEFT FOR VALUES \r\n(\r\n50000000,\r\n100000000,\r\n150000000,\r\n200000000,\r\n250000000,\r\n300000000,\r\n350000000,\r\n400000000,\r\n450000000\r\n)",
            "metadata": {},
            "outputs": [
                {
                    "output_type": "display_data",
                    "data": {
                        "text/html": "Commands completed successfully."
                    },
                    "metadata": {}
                },
                {
                    "output_type": "display_data",
                    "data": {
                        "text/html": "Total execution time: 00:00:02.1938650"
                    },
                    "metadata": {}
                },
                {
                    "output_type": "display_data",
                    "data": {
                        "text/html": "Commands completed successfully."
                    },
                    "metadata": {}
                },
                {
                    "output_type": "display_data",
                    "data": {
                        "text/html": "Total execution time: 00:00:00.0200454"
                    },
                    "metadata": {}
                }
            ],
            "execution_count": 16
        },
        {
            "cell_type": "markdown",
            "source": "- -Criar a função de Scheme para a tabela tb_certificadoassistenciasClb",
            "metadata": {}
        },
        {
            "cell_type": "code",
            "source": "USE\r\nDLKMUMPS\r\nGO\r\n\r\nCREATE PARTITION SCHEME [PS_Int_Partition_tb_certificadoassistenciasClb]\r\nAS PARTITION [PF_Int_Partition_tb_certificadoassistenciasClb]\r\nTO\r\n(\r\n    [FG_Particionamento_01],\r\n    [FG_Particionamento_02],\r\n    [FG_Particionamento_03],\r\n    [FG_Particionamento_04],\r\n    [FG_Particionamento_05],\r\n    [FG_Particionamento_06],\r\n    [FG_Particionamento_07],\r\n    [FG_Particionamento_08],\r\n    [FG_Particionamento_09],\r\n    [FG_Particionamento_10]\r\n)",
            "metadata": {},
            "outputs": [
                {
                    "output_type": "display_data",
                    "data": {
                        "text/html": "Commands completed successfully."
                    },
                    "metadata": {}
                },
                {
                    "output_type": "display_data",
                    "data": {
                        "text/html": "Total execution time: 00:00:00.0069073"
                    },
                    "metadata": {}
                },
                {
                    "output_type": "display_data",
                    "data": {
                        "text/html": "Commands completed successfully."
                    },
                    "metadata": {}
                },
                {
                    "output_type": "display_data",
                    "data": {
                        "text/html": "Total execution time: 00:00:00.0436587"
                    },
                    "metadata": {}
                }
            ],
            "execution_count": 17
        },
        {
            "cell_type": "markdown",
            "source": "-- Criação da PK com Indice Cluster já na função de partição\r\n\r\n-- Atenção para a mudança do Partition Schema que deve ser criado, bem como o nome do campo.",
            "metadata": {}
        },
        {
            "cell_type": "code",
            "source": "USE [DLKMUMPS]\r\nGO\r\n\r\n\r\n/****** Object:  Index [PK_tb_certificadoassistenciasClb]    Script Date: 07/10/2020 15:10:02 ******/\r\nALTER TABLE [dlkmumps].[tb_certificadoassistenciasClb] ADD  CONSTRAINT [PK_tb_certificadoassistenciasClb] PRIMARY KEY CLUSTERED \r\n(\r\n\t[id_certificadoassistencias] ASC\r\n)WITH (PAD_INDEX = OFF, STATISTICS_NORECOMPUTE = OFF, SORT_IN_TEMPDB = OFF, IGNORE_DUP_KEY = OFF, ONLINE = OFF, ALLOW_ROW_LOCKS = ON, ALLOW_PAGE_LOCKS = ON) \r\nON [PS_Int_Partition_tb_certificadoassistenciasClb]\r\n(id_certificadoassistencias)\r\nGO\r\n\r\n\r\n",
            "metadata": {},
            "outputs": [
                {
                    "output_type": "display_data",
                    "data": {
                        "text/html": "Commands completed successfully."
                    },
                    "metadata": {}
                },
                {
                    "output_type": "display_data",
                    "data": {
                        "text/html": "Total execution time: 00:00:00.0026288"
                    },
                    "metadata": {}
                },
                {
                    "output_type": "display_data",
                    "data": {
                        "text/html": "Commands completed successfully."
                    },
                    "metadata": {}
                },
                {
                    "output_type": "display_data",
                    "data": {
                        "text/html": "Total execution time: 00:00:13.2107021"
                    },
                    "metadata": {}
                }
            ],
            "execution_count": 18
        },
        {
            "cell_type": "markdown",
            "source": "-- Habilitar as estatisticas incrementais na tabela com o nome indice",
            "metadata": {}
        },
        {
            "cell_type": "code",
            "source": "USE\r\nDLKMUMPS\r\nGO\r\nALTER INDEX PK_tb_certificadoassistenciasClb ON [dlkmumps].[tb_certificadoassistenciasClb] REBUILD WITH (STATISTICS_INCREMENTAL=ON)",
            "metadata": {},
            "outputs": [
                {
                    "output_type": "display_data",
                    "data": {
                        "text/html": "Commands completed successfully."
                    },
                    "metadata": {}
                },
                {
                    "output_type": "display_data",
                    "data": {
                        "text/html": "Total execution time: 00:00:00.0020000"
                    },
                    "metadata": {}
                },
                {
                    "output_type": "display_data",
                    "data": {
                        "text/html": "Commands completed successfully."
                    },
                    "metadata": {}
                },
                {
                    "output_type": "display_data",
                    "data": {
                        "text/html": "Total execution time: 00:00:02.8312107"
                    },
                    "metadata": {}
                }
            ],
            "execution_count": 19
        },
        {
            "cell_type": "markdown",
            "source": "-- Verificar com que está as fronteiras dos indices",
            "metadata": {}
        },
        {
            "cell_type": "code",
            "source": "use\r\nDLKMUMPS\r\nGO\r\n\r\n\r\nDECLARE @tablename varchar(50)\r\nset @tablename = 'tb_certificadoassistenciasClb'\r\n\r\nDECLARE @schemaname varchar(50)\r\n\r\nset @schemaname = 'dlkmumps'\r\n\r\nSELECT s.NAME AS 'schema'\r\n       , o.NAME AS 'table'\r\n       , CASE o.type\r\n             WHEN 'v' THEN 'View'\r\n             WHEN 'u' THEN 'Table'\r\n             ELSE o.type\r\n         END AS objecttype\r\n       , i.NAME AS indexname\r\n       , i.type_desc\r\n       , p.data_compression_desc\r\n       , ds.type_desc AS DataSpaceTypeDesc\r\n       , p.partition_number\r\n       , pf.NAME AS pf_name\r\n       , ps.NAME AS ps_name\r\n       , CASE\r\n             WHEN partitionds.NAME IS NULL THEN ds.NAME\r\n             ELSE partitionds.NAME\r\n         END AS partition_fg\r\n       , i.is_primary_key\r\n       , i.is_unique\r\n       , p.rows\r\nFROM   sys.indexes i\r\n       INNER JOIN sys.objects o\r\n               ON o.object_id = i.object_id\r\n       INNER JOIN sys.data_spaces ds\r\n               ON DS.data_space_id = i.data_space_id\r\n       LEFT JOIN sys.schemas s\r\n              ON o.schema_id = s.schema_id\r\n       LEFT JOIN sys.partitions p\r\n              ON i.index_id  = p.index_id\r\n             AND i.object_id = p.object_id\r\n       LEFT JOIN sys.destination_data_spaces dds\r\n              ON i.data_space_id    = dds.partition_scheme_id\r\n             AND p.partition_number = dds.destination_id\r\n       LEFT JOIN sys.data_spaces partitionds\r\n              ON dds.data_space_id = partitionds.data_space_id\r\n       LEFT JOIN sys.partition_schemes AS ps\r\n              ON dds.partition_scheme_id = ps.data_space_id\r\n       LEFT JOIN sys.partition_functions AS pf\r\n              ON ps.function_id = pf.function_id\r\nWHERE  o.NAME = @tablename\r\nand    s.NAME = @schemaname\r\nORDER  BY s.NAME\r\n          , o.NAME\r\n          , i.NAME\r\n          , p.partition_number\r\nGO",
            "metadata": {},
            "outputs": [
                {
                    "output_type": "display_data",
                    "data": {
                        "text/html": "Commands completed successfully."
                    },
                    "metadata": {}
                },
                {
                    "output_type": "display_data",
                    "data": {
                        "text/html": "Total execution time: 00:00:00.0159281"
                    },
                    "metadata": {}
                },
                {
                    "output_type": "display_data",
                    "data": {
                        "text/html": "(10 rows affected)"
                    },
                    "metadata": {}
                },
                {
                    "output_type": "display_data",
                    "data": {
                        "text/html": "Total execution time: 00:00:00.1257430"
                    },
                    "metadata": {}
                },
                {
                    "output_type": "execute_result",
                    "metadata": {},
                    "execution_count": 20,
                    "data": {
                        "application/vnd.dataresource+json": {
                            "schema": {
                                "fields": [
                                    {
                                        "name": "schema"
                                    },
                                    {
                                        "name": "table"
                                    },
                                    {
                                        "name": "objecttype"
                                    },
                                    {
                                        "name": "indexname"
                                    },
                                    {
                                        "name": "type_desc"
                                    },
                                    {
                                        "name": "data_compression_desc"
                                    },
                                    {
                                        "name": "DataSpaceTypeDesc"
                                    },
                                    {
                                        "name": "partition_number"
                                    },
                                    {
                                        "name": "pf_name"
                                    },
                                    {
                                        "name": "ps_name"
                                    },
                                    {
                                        "name": "partition_fg"
                                    },
                                    {
                                        "name": "is_primary_key"
                                    },
                                    {
                                        "name": "is_unique"
                                    },
                                    {
                                        "name": "rows"
                                    }
                                ]
                            },
                            "data": [
                                {
                                    "0": "dlkmumps",
                                    "1": "tb_certificadoassistenciasClb",
                                    "2": "Table",
                                    "3": "PK_tb_certificadoassistenciasClb",
                                    "4": "CLUSTERED",
                                    "5": "NONE",
                                    "6": "PARTITION_SCHEME",
                                    "7": "1",
                                    "8": "PF_Int_Partition_tb_certificadoassistenciasClb",
                                    "9": "PS_Int_Partition_tb_certificadoassistenciasClb",
                                    "10": "FG_Particionamento_01",
                                    "11": "1",
                                    "12": "1",
                                    "13": "1820189"
                                },
                                {
                                    "0": "dlkmumps",
                                    "1": "tb_certificadoassistenciasClb",
                                    "2": "Table",
                                    "3": "PK_tb_certificadoassistenciasClb",
                                    "4": "CLUSTERED",
                                    "5": "NONE",
                                    "6": "PARTITION_SCHEME",
                                    "7": "2",
                                    "8": "PF_Int_Partition_tb_certificadoassistenciasClb",
                                    "9": "PS_Int_Partition_tb_certificadoassistenciasClb",
                                    "10": "FG_Particionamento_02",
                                    "11": "1",
                                    "12": "1",
                                    "13": "0"
                                },
                                {
                                    "0": "dlkmumps",
                                    "1": "tb_certificadoassistenciasClb",
                                    "2": "Table",
                                    "3": "PK_tb_certificadoassistenciasClb",
                                    "4": "CLUSTERED",
                                    "5": "NONE",
                                    "6": "PARTITION_SCHEME",
                                    "7": "3",
                                    "8": "PF_Int_Partition_tb_certificadoassistenciasClb",
                                    "9": "PS_Int_Partition_tb_certificadoassistenciasClb",
                                    "10": "FG_Particionamento_03",
                                    "11": "1",
                                    "12": "1",
                                    "13": "0"
                                },
                                {
                                    "0": "dlkmumps",
                                    "1": "tb_certificadoassistenciasClb",
                                    "2": "Table",
                                    "3": "PK_tb_certificadoassistenciasClb",
                                    "4": "CLUSTERED",
                                    "5": "NONE",
                                    "6": "PARTITION_SCHEME",
                                    "7": "4",
                                    "8": "PF_Int_Partition_tb_certificadoassistenciasClb",
                                    "9": "PS_Int_Partition_tb_certificadoassistenciasClb",
                                    "10": "FG_Particionamento_04",
                                    "11": "1",
                                    "12": "1",
                                    "13": "0"
                                },
                                {
                                    "0": "dlkmumps",
                                    "1": "tb_certificadoassistenciasClb",
                                    "2": "Table",
                                    "3": "PK_tb_certificadoassistenciasClb",
                                    "4": "CLUSTERED",
                                    "5": "NONE",
                                    "6": "PARTITION_SCHEME",
                                    "7": "5",
                                    "8": "PF_Int_Partition_tb_certificadoassistenciasClb",
                                    "9": "PS_Int_Partition_tb_certificadoassistenciasClb",
                                    "10": "FG_Particionamento_05",
                                    "11": "1",
                                    "12": "1",
                                    "13": "0"
                                },
                                {
                                    "0": "dlkmumps",
                                    "1": "tb_certificadoassistenciasClb",
                                    "2": "Table",
                                    "3": "PK_tb_certificadoassistenciasClb",
                                    "4": "CLUSTERED",
                                    "5": "NONE",
                                    "6": "PARTITION_SCHEME",
                                    "7": "6",
                                    "8": "PF_Int_Partition_tb_certificadoassistenciasClb",
                                    "9": "PS_Int_Partition_tb_certificadoassistenciasClb",
                                    "10": "FG_Particionamento_06",
                                    "11": "1",
                                    "12": "1",
                                    "13": "0"
                                },
                                {
                                    "0": "dlkmumps",
                                    "1": "tb_certificadoassistenciasClb",
                                    "2": "Table",
                                    "3": "PK_tb_certificadoassistenciasClb",
                                    "4": "CLUSTERED",
                                    "5": "NONE",
                                    "6": "PARTITION_SCHEME",
                                    "7": "7",
                                    "8": "PF_Int_Partition_tb_certificadoassistenciasClb",
                                    "9": "PS_Int_Partition_tb_certificadoassistenciasClb",
                                    "10": "FG_Particionamento_07",
                                    "11": "1",
                                    "12": "1",
                                    "13": "0"
                                },
                                {
                                    "0": "dlkmumps",
                                    "1": "tb_certificadoassistenciasClb",
                                    "2": "Table",
                                    "3": "PK_tb_certificadoassistenciasClb",
                                    "4": "CLUSTERED",
                                    "5": "NONE",
                                    "6": "PARTITION_SCHEME",
                                    "7": "8",
                                    "8": "PF_Int_Partition_tb_certificadoassistenciasClb",
                                    "9": "PS_Int_Partition_tb_certificadoassistenciasClb",
                                    "10": "FG_Particionamento_08",
                                    "11": "1",
                                    "12": "1",
                                    "13": "0"
                                },
                                {
                                    "0": "dlkmumps",
                                    "1": "tb_certificadoassistenciasClb",
                                    "2": "Table",
                                    "3": "PK_tb_certificadoassistenciasClb",
                                    "4": "CLUSTERED",
                                    "5": "NONE",
                                    "6": "PARTITION_SCHEME",
                                    "7": "9",
                                    "8": "PF_Int_Partition_tb_certificadoassistenciasClb",
                                    "9": "PS_Int_Partition_tb_certificadoassistenciasClb",
                                    "10": "FG_Particionamento_09",
                                    "11": "1",
                                    "12": "1",
                                    "13": "0"
                                },
                                {
                                    "0": "dlkmumps",
                                    "1": "tb_certificadoassistenciasClb",
                                    "2": "Table",
                                    "3": "PK_tb_certificadoassistenciasClb",
                                    "4": "CLUSTERED",
                                    "5": "NONE",
                                    "6": "PARTITION_SCHEME",
                                    "7": "10",
                                    "8": "PF_Int_Partition_tb_certificadoassistenciasClb",
                                    "9": "PS_Int_Partition_tb_certificadoassistenciasClb",
                                    "10": "FG_Particionamento_10",
                                    "11": "1",
                                    "12": "1",
                                    "13": "0"
                                }
                            ]
                        },
                        "text/html": "<table><tr><th>schema</th><th>table</th><th>objecttype</th><th>indexname</th><th>type_desc</th><th>data_compression_desc</th><th>DataSpaceTypeDesc</th><th>partition_number</th><th>pf_name</th><th>ps_name</th><th>partition_fg</th><th>is_primary_key</th><th>is_unique</th><th>rows</th></tr><tr><td>dlkmumps</td><td>tb_certificadoassistenciasClb</td><td>Table</td><td>PK_tb_certificadoassistenciasClb</td><td>CLUSTERED</td><td>NONE</td><td>PARTITION_SCHEME</td><td>1</td><td>PF_Int_Partition_tb_certificadoassistenciasClb</td><td>PS_Int_Partition_tb_certificadoassistenciasClb</td><td>FG_Particionamento_01</td><td>1</td><td>1</td><td>1820189</td></tr><tr><td>dlkmumps</td><td>tb_certificadoassistenciasClb</td><td>Table</td><td>PK_tb_certificadoassistenciasClb</td><td>CLUSTERED</td><td>NONE</td><td>PARTITION_SCHEME</td><td>2</td><td>PF_Int_Partition_tb_certificadoassistenciasClb</td><td>PS_Int_Partition_tb_certificadoassistenciasClb</td><td>FG_Particionamento_02</td><td>1</td><td>1</td><td>0</td></tr><tr><td>dlkmumps</td><td>tb_certificadoassistenciasClb</td><td>Table</td><td>PK_tb_certificadoassistenciasClb</td><td>CLUSTERED</td><td>NONE</td><td>PARTITION_SCHEME</td><td>3</td><td>PF_Int_Partition_tb_certificadoassistenciasClb</td><td>PS_Int_Partition_tb_certificadoassistenciasClb</td><td>FG_Particionamento_03</td><td>1</td><td>1</td><td>0</td></tr><tr><td>dlkmumps</td><td>tb_certificadoassistenciasClb</td><td>Table</td><td>PK_tb_certificadoassistenciasClb</td><td>CLUSTERED</td><td>NONE</td><td>PARTITION_SCHEME</td><td>4</td><td>PF_Int_Partition_tb_certificadoassistenciasClb</td><td>PS_Int_Partition_tb_certificadoassistenciasClb</td><td>FG_Particionamento_04</td><td>1</td><td>1</td><td>0</td></tr><tr><td>dlkmumps</td><td>tb_certificadoassistenciasClb</td><td>Table</td><td>PK_tb_certificadoassistenciasClb</td><td>CLUSTERED</td><td>NONE</td><td>PARTITION_SCHEME</td><td>5</td><td>PF_Int_Partition_tb_certificadoassistenciasClb</td><td>PS_Int_Partition_tb_certificadoassistenciasClb</td><td>FG_Particionamento_05</td><td>1</td><td>1</td><td>0</td></tr><tr><td>dlkmumps</td><td>tb_certificadoassistenciasClb</td><td>Table</td><td>PK_tb_certificadoassistenciasClb</td><td>CLUSTERED</td><td>NONE</td><td>PARTITION_SCHEME</td><td>6</td><td>PF_Int_Partition_tb_certificadoassistenciasClb</td><td>PS_Int_Partition_tb_certificadoassistenciasClb</td><td>FG_Particionamento_06</td><td>1</td><td>1</td><td>0</td></tr><tr><td>dlkmumps</td><td>tb_certificadoassistenciasClb</td><td>Table</td><td>PK_tb_certificadoassistenciasClb</td><td>CLUSTERED</td><td>NONE</td><td>PARTITION_SCHEME</td><td>7</td><td>PF_Int_Partition_tb_certificadoassistenciasClb</td><td>PS_Int_Partition_tb_certificadoassistenciasClb</td><td>FG_Particionamento_07</td><td>1</td><td>1</td><td>0</td></tr><tr><td>dlkmumps</td><td>tb_certificadoassistenciasClb</td><td>Table</td><td>PK_tb_certificadoassistenciasClb</td><td>CLUSTERED</td><td>NONE</td><td>PARTITION_SCHEME</td><td>8</td><td>PF_Int_Partition_tb_certificadoassistenciasClb</td><td>PS_Int_Partition_tb_certificadoassistenciasClb</td><td>FG_Particionamento_08</td><td>1</td><td>1</td><td>0</td></tr><tr><td>dlkmumps</td><td>tb_certificadoassistenciasClb</td><td>Table</td><td>PK_tb_certificadoassistenciasClb</td><td>CLUSTERED</td><td>NONE</td><td>PARTITION_SCHEME</td><td>9</td><td>PF_Int_Partition_tb_certificadoassistenciasClb</td><td>PS_Int_Partition_tb_certificadoassistenciasClb</td><td>FG_Particionamento_09</td><td>1</td><td>1</td><td>0</td></tr><tr><td>dlkmumps</td><td>tb_certificadoassistenciasClb</td><td>Table</td><td>PK_tb_certificadoassistenciasClb</td><td>CLUSTERED</td><td>NONE</td><td>PARTITION_SCHEME</td><td>10</td><td>PF_Int_Partition_tb_certificadoassistenciasClb</td><td>PS_Int_Partition_tb_certificadoassistenciasClb</td><td>FG_Particionamento_10</td><td>1</td><td>1</td><td>0</td></tr></table>"
                    }
                }
            ],
            "execution_count": 20
        },
        {
            "cell_type": "markdown",
            "source": "-- Voltar com a tabela original para o processo de CDC\r\n\r\n-- Referência importante, pois em situações onde for usada o partition Switch, Merge, etc, pode acarretar em inconsistências de dados sendo necessário refazer o CDC.\r\n\r\nhttps://docs.microsoft.com/pt-br/sql/relational-databases/system-stored-procedures/sys-sp-cdc-enable-table-transact-sql?view=sql-server-ver15",
            "metadata": {}
        },
        {
            "cell_type": "code",
            "source": "USE\r\nDLKMUMPS\r\nGO\r\n\r\nEXEC sys.sp_cdc_enable_table  \r\n@source_schema = N'dlkmumps',  \r\n@source_name   = N'tb_certificadoassistenciasClb',  \r\n@role_name     = NULL,\r\n@supports_net_changes = 1  \r\n",
            "metadata": {},
            "outputs": [
                {
                    "output_type": "display_data",
                    "data": {
                        "text/html": "Commands completed successfully."
                    },
                    "metadata": {}
                },
                {
                    "output_type": "display_data",
                    "data": {
                        "text/html": "Total execution time: 00:00:00.0103879"
                    },
                    "metadata": {}
                },
                {
                    "output_type": "display_data",
                    "data": {
                        "text/html": "Warning: The @allow_partition_switch parameter is set to 1. Change data capture will not track changes introduced in the table resulting from a partition switch which will cause data inconsistency when changes are consumed. Refer to books online for more information about partition switching behavior when using Change Data Capture."
                    },
                    "metadata": {}
                },
                {
                    "output_type": "display_data",
                    "data": {
                        "text/html": "Total execution time: 00:00:01.2231950"
                    },
                    "metadata": {}
                }
            ],
            "execution_count": 21
        },
        {
            "cell_type": "code",
            "source": "select id_certificadoassistencias from dlkmumps.tb_certificadoassistenciasClb\r\nwhere id_certificadoassistencias = 80000000",
            "metadata": {},
            "outputs": [],
            "execution_count": 0
        }
    ]
}